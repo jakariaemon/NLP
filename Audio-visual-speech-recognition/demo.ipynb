{
  "cells": [
    {
      "cell_type": "code",
      "execution_count": 1,
      "id": "0ce9584b",
      "metadata": {
        "id": "0ce9584b",
        "outputId": "74f3923b-bac6-4d59-9791-2dcceaf0f649",
        "colab": {
          "base_uri": "https://localhost:8080/"
        }
      },
      "outputs": [
        {
          "output_type": "stream",
          "name": "stdout",
          "text": [
            "Looking in indexes: https://pypi.org/simple, https://us-python.pkg.dev/colab-wheels/public/simple/\n",
            "Collecting functorch\n",
            "  Downloading functorch-0.2.1-cp37-cp37m-manylinux1_x86_64.whl (20.6 MB)\n",
            "\u001b[K     |████████████████████████████████| 20.6 MB 1.2 MB/s \n",
            "\u001b[?25hRequirement already satisfied: torch<1.13,>=1.12.1 in /usr/local/lib/python3.7/dist-packages (from functorch) (1.12.1+cu113)\n",
            "Requirement already satisfied: typing-extensions in /usr/local/lib/python3.7/dist-packages (from torch<1.13,>=1.12.1->functorch) (4.1.1)\n",
            "Installing collected packages: functorch\n",
            "Successfully installed functorch-0.2.1\n",
            "Looking in indexes: https://pypi.org/simple, https://us-python.pkg.dev/colab-wheels/public/simple/\n",
            "Requirement already satisfied: gym[classic_control] in /usr/local/lib/python3.7/dist-packages (0.25.2)\n",
            "Requirement already satisfied: numpy>=1.18.0 in /usr/local/lib/python3.7/dist-packages (from gym[classic_control]) (1.21.6)\n",
            "Requirement already satisfied: cloudpickle>=1.2.0 in /usr/local/lib/python3.7/dist-packages (from gym[classic_control]) (1.5.0)\n",
            "Requirement already satisfied: importlib-metadata>=4.8.0 in /usr/local/lib/python3.7/dist-packages (from gym[classic_control]) (4.12.0)\n",
            "Requirement already satisfied: gym-notices>=0.0.4 in /usr/local/lib/python3.7/dist-packages (from gym[classic_control]) (0.0.8)\n",
            "Collecting pygame==2.1.0\n",
            "  Downloading pygame-2.1.0-cp37-cp37m-manylinux_2_17_x86_64.manylinux2014_x86_64.whl (18.3 MB)\n",
            "\u001b[K     |████████████████████████████████| 18.3 MB 76 kB/s \n",
            "\u001b[?25hRequirement already satisfied: typing-extensions>=3.6.4 in /usr/local/lib/python3.7/dist-packages (from importlib-metadata>=4.8.0->gym[classic_control]) (4.1.1)\n",
            "Requirement already satisfied: zipp>=0.5 in /usr/local/lib/python3.7/dist-packages (from importlib-metadata>=4.8.0->gym[classic_control]) (3.8.1)\n",
            "Installing collected packages: pygame\n",
            "Successfully installed pygame-2.1.0\n",
            "Looking in indexes: https://pypi.org/simple, https://us-python.pkg.dev/colab-wheels/public/simple/\n",
            "Collecting torchrl\n",
            "  Downloading torchrl-0.0.2a0-cp37-cp37m-manylinux1_x86_64.whl (3.3 MB)\n",
            "\u001b[K     |████████████████████████████████| 3.3 MB 5.2 MB/s \n",
            "\u001b[?25hRequirement already satisfied: torch in /usr/local/lib/python3.7/dist-packages (from torchrl) (1.12.1+cu113)\n",
            "Requirement already satisfied: cloudpickle in /usr/local/lib/python3.7/dist-packages (from torchrl) (1.5.0)\n",
            "Requirement already satisfied: numpy in /usr/local/lib/python3.7/dist-packages (from torchrl) (1.21.6)\n",
            "Requirement already satisfied: packaging in /usr/local/lib/python3.7/dist-packages (from torchrl) (21.3)\n",
            "Requirement already satisfied: pyparsing!=3.0.5,>=2.0.2 in /usr/local/lib/python3.7/dist-packages (from packaging->torchrl) (3.0.9)\n",
            "Requirement already satisfied: typing-extensions in /usr/local/lib/python3.7/dist-packages (from torch->torchrl) (4.1.1)\n",
            "Installing collected packages: torchrl\n",
            "Successfully installed torchrl-0.0.2a0\n"
          ]
        }
      ],
      "source": [
        "!pip install functorch\n",
        "!pip install \"gym[classic_control]\"\n",
        "!pip install torchrl"
      ]
    },
    {
      "cell_type": "markdown",
      "id": "1af6372c-de8b-4435-92b4-53f95f4e5db5",
      "metadata": {
        "tags": [],
        "id": "1af6372c-de8b-4435-92b4-53f95f4e5db5"
      },
      "source": [
        "## Data\n",
        "### TensorDict"
      ]
    },
    {
      "cell_type": "code",
      "execution_count": 2,
      "id": "8a66580d-4ab5-4c64-a3c0-7af171603bbd",
      "metadata": {
        "id": "8a66580d-4ab5-4c64-a3c0-7af171603bbd"
      },
      "outputs": [],
      "source": [
        "import torch\n",
        "from torchrl.data import TensorDict"
      ]
    },
    {
      "cell_type": "code",
      "execution_count": 3,
      "id": "99bb0b39-fc81-4fcf-8de4-b115b1a49724",
      "metadata": {
        "id": "99bb0b39-fc81-4fcf-8de4-b115b1a49724",
        "outputId": "867b329c-5572-4376-eb6d-f4555ab62b70",
        "colab": {
          "base_uri": "https://localhost:8080/"
        }
      },
      "outputs": [
        {
          "output_type": "stream",
          "name": "stdout",
          "text": [
            "TensorDict(\n",
            "    fields={\n",
            "        key 1: Tensor(torch.Size([5, 3]), dtype=torch.float32),\n",
            "        key 2: Tensor(torch.Size([5, 5, 6]), dtype=torch.bool)},\n",
            "    batch_size=torch.Size([5]),\n",
            "    device=None,\n",
            "    is_shared=False)\n"
          ]
        }
      ],
      "source": [
        "# Creating a TensorDict\n",
        "batch_size = 5\n",
        "tensordict = TensorDict(source={\n",
        "    \"key 1\": torch.zeros(batch_size, 3),\n",
        "    \"key 2\": torch.zeros(batch_size, 5, 6, dtype=torch.bool)\n",
        "}, batch_size = [batch_size])\n",
        "print(tensordict)"
      ]
    },
    {
      "cell_type": "code",
      "execution_count": 4,
      "id": "8ef9a4f1-4682-41cb-b024-37770740d389",
      "metadata": {
        "id": "8ef9a4f1-4682-41cb-b024-37770740d389",
        "outputId": "5864a244-e9ec-468a-b1fd-e90d684b21b4",
        "colab": {
          "base_uri": "https://localhost:8080/"
        }
      },
      "outputs": [
        {
          "output_type": "execute_result",
          "data": {
            "text/plain": [
              "TensorDict(\n",
              "    fields={\n",
              "        key 1: Tensor(torch.Size([3]), dtype=torch.float32),\n",
              "        key 2: Tensor(torch.Size([5, 6]), dtype=torch.bool)},\n",
              "    batch_size=torch.Size([]),\n",
              "    device=None,\n",
              "    is_shared=False)"
            ]
          },
          "metadata": {},
          "execution_count": 4
        }
      ],
      "source": [
        "# indexing\n",
        "tensordict[2]"
      ]
    },
    {
      "cell_type": "code",
      "execution_count": 5,
      "id": "7e0c8f4a-29c8-4194-acf8-fce33eb21d3e",
      "metadata": {
        "id": "7e0c8f4a-29c8-4194-acf8-fce33eb21d3e",
        "outputId": "312ab3a1-d68b-4959-9748-cc0ce444f1f2",
        "colab": {
          "base_uri": "https://localhost:8080/"
        }
      },
      "outputs": [
        {
          "output_type": "execute_result",
          "data": {
            "text/plain": [
              "True"
            ]
          },
          "metadata": {},
          "execution_count": 5
        }
      ],
      "source": [
        "# querying keys\n",
        "tensordict[\"key 1\"] is tensordict.get(\"key 1\")"
      ]
    },
    {
      "cell_type": "code",
      "execution_count": 6,
      "id": "40aab986-6949-4b21-990c-1afa56eea914",
      "metadata": {
        "id": "40aab986-6949-4b21-990c-1afa56eea914",
        "outputId": "77bced01-3f4d-4750-f9bf-cd2792b1d658",
        "colab": {
          "base_uri": "https://localhost:8080/"
        }
      },
      "outputs": [
        {
          "output_type": "execute_result",
          "data": {
            "text/plain": [
              "(torch.Size([2, 5]), tensor([[[0.],\n",
              "          [0.],\n",
              "          [0.],\n",
              "          [0.],\n",
              "          [0.]],\n",
              " \n",
              "         [[1.],\n",
              "          [1.],\n",
              "          [1.],\n",
              "          [1.],\n",
              "          [1.]]]))"
            ]
          },
          "metadata": {},
          "execution_count": 6
        }
      ],
      "source": [
        "# Stacking tensordicts\n",
        "\n",
        "tensordict1 = TensorDict(source={\n",
        "    \"key 1\": torch.zeros(batch_size, 1),\n",
        "    \"key 2\": torch.zeros(batch_size, 5, 6, dtype=torch.bool)\n",
        "}, batch_size = [batch_size])\n",
        "\n",
        "tensordict2 = TensorDict(source={\n",
        "    \"key 1\": torch.ones(batch_size, 1),\n",
        "    \"key 2\": torch.ones(batch_size, 5, 6, dtype=torch.bool)\n",
        "}, batch_size = [batch_size])\n",
        "\n",
        "tensordict = torch.stack([tensordict1, tensordict2], 0)\n",
        "tensordict.batch_size, tensordict[\"key 1\"]"
      ]
    },
    {
      "cell_type": "code",
      "execution_count": 7,
      "id": "117ad9cb-9eec-4e50-9f26-03fe1f58ebf2",
      "metadata": {
        "id": "117ad9cb-9eec-4e50-9f26-03fe1f58ebf2",
        "outputId": "73f046c3-7933-4e73-bad2-58bc046d0b14",
        "colab": {
          "base_uri": "https://localhost:8080/"
        }
      },
      "outputs": [
        {
          "output_type": "stream",
          "name": "stdout",
          "text": [
            "view(-1):  torch.Size([10]) torch.Size([10, 1])\n",
            "to device:  TensorDict(\n",
            "    fields={\n",
            "        key 1: Tensor(torch.Size([2, 5, 1]), dtype=torch.float32),\n",
            "        key 2: Tensor(torch.Size([2, 5, 5, 6]), dtype=torch.bool)},\n",
            "    batch_size=torch.Size([2, 5]),\n",
            "    device=cpu,\n",
            "    is_shared=False)\n",
            "share memory:  LazyStackedTensorDict(\n",
            "    fields={\n",
            "        key 1: Tensor(torch.Size([2, 5, 1]), dtype=torch.float32),\n",
            "        key 2: Tensor(torch.Size([2, 5, 5, 6]), dtype=torch.bool)},\n",
            "    batch_size=torch.Size([2, 5]),\n",
            "    device=None,\n",
            "    is_shared=True)\n",
            "permute(1, 0):  torch.Size([5, 2]) torch.Size([5, 2, 1])\n",
            "expand:  torch.Size([3, 2, 5]) torch.Size([3, 2, 5, 1])\n"
          ]
        }
      ],
      "source": [
        "# Other functionalities\n",
        "print(\"view(-1): \", tensordict.view(-1).batch_size, tensordict.view(-1).get(\"key 1\").shape)\n",
        "\n",
        "print(\"to device: \", tensordict.to(\"cpu\"))\n",
        "\n",
        "# print(\"pin_memory: \", tensordict.pin_memory())\n",
        "\n",
        "print(\"share memory: \", tensordict.share_memory_())\n",
        "\n",
        "print(\"permute(1, 0): \", \n",
        "      tensordict.permute(1, 0).batch_size, \n",
        "      tensordict.permute(1, 0).get(\"key 1\").shape)\n",
        "\n",
        "print(\"expand: \", \n",
        "      tensordict.expand(3, *tensordict.batch_size).batch_size, \n",
        "      tensordict.expand(3, *tensordict.batch_size).get(\"key 1\").shape)"
      ]
    },
    {
      "cell_type": "markdown",
      "id": "4bb26d8d-399f-498f-af7a-cf16597636d1",
      "metadata": {
        "id": "4bb26d8d-399f-498f-af7a-cf16597636d1"
      },
      "source": [
        "#### Nested tensordict"
      ]
    },
    {
      "cell_type": "code",
      "execution_count": 8,
      "id": "ac43369a-5bb7-45e8-afc0-8df76be1450e",
      "metadata": {
        "id": "ac43369a-5bb7-45e8-afc0-8df76be1450e",
        "outputId": "5db40402-24c1-43e8-ed8d-c8c23d1d00ce",
        "colab": {
          "base_uri": "https://localhost:8080/"
        }
      },
      "outputs": [
        {
          "output_type": "execute_result",
          "data": {
            "text/plain": [
              "TensorDict(\n",
              "    fields={\n",
              "        key 1: Tensor(torch.Size([5, 3]), dtype=torch.float32),\n",
              "        key 2: TensorDict(\n",
              "            fields={\n",
              "                sub-key 1: Tensor(torch.Size([5, 2, 1]), dtype=torch.float32)},\n",
              "            batch_size=torch.Size([5, 2]),\n",
              "            device=None,\n",
              "            is_shared=False)},\n",
              "    batch_size=torch.Size([5]),\n",
              "    device=None,\n",
              "    is_shared=False)"
            ]
          },
          "metadata": {},
          "execution_count": 8
        }
      ],
      "source": [
        "tensordict = TensorDict(source={\n",
        "    \"key 1\": torch.zeros(batch_size, 3),\n",
        "    \"key 2\": TensorDict(source={\n",
        "        \"sub-key 1\": torch.zeros(batch_size, 2, 1)\n",
        "    }, batch_size=[batch_size, 2])\n",
        "}, batch_size = [batch_size])\n",
        "tensordict"
      ]
    },
    {
      "cell_type": "markdown",
      "id": "e94f6a8d-2429-45c8-9d50-abebef682836",
      "metadata": {
        "id": "e94f6a8d-2429-45c8-9d50-abebef682836"
      },
      "source": [
        "### Replay buffers"
      ]
    },
    {
      "cell_type": "code",
      "execution_count": 9,
      "id": "f123c7f1-fa92-491d-97c8-c5d82f556003",
      "metadata": {
        "id": "f123c7f1-fa92-491d-97c8-c5d82f556003"
      },
      "outputs": [],
      "source": [
        "from torchrl.data import ReplayBuffer, PrioritizedReplayBuffer"
      ]
    },
    {
      "cell_type": "code",
      "execution_count": 10,
      "id": "ddbdd51d-a36f-4b07-b3c4-6699ca813835",
      "metadata": {
        "id": "ddbdd51d-a36f-4b07-b3c4-6699ca813835",
        "outputId": "717f2cbf-deb7-4816-f20b-c6264b4d9db0",
        "colab": {
          "base_uri": "https://localhost:8080/"
        }
      },
      "outputs": [
        {
          "output_type": "execute_result",
          "data": {
            "text/plain": [
              "[1]"
            ]
          },
          "metadata": {},
          "execution_count": 10
        }
      ],
      "source": [
        "rb = ReplayBuffer(100, collate_fn=lambda x: x)\n",
        "rb.add(1)\n",
        "rb.sample(1)"
      ]
    },
    {
      "cell_type": "code",
      "execution_count": 11,
      "id": "d5254dd2-a2be-42cb-8304-a14324a51a2c",
      "metadata": {
        "id": "d5254dd2-a2be-42cb-8304-a14324a51a2c",
        "outputId": "657229eb-0ba2-4316-8e31-53772860b3b9",
        "colab": {
          "base_uri": "https://localhost:8080/"
        }
      },
      "outputs": [
        {
          "output_type": "execute_result",
          "data": {
            "text/plain": [
              "[3, 1, 1]"
            ]
          },
          "metadata": {},
          "execution_count": 11
        }
      ],
      "source": [
        "rb.extend([2, 3])\n",
        "rb.sample(3)"
      ]
    },
    {
      "cell_type": "code",
      "execution_count": 12,
      "id": "e607eb52-b55e-4416-93fc-a4aa400c47cc",
      "metadata": {
        "id": "e607eb52-b55e-4416-93fc-a4aa400c47cc"
      },
      "outputs": [],
      "source": [
        "rb = PrioritizedReplayBuffer(100, alpha=0.7, beta=1.1, collate_fn=lambda x: x)\n",
        "rb.add(1)\n",
        "rb.sample(1)\n",
        "rb.update_priority(1, 0.5)"
      ]
    },
    {
      "cell_type": "markdown",
      "id": "50f43a07-d7bb-4bfc-8c11-c5eb4ae0caf7",
      "metadata": {
        "id": "50f43a07-d7bb-4bfc-8c11-c5eb4ae0caf7"
      },
      "source": [
        "#### working with tensordicts"
      ]
    },
    {
      "cell_type": "code",
      "execution_count": 13,
      "id": "8ec9461d-afa4-4d35-ab04-6f66ac0e4036",
      "metadata": {
        "id": "8ec9461d-afa4-4d35-ab04-6f66ac0e4036",
        "outputId": "c25c83ef-9dbe-42af-d1b7-669c9176e168",
        "colab": {
          "base_uri": "https://localhost:8080/"
        }
      },
      "outputs": [
        {
          "output_type": "execute_result",
          "data": {
            "text/plain": [
              "1"
            ]
          },
          "metadata": {},
          "execution_count": 13
        }
      ],
      "source": [
        "\n",
        "collate_fn = torch.stack\n",
        "rb = ReplayBuffer(100, collate_fn=collate_fn)\n",
        "rb.add(TensorDict({\"a\": torch.randn(3)}, batch_size=[]))\n",
        "len(rb)"
      ]
    },
    {
      "cell_type": "code",
      "execution_count": 14,
      "id": "68d94666-3724-41a4-b888-e8d4bd75f853",
      "metadata": {
        "id": "68d94666-3724-41a4-b888-e8d4bd75f853",
        "outputId": "b2f2b616-51bf-4061-9267-78f50d6d6af3",
        "colab": {
          "base_uri": "https://localhost:8080/"
        }
      },
      "outputs": [
        {
          "output_type": "execute_result",
          "data": {
            "text/plain": [
              "3"
            ]
          },
          "metadata": {},
          "execution_count": 14
        }
      ],
      "source": [
        "rb.extend(TensorDict({\"a\": torch.randn(2, 3)}, batch_size=[2]))\n",
        "len(rb)"
      ]
    },
    {
      "cell_type": "code",
      "execution_count": 15,
      "id": "6a808673-0682-48f0-bf27-749c2bff753c",
      "metadata": {
        "id": "6a808673-0682-48f0-bf27-749c2bff753c",
        "outputId": "d9444bdf-590d-4428-95aa-8bd73cd86c9e",
        "colab": {
          "base_uri": "https://localhost:8080/"
        }
      },
      "outputs": [
        {
          "output_type": "execute_result",
          "data": {
            "text/plain": [
              "LazyStackedTensorDict(\n",
              "    fields={\n",
              "        a: Tensor(torch.Size([10, 3]), dtype=torch.float32)},\n",
              "    batch_size=torch.Size([10]),\n",
              "    device=None,\n",
              "    is_shared=False)"
            ]
          },
          "metadata": {},
          "execution_count": 15
        }
      ],
      "source": [
        "rb.sample(10)"
      ]
    },
    {
      "cell_type": "code",
      "execution_count": 16,
      "id": "e79c254c-44d4-451b-ac76-733b38dd095e",
      "metadata": {
        "id": "e79c254c-44d4-451b-ac76-733b38dd095e",
        "outputId": "df22f13f-db9d-43e3-9e85-aa5eefe5a7f5",
        "colab": {
          "base_uri": "https://localhost:8080/"
        }
      },
      "outputs": [
        {
          "output_type": "execute_result",
          "data": {
            "text/plain": [
              "TensorDict(\n",
              "    fields={\n",
              "        a: Tensor(torch.Size([2, 3]), dtype=torch.float32)},\n",
              "    batch_size=torch.Size([2]),\n",
              "    device=None,\n",
              "    is_shared=False)"
            ]
          },
          "metadata": {},
          "execution_count": 16
        }
      ],
      "source": [
        "rb.sample(2).contiguous()"
      ]
    },
    {
      "cell_type": "code",
      "execution_count": 17,
      "id": "eb833a0f-01b9-4222-8239-cc8a7698b66d",
      "metadata": {
        "id": "eb833a0f-01b9-4222-8239-cc8a7698b66d",
        "outputId": "ddc445cf-c2af-4a40-fab4-44d5934c4347",
        "colab": {
          "base_uri": "https://localhost:8080/"
        }
      },
      "outputs": [
        {
          "output_type": "execute_result",
          "data": {
            "text/plain": [
              "TensorDict(\n",
              "    fields={\n",
              "        a: Tensor(torch.Size([2, 3]), dtype=torch.float32),\n",
              "        index: Tensor(torch.Size([2, 1]), dtype=torch.int32)},\n",
              "    batch_size=torch.Size([2]),\n",
              "    device=None,\n",
              "    is_shared=False)"
            ]
          },
          "metadata": {},
          "execution_count": 17
        }
      ],
      "source": [
        "torch.manual_seed(0)\n",
        "from torchrl.data import TensorDictPrioritizedReplayBuffer\n",
        "rb = TensorDictPrioritizedReplayBuffer(100, alpha=0.7, beta=1.1, priority_key=\"td_error\")\n",
        "rb.extend(TensorDict({\"a\": torch.randn(2, 3)}, batch_size=[2]))\n",
        "tensordict_sample = rb.sample(2).contiguous()\n",
        "tensordict_sample"
      ]
    },
    {
      "cell_type": "code",
      "execution_count": 18,
      "id": "1e029dc1-e5d0-4b7f-99fe-7f416725bdf2",
      "metadata": {
        "id": "1e029dc1-e5d0-4b7f-99fe-7f416725bdf2",
        "outputId": "96ac2c05-be1b-4830-c4b7-096b76503620",
        "colab": {
          "base_uri": "https://localhost:8080/"
        }
      },
      "outputs": [
        {
          "output_type": "execute_result",
          "data": {
            "text/plain": [
              "tensor([[1],\n",
              "        [0]], dtype=torch.int32)"
            ]
          },
          "metadata": {},
          "execution_count": 18
        }
      ],
      "source": [
        "tensordict_sample[\"index\"]"
      ]
    },
    {
      "cell_type": "code",
      "execution_count": 19,
      "id": "70017242-5396-4319-905b-40e483b0f96f",
      "metadata": {
        "id": "70017242-5396-4319-905b-40e483b0f96f"
      },
      "outputs": [],
      "source": [
        "tensordict_sample[\"td_error\"] = torch.rand(2)\n",
        "rb.update_priority(tensordict_sample)"
      ]
    },
    {
      "cell_type": "code",
      "execution_count": 20,
      "id": "6e64849c-f1c7-42d1-8d31-6fc7bece6e30",
      "metadata": {
        "id": "6e64849c-f1c7-42d1-8d31-6fc7bece6e30",
        "outputId": "0f845dfd-5632-4cd9-80fc-fd40bd309725",
        "colab": {
          "base_uri": "https://localhost:8080/"
        }
      },
      "outputs": [
        {
          "output_type": "stream",
          "name": "stdout",
          "text": [
            "0 0.28791671991348267\n",
            "1 0.06984968483448029\n",
            "2 0.0\n"
          ]
        }
      ],
      "source": [
        "for i, val in enumerate(rb._sum_tree):\n",
        "    print(i, val)\n",
        "    if i == len(rb):\n",
        "        break"
      ]
    },
    {
      "cell_type": "markdown",
      "id": "c1a6d60d-3de1-43f9-a498-337abb98de1d",
      "metadata": {
        "id": "c1a6d60d-3de1-43f9-a498-337abb98de1d"
      },
      "source": [
        "## Envs"
      ]
    },
    {
      "cell_type": "code",
      "execution_count": 21,
      "id": "2bde26db-1880-4fcb-bd1d-f90420317b3d",
      "metadata": {
        "id": "2bde26db-1880-4fcb-bd1d-f90420317b3d",
        "outputId": "97d4cd2e-13a5-49d1-99a5-f44653242b0a",
        "colab": {
          "base_uri": "https://localhost:8080/"
        }
      },
      "outputs": [
        {
          "output_type": "stream",
          "name": "stdout",
          "text": [
            "Discarding frameskip arg. This will be taken care of by TorchRL env wrapper.\n"
          ]
        },
        {
          "output_type": "stream",
          "name": "stderr",
          "text": [
            "/usr/local/lib/python3.7/dist-packages/gym/core.py:318: DeprecationWarning: \u001b[33mWARN: Initializing wrapper in old step API which returns one bool instead of two. It is recommended to set `new_step_api=True` to use new step API. This will be the default behaviour in future.\u001b[0m\n",
            "  \"Initializing wrapper in old step API which returns one bool instead of two. It is recommended to set `new_step_api=True` to use new step API. This will be the default behaviour in future.\"\n",
            "/usr/local/lib/python3.7/dist-packages/gym/wrappers/step_api_compatibility.py:40: DeprecationWarning: \u001b[33mWARN: Initializing environment in old step API which returns one bool instead of two. It is recommended to set `new_step_api=True` to use new step API. This will be the default behaviour in future.\u001b[0m\n",
            "  \"Initializing environment in old step API which returns one bool instead of two. It is recommended to set `new_step_api=True` to use new step API. This will be the default behaviour in future.\"\n"
          ]
        }
      ],
      "source": [
        "from torchrl.envs.libs.gym import GymWrapper, GymEnv\n",
        "import gym\n",
        "\n",
        "gym_env = gym.make(\"Pendulum-v1\")\n",
        "env = GymWrapper(gym_env)\n",
        "env = GymEnv(\"Pendulum-v1\")"
      ]
    },
    {
      "cell_type": "code",
      "execution_count": 22,
      "id": "92441513-0e7e-424c-bd92-348febfb6875",
      "metadata": {
        "id": "92441513-0e7e-424c-bd92-348febfb6875"
      },
      "outputs": [],
      "source": [
        "tensordict = env.reset()"
      ]
    },
    {
      "cell_type": "code",
      "execution_count": 23,
      "id": "ba2264a4-0cad-4f68-93bb-841365e468f1",
      "metadata": {
        "id": "ba2264a4-0cad-4f68-93bb-841365e468f1",
        "outputId": "fc056b3a-43bd-421f-9255-8f8c39aceb97",
        "colab": {
          "base_uri": "https://localhost:8080/"
        }
      },
      "outputs": [
        {
          "output_type": "execute_result",
          "data": {
            "text/plain": [
              "TensorDict(\n",
              "    fields={\n",
              "        action: Tensor(torch.Size([1]), dtype=torch.float32),\n",
              "        done: Tensor(torch.Size([1]), dtype=torch.bool),\n",
              "        next_observation: Tensor(torch.Size([3]), dtype=torch.float32),\n",
              "        observation: Tensor(torch.Size([3]), dtype=torch.float32),\n",
              "        reward: Tensor(torch.Size([1]), dtype=torch.float32)},\n",
              "    batch_size=torch.Size([]),\n",
              "    device=cpu,\n",
              "    is_shared=False)"
            ]
          },
          "metadata": {},
          "execution_count": 23
        }
      ],
      "source": [
        "env.rand_step(tensordict)"
      ]
    },
    {
      "cell_type": "markdown",
      "id": "1b01aebe-3517-41bf-9247-bc5f7bc44b7a",
      "metadata": {
        "id": "1b01aebe-3517-41bf-9247-bc5f7bc44b7a"
      },
      "source": [
        "### changing environments config"
      ]
    },
    {
      "cell_type": "code",
      "execution_count": 24,
      "id": "8296f4f9-9947-4053-a681-064eca21c2d9",
      "metadata": {
        "id": "8296f4f9-9947-4053-a681-064eca21c2d9",
        "outputId": "f48e735f-bb8f-46f6-aafa-c5c45ee0bf59",
        "colab": {
          "base_uri": "https://localhost:8080/"
        }
      },
      "outputs": [
        {
          "output_type": "stream",
          "name": "stdout",
          "text": [
            "Discarding frameskip arg. This will be taken care of by TorchRL env wrapper.\n"
          ]
        },
        {
          "output_type": "execute_result",
          "data": {
            "text/plain": [
              "TensorDict(\n",
              "    fields={\n",
              "        done: Tensor(torch.Size([1]), dtype=torch.bool),\n",
              "        pixels: Tensor(torch.Size([500, 500, 3]), dtype=torch.uint8),\n",
              "        state: Tensor(torch.Size([3]), dtype=torch.float32)},\n",
              "    batch_size=torch.Size([]),\n",
              "    device=cpu,\n",
              "    is_shared=False)"
            ]
          },
          "metadata": {},
          "execution_count": 24
        }
      ],
      "source": [
        "env = GymEnv(\"Pendulum-v1\", frame_skip=3, from_pixels=True, pixels_only=False)\n",
        "env.reset()"
      ]
    },
    {
      "cell_type": "code",
      "execution_count": 25,
      "id": "bb91ba2f-158e-4bcd-bc37-c8601da92384",
      "metadata": {
        "id": "bb91ba2f-158e-4bcd-bc37-c8601da92384"
      },
      "outputs": [],
      "source": [
        "env.close()\n",
        "del env"
      ]
    },
    {
      "cell_type": "code",
      "execution_count": 26,
      "id": "05d14d70-3307-40df-a190-3c48b767feca",
      "metadata": {
        "id": "05d14d70-3307-40df-a190-3c48b767feca",
        "outputId": "9614e3f4-e6b3-418e-eb34-70bf09b444de",
        "colab": {
          "base_uri": "https://localhost:8080/"
        }
      },
      "outputs": [
        {
          "output_type": "stream",
          "name": "stdout",
          "text": [
            "Discarding frameskip arg. This will be taken care of by TorchRL env wrapper.\n"
          ]
        }
      ],
      "source": [
        "from torchrl.envs import Compose, ObservationNorm, ToTensorImage, NoopResetEnv, TransformedEnv\n",
        "base_env = GymEnv(\"Pendulum-v1\", frame_skip=3, from_pixels=True, pixels_only=False)\n",
        "env = TransformedEnv(base_env, Compose(NoopResetEnv(3), ToTensorImage()))\n",
        "env.append_transform(ObservationNorm(keys_in=[\"next_pixels\"], loc=2, scale=1))"
      ]
    },
    {
      "cell_type": "markdown",
      "id": "a9509c09-b6a9-426a-a799-9766a195156b",
      "metadata": {
        "id": "a9509c09-b6a9-426a-a799-9766a195156b"
      },
      "source": [
        "### Transforms"
      ]
    },
    {
      "cell_type": "code",
      "execution_count": 27,
      "id": "fb96959d-c587-4f72-af17-86171d1ad952",
      "metadata": {
        "id": "fb96959d-c587-4f72-af17-86171d1ad952",
        "outputId": "f6f3cccd-8e5d-48e5-9a21-cbf81ba0b22b",
        "colab": {
          "base_uri": "https://localhost:8080/"
        }
      },
      "outputs": [
        {
          "output_type": "stream",
          "name": "stdout",
          "text": [
            "Discarding frameskip arg. This will be taken care of by TorchRL env wrapper.\n"
          ]
        }
      ],
      "source": [
        "from torchrl.envs import Compose, ObservationNorm, ToTensorImage, NoopResetEnv, TransformedEnv\n",
        "base_env = GymEnv(\"Pendulum-v1\", frame_skip=3, from_pixels=True, pixels_only=False)\n",
        "env = TransformedEnv(base_env, Compose(NoopResetEnv(3), ToTensorImage()))\n",
        "env.append_transform(ObservationNorm(keys_in=[\"next_pixels\"], loc=2, scale=1))"
      ]
    },
    {
      "cell_type": "code",
      "execution_count": 28,
      "id": "f50a7a63-d156-4eac-94db-69395f799865",
      "metadata": {
        "id": "f50a7a63-d156-4eac-94db-69395f799865",
        "outputId": "76a91bd4-7474-4074-ea71-6b4211b97e90",
        "colab": {
          "base_uri": "https://localhost:8080/"
        }
      },
      "outputs": [
        {
          "output_type": "execute_result",
          "data": {
            "text/plain": [
              "TensorDict(\n",
              "    fields={\n",
              "        done: Tensor(torch.Size([1]), dtype=torch.bool),\n",
              "        pixels: Tensor(torch.Size([3, 500, 500]), dtype=torch.float32),\n",
              "        state: Tensor(torch.Size([3]), dtype=torch.float32)},\n",
              "    batch_size=torch.Size([]),\n",
              "    device=cpu,\n",
              "    is_shared=False)"
            ]
          },
          "metadata": {},
          "execution_count": 28
        }
      ],
      "source": [
        "env.reset()"
      ]
    },
    {
      "cell_type": "code",
      "execution_count": 29,
      "id": "883a438f-1f78-4759-a47d-77025cc24920",
      "metadata": {
        "id": "883a438f-1f78-4759-a47d-77025cc24920",
        "outputId": "c798c7b9-5eac-436b-a84b-ad83a0af3081",
        "colab": {
          "base_uri": "https://localhost:8080/"
        }
      },
      "outputs": [
        {
          "output_type": "stream",
          "name": "stdout",
          "text": [
            "env:  TransformedEnv(\n",
            "    env=GymEnv(env=Pendulum-v1, batch_size=torch.Size([]), device=cpu),\n",
            "    transform=Compose(\n",
            "            NoopResetEnv(noops=3, random=True),\n",
            "            ToTensorImage(keys=['next_pixels']),\n",
            "            ObservationNorm(loc=2.0000, scale=1.0000, keys=['next_pixels'])))\n",
            "last transform parent:  TransformedEnv(\n",
            "    env=GymEnv(env=Pendulum-v1, batch_size=torch.Size([]), device=cpu),\n",
            "    transform=Compose(\n",
            "            NoopResetEnv(noops=3, random=True),\n",
            "            ToTensorImage(keys=['next_pixels'])))\n"
          ]
        }
      ],
      "source": [
        "print(\"env: \", env)\n",
        "print(\"last transform parent: \", env.transform[2].parent)"
      ]
    },
    {
      "cell_type": "markdown",
      "id": "20f3160c-34e9-40a8-8ace-141a050111a2",
      "metadata": {
        "id": "20f3160c-34e9-40a8-8ace-141a050111a2"
      },
      "source": [
        "### Vectorized environments"
      ]
    },
    {
      "cell_type": "code",
      "execution_count": 30,
      "id": "64137b0a-0267-4e6f-b08b-4b947ad98823",
      "metadata": {
        "id": "64137b0a-0267-4e6f-b08b-4b947ad98823",
        "outputId": "76db4061-eac5-40e8-a7bd-6d5c7af0a0d8",
        "colab": {
          "base_uri": "https://localhost:8080/"
        }
      },
      "outputs": [
        {
          "output_type": "stream",
          "name": "stdout",
          "text": [
            "Discarding frameskip arg. This will be taken care of by TorchRL env wrapper.\n"
          ]
        },
        {
          "output_type": "execute_result",
          "data": {
            "text/plain": [
              "TensorDict(\n",
              "    fields={\n",
              "        done: Tensor(torch.Size([4, 1]), dtype=torch.bool),\n",
              "        pixels: Tensor(torch.Size([4, 3, 500, 500]), dtype=torch.float32),\n",
              "        state: Tensor(torch.Size([4, 3]), dtype=torch.float32)},\n",
              "    batch_size=torch.Size([4]),\n",
              "    device=cpu,\n",
              "    is_shared=False)"
            ]
          },
          "metadata": {},
          "execution_count": 30
        }
      ],
      "source": [
        "from torchrl.envs import ParallelEnv\n",
        "base_env = ParallelEnv(4, lambda: GymEnv(\"Pendulum-v1\", frame_skip=3, from_pixels=True, pixels_only=False))\n",
        "env = TransformedEnv(base_env, Compose(NoopResetEnv(3), ToTensorImage()))  # applies transforms on batch of envs\n",
        "env.append_transform(ObservationNorm(keys_in=[\"next_pixels\"], loc=2, scale=1))\n",
        "env.reset()"
      ]
    },
    {
      "cell_type": "code",
      "execution_count": 31,
      "id": "93fc6dd6-1ed5-412f-8f4b-4099b30b969d",
      "metadata": {
        "id": "93fc6dd6-1ed5-412f-8f4b-4099b30b969d",
        "outputId": "b598d41d-5313-4c68-8d96-c31cbd8ab37b",
        "colab": {
          "base_uri": "https://localhost:8080/"
        }
      },
      "outputs": [
        {
          "output_type": "execute_result",
          "data": {
            "text/plain": [
              "NdBoundedTensorSpec(\n",
              "     shape=torch.Size([1]), space=ContinuousBox(minimum=tensor([-2.]), maximum=tensor([2.])), device=cpu, dtype=torch.float32, domain=continuous)"
            ]
          },
          "metadata": {},
          "execution_count": 31
        }
      ],
      "source": [
        "env.action_spec"
      ]
    },
    {
      "cell_type": "markdown",
      "id": "a4b72279-24e4-486a-beca-e7c130164ed6",
      "metadata": {
        "id": "a4b72279-24e4-486a-beca-e7c130164ed6"
      },
      "source": [
        "## Modules"
      ]
    },
    {
      "cell_type": "markdown",
      "id": "af6cb397-cbd6-4caf-bc1e-2f5388cd4c64",
      "metadata": {
        "id": "af6cb397-cbd6-4caf-bc1e-2f5388cd4c64"
      },
      "source": [
        "### Models\n",
        "#### MLP"
      ]
    },
    {
      "cell_type": "code",
      "execution_count": 32,
      "id": "cb115026-b9ca-49c0-afd4-99795563e86b",
      "metadata": {
        "id": "cb115026-b9ca-49c0-afd4-99795563e86b",
        "outputId": "8a863d01-35c2-4774-e679-8d8ea377cf25",
        "colab": {
          "base_uri": "https://localhost:8080/"
        }
      },
      "outputs": [
        {
          "output_type": "stream",
          "name": "stdout",
          "text": [
            "MLP(\n",
            "  (0): LazyLinear(in_features=0, out_features=32, bias=True)\n",
            "  (1): ELU(alpha=1.0)\n",
            "  (2): Linear(in_features=32, out_features=64, bias=True)\n",
            "  (3): ELU(alpha=1.0)\n",
            "  (4): Linear(in_features=64, out_features=4, bias=True)\n",
            ")\n"
          ]
        },
        {
          "output_type": "stream",
          "name": "stderr",
          "text": [
            "/usr/local/lib/python3.7/dist-packages/torch/nn/modules/lazy.py:178: UserWarning: Lazy modules are a new feature under heavy development so changes to the API or functionality can happen at any moment.\n",
            "  warnings.warn('Lazy modules are a new feature under heavy development '\n"
          ]
        }
      ],
      "source": [
        "from torchrl.modules import MLP, ConvNet\n",
        "from torchrl.modules.models.utils import SquashDims\n",
        "from torch import nn\n",
        "net = MLP(num_cells=[32, 64], out_features=4, activation_class=nn.ELU)\n",
        "print(net)"
      ]
    },
    {
      "cell_type": "code",
      "execution_count": 33,
      "id": "f6007bbe-df30-4762-97f5-26676647a40e",
      "metadata": {
        "id": "f6007bbe-df30-4762-97f5-26676647a40e",
        "outputId": "438ee1b7-c448-4ccf-ca1b-db01e06f8af4",
        "colab": {
          "base_uri": "https://localhost:8080/"
        }
      },
      "outputs": [
        {
          "output_type": "execute_result",
          "data": {
            "text/plain": [
              "torch.Size([10, 4])"
            ]
          },
          "metadata": {},
          "execution_count": 33
        }
      ],
      "source": [
        "net(torch.randn(10, 3)).shape"
      ]
    },
    {
      "cell_type": "markdown",
      "id": "9a444a92-7b7d-42fc-a3d3-2bad7bc32880",
      "metadata": {
        "id": "9a444a92-7b7d-42fc-a3d3-2bad7bc32880"
      },
      "source": [
        "#### CNN"
      ]
    },
    {
      "cell_type": "code",
      "execution_count": 34,
      "id": "9facfc1d-f207-43b2-8fd5-92fa6b32fb18",
      "metadata": {
        "id": "9facfc1d-f207-43b2-8fd5-92fa6b32fb18",
        "outputId": "d4db626f-a378-400a-e6f7-f2517dae939a",
        "colab": {
          "base_uri": "https://localhost:8080/"
        }
      },
      "outputs": [
        {
          "output_type": "stream",
          "name": "stdout",
          "text": [
            "ConvNet(\n",
            "  (0): LazyConv2d(0, 32, kernel_size=(8, 8), stride=(2, 2))\n",
            "  (1): ELU(alpha=1.0)\n",
            "  (2): Conv2d(32, 64, kernel_size=(4, 4), stride=(1, 1))\n",
            "  (3): ELU(alpha=1.0)\n",
            "  (4): SquashDims()\n",
            ")\n"
          ]
        }
      ],
      "source": [
        "cnn = ConvNet(num_cells=[32, 64], kernel_sizes=[8, 4], strides=[2, 1], aggregator_class=SquashDims)\n",
        "print(cnn)"
      ]
    },
    {
      "cell_type": "code",
      "execution_count": 35,
      "id": "cd9d9eb1-ec44-4113-a3a1-5291f388e274",
      "metadata": {
        "id": "cd9d9eb1-ec44-4113-a3a1-5291f388e274",
        "outputId": "61b55468-e22b-44e5-dd2a-3b563c4bb737",
        "colab": {
          "base_uri": "https://localhost:8080/"
        }
      },
      "outputs": [
        {
          "output_type": "execute_result",
          "data": {
            "text/plain": [
              "torch.Size([10, 6400])"
            ]
          },
          "metadata": {},
          "execution_count": 35
        }
      ],
      "source": [
        "cnn(torch.randn(10, 3, 32, 32)).shape  # last tensor is squashed"
      ]
    },
    {
      "cell_type": "markdown",
      "id": "ab751e1c-3fbc-4209-9339-a0dea73664e5",
      "metadata": {
        "id": "ab751e1c-3fbc-4209-9339-a0dea73664e5"
      },
      "source": [
        "### TensorDictModules"
      ]
    },
    {
      "cell_type": "code",
      "execution_count": 36,
      "id": "0144b74a-2230-4d78-9b07-ad29a4f39402",
      "metadata": {
        "id": "0144b74a-2230-4d78-9b07-ad29a4f39402",
        "outputId": "1714d594-b0a9-46f1-9f22-97a6dc606575",
        "colab": {
          "base_uri": "https://localhost:8080/"
        }
      },
      "outputs": [
        {
          "output_type": "stream",
          "name": "stdout",
          "text": [
            "TensorDict(\n",
            "    fields={\n",
            "        key 1: Tensor(torch.Size([10, 3]), dtype=torch.float32),\n",
            "        key 2: Tensor(torch.Size([10, 4]), dtype=torch.float32)},\n",
            "    batch_size=torch.Size([10]),\n",
            "    device=None,\n",
            "    is_shared=False)\n"
          ]
        }
      ],
      "source": [
        "from torchrl.modules import TensorDictModule\n",
        "tensordict = TensorDict({\"key 1\": torch.randn(10, 3)}, batch_size=[10])\n",
        "module = nn.Linear(3, 4)\n",
        "td_module = TensorDictModule(module, in_keys=[\"key 1\"], out_keys=[\"key 2\"])\n",
        "td_module(tensordict)\n",
        "print(tensordict)"
      ]
    },
    {
      "cell_type": "markdown",
      "id": "819ab5df-d29c-44f4-8cc8-c15a2d553285",
      "metadata": {
        "id": "819ab5df-d29c-44f4-8cc8-c15a2d553285"
      },
      "source": [
        "### Sequences of modules"
      ]
    },
    {
      "cell_type": "code",
      "execution_count": 37,
      "id": "e0e3e3ff-074a-4984-8e10-85fdd9d2328f",
      "metadata": {
        "id": "e0e3e3ff-074a-4984-8e10-85fdd9d2328f",
        "outputId": "706e9352-7bfb-4b83-860b-97264bbd4d0b",
        "colab": {
          "base_uri": "https://localhost:8080/"
        }
      },
      "outputs": [
        {
          "output_type": "stream",
          "name": "stdout",
          "text": [
            "TensorDictSequential(\n",
            "    module=ModuleList(\n",
            "      (0): TensorDictModule(\n",
            "          module=Linear(in_features=5, out_features=3, bias=True), \n",
            "          device=cpu, \n",
            "          in_keys=['observation'], \n",
            "          out_keys=['hidden'])\n",
            "      (1): TensorDictModule(\n",
            "          module=Linear(in_features=3, out_features=4, bias=True), \n",
            "          device=cpu, \n",
            "          in_keys=['hidden'], \n",
            "          out_keys=['action'])\n",
            "      (2): TensorDictModule(\n",
            "          module=MLP(\n",
            "            (0): LazyLinear(in_features=0, out_features=4, bias=True)\n",
            "            (1): Tanh()\n",
            "            (2): Linear(in_features=4, out_features=5, bias=True)\n",
            "            (3): Tanh()\n",
            "            (4): Linear(in_features=5, out_features=1, bias=True)\n",
            "          ), \n",
            "          device=cpu, \n",
            "          in_keys=['hidden', 'action'], \n",
            "          out_keys=['value'])\n",
            "    ), \n",
            "    device=cpu, \n",
            "    in_keys=['observation'], \n",
            "    out_keys=['hidden', 'action', 'value'])\n"
          ]
        }
      ],
      "source": [
        "from torchrl.modules import TensorDictSequential\n",
        "backbone_module = nn.Linear(5, 3)\n",
        "backbone = TensorDictModule(backbone_module, in_keys=[\"observation\"], out_keys=[\"hidden\"])\n",
        "actor_module = nn.Linear(3, 4)\n",
        "actor = TensorDictModule(actor_module, in_keys=[\"hidden\"], out_keys=[\"action\"])\n",
        "value_module = MLP(out_features=1, num_cells=[4, 5])\n",
        "value = TensorDictModule(value_module, in_keys=[\"hidden\", \"action\"], out_keys=[\"value\"])\n",
        "\n",
        "sequence = TensorDictSequential(backbone, actor, value)\n",
        "print(sequence)"
      ]
    },
    {
      "cell_type": "code",
      "execution_count": 38,
      "id": "6e7980e8-7286-403e-82f7-8386021a6c85",
      "metadata": {
        "id": "6e7980e8-7286-403e-82f7-8386021a6c85",
        "outputId": "0bf391d7-8446-4a5a-b200-d04cd9ba95e7",
        "colab": {
          "base_uri": "https://localhost:8080/"
        }
      },
      "outputs": [
        {
          "output_type": "stream",
          "name": "stdout",
          "text": [
            "['observation'] ['hidden', 'action', 'value']\n"
          ]
        }
      ],
      "source": [
        "print(sequence.in_keys, sequence.out_keys)"
      ]
    },
    {
      "cell_type": "code",
      "execution_count": 39,
      "id": "b9be6bff-d543-45bc-975e-d820b9db6ce8",
      "metadata": {
        "id": "b9be6bff-d543-45bc-975e-d820b9db6ce8",
        "outputId": "69620a10-a116-49e7-915b-949a0db49633",
        "colab": {
          "base_uri": "https://localhost:8080/"
        }
      },
      "outputs": [
        {
          "output_type": "execute_result",
          "data": {
            "text/plain": [
              "TensorDict(\n",
              "    fields={\n",
              "        action: Tensor(torch.Size([3, 4]), dtype=torch.float32),\n",
              "        hidden: Tensor(torch.Size([3, 3]), dtype=torch.float32),\n",
              "        observation: Tensor(torch.Size([3, 5]), dtype=torch.float32),\n",
              "        value: Tensor(torch.Size([3, 1]), dtype=torch.float32)},\n",
              "    batch_size=torch.Size([3]),\n",
              "    device=None,\n",
              "    is_shared=False)"
            ]
          },
          "metadata": {},
          "execution_count": 39
        }
      ],
      "source": [
        "tensordict = TensorDict(\n",
        "    {\"observation\": torch.randn(3, 5)}, [3],\n",
        ")\n",
        "backbone(tensordict)\n",
        "actor(tensordict)\n",
        "value(tensordict)"
      ]
    },
    {
      "cell_type": "code",
      "execution_count": 40,
      "id": "315d7d77-314e-4ffc-b9aa-e3651937dc98",
      "metadata": {
        "id": "315d7d77-314e-4ffc-b9aa-e3651937dc98",
        "outputId": "1449662d-2801-492b-d88f-6f6d02c6dc91",
        "colab": {
          "base_uri": "https://localhost:8080/"
        }
      },
      "outputs": [
        {
          "output_type": "stream",
          "name": "stdout",
          "text": [
            "TensorDict(\n",
            "    fields={\n",
            "        action: Tensor(torch.Size([3, 4]), dtype=torch.float32),\n",
            "        hidden: Tensor(torch.Size([3, 3]), dtype=torch.float32),\n",
            "        observation: Tensor(torch.Size([3, 5]), dtype=torch.float32),\n",
            "        value: Tensor(torch.Size([3, 1]), dtype=torch.float32)},\n",
            "    batch_size=torch.Size([3]),\n",
            "    device=None,\n",
            "    is_shared=False)\n"
          ]
        }
      ],
      "source": [
        "tensordict = TensorDict(\n",
        "    {\"observation\": torch.randn(3, 5)}, [3],\n",
        ")\n",
        "sequence(tensordict)\n",
        "print(tensordict)"
      ]
    },
    {
      "cell_type": "markdown",
      "id": "a62cd71d-a33c-41dd-aa75-eb4cefef8c50",
      "metadata": {
        "id": "a62cd71d-a33c-41dd-aa75-eb4cefef8c50"
      },
      "source": [
        "### Functional programming (ensembling / meta-RL)"
      ]
    },
    {
      "cell_type": "code",
      "execution_count": 41,
      "id": "f3496472-b697-4c78-9b77-972b74573884",
      "metadata": {
        "id": "f3496472-b697-4c78-9b77-972b74573884"
      },
      "outputs": [],
      "source": [
        "fsequence, (params, buffers) = sequence.make_functional_with_buffers()"
      ]
    },
    {
      "cell_type": "code",
      "execution_count": 42,
      "id": "1577590f-5156-439f-a2f1-f8cba1fa3e78",
      "metadata": {
        "id": "1577590f-5156-439f-a2f1-f8cba1fa3e78",
        "outputId": "8568ff1b-797e-4cc4-e3c1-8726c53c0165",
        "colab": {
          "base_uri": "https://localhost:8080/"
        }
      },
      "outputs": [
        {
          "output_type": "execute_result",
          "data": {
            "text/plain": [
              "0"
            ]
          },
          "metadata": {},
          "execution_count": 42
        }
      ],
      "source": [
        "len(list(fsequence.parameters()))  # functional modules have no parameters"
      ]
    },
    {
      "cell_type": "code",
      "execution_count": 43,
      "id": "971618a2-9c4c-4af6-b170-082cdea4a756",
      "metadata": {
        "id": "971618a2-9c4c-4af6-b170-082cdea4a756",
        "outputId": "fe7b9bd6-6376-41e8-c98c-ad423b728575",
        "colab": {
          "base_uri": "https://localhost:8080/"
        }
      },
      "outputs": [
        {
          "output_type": "execute_result",
          "data": {
            "text/plain": [
              "TensorDict(\n",
              "    fields={\n",
              "        action: Tensor(torch.Size([3, 4]), dtype=torch.float32),\n",
              "        hidden: Tensor(torch.Size([3, 3]), dtype=torch.float32),\n",
              "        observation: Tensor(torch.Size([3, 5]), dtype=torch.float32),\n",
              "        value: Tensor(torch.Size([3, 1]), dtype=torch.float32)},\n",
              "    batch_size=torch.Size([3]),\n",
              "    device=None,\n",
              "    is_shared=False)"
            ]
          },
          "metadata": {},
          "execution_count": 43
        }
      ],
      "source": [
        "fsequence(tensordict, params=params, buffers=buffers)"
      ]
    },
    {
      "cell_type": "code",
      "execution_count": 44,
      "id": "ad98c6dc-918e-450a-9f3c-feb738e36d35",
      "metadata": {
        "id": "ad98c6dc-918e-450a-9f3c-feb738e36d35",
        "outputId": "40ece19e-9fa3-4c24-bf08-18c02c0fa53e",
        "colab": {
          "base_uri": "https://localhost:8080/"
        }
      },
      "outputs": [
        {
          "output_type": "stream",
          "name": "stdout",
          "text": [
            "TensorDict(\n",
            "    fields={\n",
            "        action: Tensor(torch.Size([4, 3, 4]), dtype=torch.float32),\n",
            "        hidden: Tensor(torch.Size([4, 3, 3]), dtype=torch.float32),\n",
            "        observation: Tensor(torch.Size([4, 3, 5]), dtype=torch.float32),\n",
            "        value: Tensor(torch.Size([4, 3, 1]), dtype=torch.float32)},\n",
            "    batch_size=torch.Size([4, 3]),\n",
            "    device=None,\n",
            "    is_shared=False)\n"
          ]
        }
      ],
      "source": [
        "params_expand = [p.expand(4, *p.shape) for p in params]\n",
        "buffers_expand = [b.expand(4, *b.shape) for b in buffers]\n",
        "tensordict_exp = fsequence(tensordict, params=params_expand, buffers=buffers, vmap=(0, 0, None))\n",
        "print(tensordict_exp)"
      ]
    },
    {
      "cell_type": "markdown",
      "id": "14084eb3-36e6-4729-8383-7ef4471fea5f",
      "metadata": {
        "id": "14084eb3-36e6-4729-8383-7ef4471fea5f"
      },
      "source": [
        "### Specialized classes"
      ]
    },
    {
      "cell_type": "code",
      "execution_count": 45,
      "id": "9c3f6d96-f213-4ef5-b700-133f40bf52f9",
      "metadata": {
        "id": "9c3f6d96-f213-4ef5-b700-133f40bf52f9",
        "outputId": "476bbcdc-6857-4648-d4cd-a7fb13946fda",
        "colab": {
          "base_uri": "https://localhost:8080/"
        }
      },
      "outputs": [
        {
          "output_type": "execute_result",
          "data": {
            "text/plain": [
              "tensor([-0.0137,  0.1524, -0.0641], grad_fn=<AddBackward0>)"
            ]
          },
          "metadata": {},
          "execution_count": 45
        }
      ],
      "source": [
        "torch.manual_seed(0)\n",
        "from torchrl.data import NdBoundedTensorSpec\n",
        "spec = NdBoundedTensorSpec(-torch.ones(3), torch.ones(3))\n",
        "base_module = nn.Linear(5, 3)\n",
        "module = TensorDictModule(module=base_module, spec=spec, in_keys=[\"obs\"], out_keys=[\"action\"], safe=True)\n",
        "tensordict = TensorDict({\"obs\": torch.randn(5)}, batch_size=[])\n",
        "module(tensordict)[\"action\"]"
      ]
    },
    {
      "cell_type": "code",
      "execution_count": 46,
      "id": "441a1de4-e5e5-4ccf-a4a4-c7bb10e3ccc0",
      "metadata": {
        "id": "441a1de4-e5e5-4ccf-a4a4-c7bb10e3ccc0",
        "outputId": "9b4e4dd7-ee3a-4646-a581-8ad2f50b9a6a",
        "colab": {
          "base_uri": "https://localhost:8080/"
        }
      },
      "outputs": [
        {
          "output_type": "execute_result",
          "data": {
            "text/plain": [
              "tensor([-1.,  1., -1.], grad_fn=<IndexPutBackward0>)"
            ]
          },
          "metadata": {},
          "execution_count": 46
        }
      ],
      "source": [
        "tensordict = TensorDict({\"obs\": torch.randn(5)*100}, batch_size=[])\n",
        "module(tensordict)[\"action\"]  # safe=True projects the result within the set"
      ]
    },
    {
      "cell_type": "code",
      "execution_count": 47,
      "id": "9ca25cc1-56bc-4e77-9feb-9298435042b9",
      "metadata": {
        "id": "9ca25cc1-56bc-4e77-9feb-9298435042b9",
        "outputId": "df69bc0d-ed70-4776-f2a3-7e2b2ed91202",
        "colab": {
          "base_uri": "https://localhost:8080/"
        }
      },
      "outputs": [
        {
          "output_type": "execute_result",
          "data": {
            "text/plain": [
              "TensorDict(\n",
              "    fields={\n",
              "        action: Tensor(torch.Size([3]), dtype=torch.float32),\n",
              "        obs: Tensor(torch.Size([5]), dtype=torch.float32)},\n",
              "    batch_size=torch.Size([]),\n",
              "    device=None,\n",
              "    is_shared=False)"
            ]
          },
          "metadata": {},
          "execution_count": 47
        }
      ],
      "source": [
        "from torchrl.modules import Actor\n",
        "base_module = nn.Linear(5, 3)\n",
        "actor = Actor(base_module, in_keys=[\"obs\"])\n",
        "tensordict = TensorDict({\"obs\": torch.randn(5)}, batch_size=[])\n",
        "actor(tensordict)  # action is the default value"
      ]
    },
    {
      "cell_type": "code",
      "execution_count": 48,
      "id": "0ba0507a-ff43-42d5-bd4f-c25fd006c00f",
      "metadata": {
        "id": "0ba0507a-ff43-42d5-bd4f-c25fd006c00f",
        "outputId": "22f058a8-1489-49a9-e190-3862ac55e71e",
        "colab": {
          "base_uri": "https://localhost:8080/"
        }
      },
      "outputs": [
        {
          "output_type": "stream",
          "name": "stdout",
          "text": [
            "TensorDict(\n",
            "    fields={\n",
            "        action: Tensor(torch.Size([3, 2]), dtype=torch.float32),\n",
            "        input: Tensor(torch.Size([3, 5]), dtype=torch.float32),\n",
            "        loc: Tensor(torch.Size([3, 2]), dtype=torch.float32),\n",
            "        scale: Tensor(torch.Size([3, 2]), dtype=torch.float32)},\n",
            "    batch_size=torch.Size([3]),\n",
            "    device=None,\n",
            "    is_shared=False)\n"
          ]
        }
      ],
      "source": [
        "# Probabilistic modules\n",
        "from torchrl.modules import ProbabilisticTensorDictModule\n",
        "from torchrl.data import TensorDict\n",
        "from torchrl.modules import  TanhNormal, NormalParamWrapper\n",
        "td = TensorDict({\"input\": torch.randn(3, 5)}, [3,])\n",
        "net = NormalParamWrapper(nn.Linear(5, 4))  # splits the output in loc and scale\n",
        "module = TensorDictModule(net, in_keys=[\"input\"], out_keys=[\"loc\", \"scale\"])\n",
        "td_module = ProbabilisticTensorDictModule(\n",
        "   module=module,\n",
        "   dist_param_keys=[\"loc\", \"scale\"],\n",
        "   out_key_sample=[\"action\"],\n",
        "   distribution_class=TanhNormal,\n",
        "   return_log_prob=False,\n",
        ")\n",
        "td_module(td)\n",
        "print(td)"
      ]
    },
    {
      "cell_type": "code",
      "execution_count": 49,
      "id": "a0a6dc50-a11c-408f-ae06-7c83795a8353",
      "metadata": {
        "id": "a0a6dc50-a11c-408f-ae06-7c83795a8353",
        "outputId": "acc05500-d75d-4bca-862c-9c890ba4c81a",
        "colab": {
          "base_uri": "https://localhost:8080/"
        }
      },
      "outputs": [
        {
          "output_type": "stream",
          "name": "stdout",
          "text": [
            "TensorDict(\n",
            "    fields={\n",
            "        action: Tensor(torch.Size([3, 2]), dtype=torch.float32),\n",
            "        input: Tensor(torch.Size([3, 5]), dtype=torch.float32),\n",
            "        loc: Tensor(torch.Size([3, 2]), dtype=torch.float32),\n",
            "        sample_log_prob: Tensor(torch.Size([3, 1]), dtype=torch.float32),\n",
            "        scale: Tensor(torch.Size([3, 2]), dtype=torch.float32)},\n",
            "    batch_size=torch.Size([3]),\n",
            "    device=None,\n",
            "    is_shared=False)\n"
          ]
        }
      ],
      "source": [
        "# returning the log-probability\n",
        "td = TensorDict({\"input\": torch.randn(3, 5)}, [3,])\n",
        "td_module = ProbabilisticTensorDictModule(\n",
        "   module=module,\n",
        "   dist_param_keys=[\"loc\", \"scale\"],\n",
        "   out_key_sample=[\"action\"],\n",
        "   distribution_class=TanhNormal,\n",
        "   return_log_prob=True,\n",
        ")\n",
        "td_module(td)\n",
        "print(td)"
      ]
    },
    {
      "cell_type": "code",
      "execution_count": 50,
      "id": "a84857c9-8a00-4526-92e4-8b6a05646bd5",
      "metadata": {
        "id": "a84857c9-8a00-4526-92e4-8b6a05646bd5",
        "outputId": "885c41ac-f4c8-4c77-83a9-33ef99e9870e",
        "colab": {
          "base_uri": "https://localhost:8080/"
        }
      },
      "outputs": [
        {
          "output_type": "stream",
          "name": "stdout",
          "text": [
            "random: tensor([[ 0.8728, -0.1335],\n",
            "        [-0.9833,  0.3497],\n",
            "        [-0.6889, -0.6433]], grad_fn=<ClampBackward1>)\n",
            "mode: tensor([[-0.1131,  0.1761],\n",
            "        [-0.3425, -0.2665],\n",
            "        [ 0.2915,  0.6207]], grad_fn=<ClampBackward1>)\n",
            "mean: tensor([[-0.1131,  0.1441],\n",
            "        [-0.2375, -0.1242],\n",
            "        [ 0.1372,  0.3810]], grad_fn=<MeanBackward1>)\n"
          ]
        }
      ],
      "source": [
        "# Sampling vs mode / mean\n",
        "from torchrl.envs.utils import set_exploration_mode\n",
        "td = TensorDict({\"input\": torch.randn(3, 5)}, [3,])\n",
        "\n",
        "torch.manual_seed(0)\n",
        "with set_exploration_mode(\"random\"):\n",
        "    td_module(td)\n",
        "    print(\"random:\", td[\"action\"])\n",
        "    \n",
        "with set_exploration_mode(\"mode\"):\n",
        "    td_module(td)\n",
        "    print(\"mode:\", td[\"action\"])\n",
        "\n",
        "with set_exploration_mode(\"mean\"):\n",
        "    td_module(td)\n",
        "    print(\"mean:\", td[\"action\"])\n",
        "\n",
        "    "
      ]
    },
    {
      "cell_type": "markdown",
      "id": "141a232e-1472-4b7e-9d88-dfd0a19b8adf",
      "metadata": {
        "id": "141a232e-1472-4b7e-9d88-dfd0a19b8adf"
      },
      "source": [
        "## Using environments and modules"
      ]
    },
    {
      "cell_type": "code",
      "execution_count": 51,
      "id": "384a8372-3096-4897-b03d-af638b17e452",
      "metadata": {
        "id": "384a8372-3096-4897-b03d-af638b17e452",
        "outputId": "23dc2fc8-fc09-452b-92c5-cb73558056f3",
        "colab": {
          "base_uri": "https://localhost:8080/"
        }
      },
      "outputs": [
        {
          "output_type": "stream",
          "name": "stdout",
          "text": [
            "Discarding frameskip arg. This will be taken care of by TorchRL env wrapper.\n",
            "total steps: 99\n",
            "TensorDict(\n",
            "    fields={\n",
            "        action: Tensor(torch.Size([100, 1]), dtype=torch.float32),\n",
            "        done: Tensor(torch.Size([100, 1]), dtype=torch.bool),\n",
            "        next_observation: Tensor(torch.Size([100, 3]), dtype=torch.float32),\n",
            "        observation: Tensor(torch.Size([100, 3]), dtype=torch.float32),\n",
            "        reward: Tensor(torch.Size([100, 1]), dtype=torch.float32)},\n",
            "    batch_size=torch.Size([100]),\n",
            "    device=None,\n",
            "    is_shared=False)\n"
          ]
        }
      ],
      "source": [
        "from torchrl.envs.utils import step_tensordict\n",
        "env = GymEnv(\"Pendulum-v1\")\n",
        "\n",
        "action_spec = env.action_spec\n",
        "actor_module = nn.Linear(3, 1)\n",
        "actor = TensorDictModule(actor_module, spec=action_spec, in_keys=[\"observation\"], out_keys=[\"action\"])\n",
        "\n",
        "torch.manual_seed(0)\n",
        "env.set_seed(0)\n",
        "\n",
        "max_steps = 100\n",
        "tensordict = env.reset()\n",
        "tensordicts = TensorDict({}, [max_steps])\n",
        "for i in range(max_steps):\n",
        "    actor(tensordict)\n",
        "    tensordicts[i] = env.step(tensordict)\n",
        "    tensordict = step_tensordict(tensordict)  # roughly equivalent to obs = next_obs\n",
        "    if env.is_done:\n",
        "        break\n",
        "\n",
        "tensordicts_prealloc = tensordicts.clone()\n",
        "print(\"total steps:\", i)\n",
        "print(tensordicts)"
      ]
    },
    {
      "cell_type": "code",
      "execution_count": 52,
      "id": "71a2f7e7-815d-4e1c-bd8c-4b4942f3de7d",
      "metadata": {
        "id": "71a2f7e7-815d-4e1c-bd8c-4b4942f3de7d",
        "outputId": "99b743cc-5ce8-4423-d750-e9ffb17dc1c1",
        "colab": {
          "base_uri": "https://localhost:8080/"
        }
      },
      "outputs": [
        {
          "output_type": "stream",
          "name": "stdout",
          "text": [
            "total steps: 99\n",
            "LazyStackedTensorDict(\n",
            "    fields={\n",
            "        action: Tensor(torch.Size([100, 1]), dtype=torch.float32),\n",
            "        done: Tensor(torch.Size([100, 1]), dtype=torch.bool),\n",
            "        next_observation: Tensor(torch.Size([100, 3]), dtype=torch.float32),\n",
            "        observation: Tensor(torch.Size([100, 3]), dtype=torch.float32),\n",
            "        reward: Tensor(torch.Size([100, 1]), dtype=torch.float32)},\n",
            "    batch_size=torch.Size([100]),\n",
            "    device=cpu,\n",
            "    is_shared=False)\n"
          ]
        }
      ],
      "source": [
        "# equivalent\n",
        "torch.manual_seed(0)\n",
        "env.set_seed(0)\n",
        "\n",
        "max_steps = 100\n",
        "tensordict = env.reset()\n",
        "tensordicts = []\n",
        "for i in range(max_steps):\n",
        "    actor(tensordict)\n",
        "    tensordicts.append(env.step(tensordict))\n",
        "    tensordict = step_tensordict(tensordict)  # roughly equivalent to obs = next_obs\n",
        "    if env.is_done:\n",
        "        break\n",
        "tensordicts_stack = torch.stack(tensordicts, 0)\n",
        "print(\"total steps:\", i)\n",
        "print(tensordicts_stack)"
      ]
    },
    {
      "cell_type": "code",
      "execution_count": 53,
      "id": "5380a357-dcb9-43a8-8a2e-f4be939db91f",
      "metadata": {
        "id": "5380a357-dcb9-43a8-8a2e-f4be939db91f",
        "outputId": "e3700b5d-7f21-41ef-c6f9-e4ff459f33fd",
        "colab": {
          "base_uri": "https://localhost:8080/"
        }
      },
      "outputs": [
        {
          "output_type": "execute_result",
          "data": {
            "text/plain": [
              "True"
            ]
          },
          "metadata": {},
          "execution_count": 53
        }
      ],
      "source": [
        "(tensordicts_stack == tensordicts_prealloc).all()"
      ]
    },
    {
      "cell_type": "code",
      "execution_count": 54,
      "id": "ac59466c-1e39-4ecd-a840-72d5ec204b2d",
      "metadata": {
        "id": "ac59466c-1e39-4ecd-a840-72d5ec204b2d",
        "outputId": "dfc0c666-7627-41ae-e63e-4f34346f3b7e",
        "colab": {
          "base_uri": "https://localhost:8080/"
        }
      },
      "outputs": [
        {
          "output_type": "execute_result",
          "data": {
            "text/plain": [
              "TensorDict(\n",
              "    fields={\n",
              "        action: Tensor(torch.Size([100, 1]), dtype=torch.float32),\n",
              "        done: Tensor(torch.Size([100, 1]), dtype=torch.bool),\n",
              "        next_observation: Tensor(torch.Size([100, 3]), dtype=torch.float32),\n",
              "        observation: Tensor(torch.Size([100, 3]), dtype=torch.float32),\n",
              "        reward: Tensor(torch.Size([100, 1]), dtype=torch.float32)},\n",
              "    batch_size=torch.Size([100]),\n",
              "    device=cpu,\n",
              "    is_shared=False)"
            ]
          },
          "metadata": {},
          "execution_count": 54
        }
      ],
      "source": [
        "# helper\n",
        "torch.manual_seed(0)\n",
        "env.set_seed(0)\n",
        "tensordict_rollout = env.rollout(policy=actor, max_steps=max_steps)\n",
        "tensordict_rollout"
      ]
    },
    {
      "cell_type": "code",
      "execution_count": 55,
      "id": "7c7d8600-ecbb-4a55-b266-ed929f5d38c8",
      "metadata": {
        "id": "7c7d8600-ecbb-4a55-b266-ed929f5d38c8",
        "outputId": "8d552b43-7704-445c-8bc4-b6ed2bdeac0d",
        "colab": {
          "base_uri": "https://localhost:8080/"
        }
      },
      "outputs": [
        {
          "output_type": "execute_result",
          "data": {
            "text/plain": [
              "True"
            ]
          },
          "metadata": {},
          "execution_count": 55
        }
      ],
      "source": [
        "(tensordict_rollout == tensordicts_prealloc).all()"
      ]
    },
    {
      "cell_type": "code",
      "execution_count": 55,
      "id": "a9f8ef53-4c35-44fe-8763-792d9c237440",
      "metadata": {
        "id": "a9f8ef53-4c35-44fe-8763-792d9c237440"
      },
      "outputs": [],
      "source": []
    },
    {
      "cell_type": "markdown",
      "id": "a0ae640d-777a-4aed-9c1d-0638d933afc9",
      "metadata": {
        "id": "a0ae640d-777a-4aed-9c1d-0638d933afc9"
      },
      "source": [
        "## Collectors"
      ]
    },
    {
      "cell_type": "code",
      "execution_count": 56,
      "id": "02cfd1d3-150b-4430-8392-f8a629beb42d",
      "metadata": {
        "id": "02cfd1d3-150b-4430-8392-f8a629beb42d",
        "outputId": "90aa9d9c-8f21-4c5b-c618-329a8aa18f8c",
        "colab": {
          "base_uri": "https://localhost:8080/"
        }
      },
      "outputs": [
        {
          "output_type": "stream",
          "name": "stdout",
          "text": [
            "Discarding frameskip arg. This will be taken care of by TorchRL env wrapper.\n"
          ]
        }
      ],
      "source": [
        "from torchrl.envs import ParallelEnv, EnvCreator\n",
        "from torchrl.envs.libs.gym import GymEnv\n",
        "from torchrl.modules import TensorDictModule\n",
        "from torchrl.collectors import MultiSyncDataCollector, MultiaSyncDataCollector\n",
        "from torch import nn\n",
        "\n",
        "# EnvCreator makes sure that we can send a lambda function from process to process\n",
        "parallel_env = ParallelEnv(3, EnvCreator(lambda: GymEnv(\"Pendulum-v1\")))\n",
        "create_env_fn=[parallel_env, parallel_env]\n",
        "\n",
        "actor_module = nn.Linear(3, 1)\n",
        "actor = TensorDictModule(actor_module, in_keys=[\"observation\"], out_keys=[\"action\"])\n",
        "\n",
        "# Sync data collector\n",
        "devices = [\"cpu\", \"cpu\"]\n",
        "\n",
        "collector = MultiSyncDataCollector(\n",
        "    create_env_fn=create_env_fn,  # either a list of functions or a ParallelEnv\n",
        "    policy=actor,\n",
        "    total_frames=240,\n",
        "    max_frames_per_traj=-1,  # envs are terminating, we don't need to stop them early \n",
        "    frames_per_batch=60,  # we want 60 frames at a time (we have 3 envs per sub-collector)\n",
        "    passing_devices=devices,  # len must match len of env created\n",
        "    devices=devices,\n",
        ")\n"
      ]
    },
    {
      "cell_type": "code",
      "execution_count": 57,
      "id": "fe6091f2-2b33-4834-b437-fb8860b166f8",
      "metadata": {
        "id": "fe6091f2-2b33-4834-b437-fb8860b166f8",
        "outputId": "c52fbfae-f2e4-46f0-e811-8ad2d150a681",
        "colab": {
          "base_uri": "https://localhost:8080/"
        }
      },
      "outputs": [
        {
          "output_type": "stream",
          "name": "stdout",
          "text": [
            "TensorDict(\n",
            "    fields={\n",
            "        action: Tensor(torch.Size([6, 10, 1]), dtype=torch.float32),\n",
            "        done: Tensor(torch.Size([6, 10, 1]), dtype=torch.bool),\n",
            "        mask: Tensor(torch.Size([6, 10, 1]), dtype=torch.bool),\n",
            "        next_observation: Tensor(torch.Size([6, 10, 3]), dtype=torch.float32),\n",
            "        observation: Tensor(torch.Size([6, 10, 3]), dtype=torch.float32),\n",
            "        reward: Tensor(torch.Size([6, 10, 1]), dtype=torch.float32),\n",
            "        step_count: Tensor(torch.Size([6, 10, 1]), dtype=torch.int32),\n",
            "        traj_ids: Tensor(torch.Size([6, 10, 1]), dtype=torch.int64)},\n",
            "    batch_size=torch.Size([6, 10]),\n",
            "    device=None,\n",
            "    is_shared=False)\n",
            "3\n"
          ]
        }
      ],
      "source": [
        "for i, d in enumerate(collector):\n",
        "    if i == 0:\n",
        "        print(d)  # trajectories are split automatically in [6 workers x 10 steps]\n",
        "    collector.update_policy_weights_()  # make sure that our policies have the latest weights if working on multiple devices\n",
        "print(i)"
      ]
    },
    {
      "cell_type": "code",
      "execution_count": 58,
      "id": "b6a2e699-0d13-406e-84a4-62caf236f4ec",
      "metadata": {
        "id": "b6a2e699-0d13-406e-84a4-62caf236f4ec",
        "outputId": "30746754-d581-4afc-876d-6866f141d7be",
        "colab": {
          "base_uri": "https://localhost:8080/"
        }
      },
      "outputs": [
        {
          "output_type": "stream",
          "name": "stdout",
          "text": [
            "TensorDict(\n",
            "    fields={\n",
            "        action: Tensor(torch.Size([3, 20, 1]), dtype=torch.float32),\n",
            "        done: Tensor(torch.Size([3, 20, 1]), dtype=torch.bool),\n",
            "        mask: Tensor(torch.Size([3, 20, 1]), dtype=torch.bool),\n",
            "        next_observation: Tensor(torch.Size([3, 20, 3]), dtype=torch.float32),\n",
            "        observation: Tensor(torch.Size([3, 20, 3]), dtype=torch.float32),\n",
            "        reward: Tensor(torch.Size([3, 20, 1]), dtype=torch.float32),\n",
            "        step_count: Tensor(torch.Size([3, 20, 1]), dtype=torch.int32),\n",
            "        traj_ids: Tensor(torch.Size([3, 20, 1]), dtype=torch.int64)},\n",
            "    batch_size=torch.Size([3, 20]),\n",
            "    device=cpu,\n",
            "    is_shared=False)\n",
            "3\n"
          ]
        }
      ],
      "source": [
        "\n",
        "# async data collector: keeps working while you update your model\n",
        "collector = MultiaSyncDataCollector(\n",
        "    create_env_fn=create_env_fn,  # either a list of functions or a ParallelEnv\n",
        "    policy=actor,\n",
        "    total_frames=240,\n",
        "    max_frames_per_traj=-1,  # envs are terminating, we don't need to stop them early \n",
        "    frames_per_batch=60,  # we want 60 frames at a time (we have 3 envs per sub-collector)\n",
        "    passing_devices=devices,  # len must match len of env created\n",
        "    devices=devices,\n",
        ")\n",
        "\n",
        "for i, d in enumerate(collector):\n",
        "    if i == 0:\n",
        "        print(d)  # trajectories are split automatically in [6 workers x 10 steps]\n",
        "    collector.update_policy_weights_()  # make sure that our policies have the latest weights if working on multiple devices\n",
        "print(i)\n",
        "del collector"
      ]
    }
  ],
  "metadata": {
    "kernelspec": {
      "display_name": "Python 3 (ipykernel)",
      "language": "python",
      "name": "python3"
    },
    "language_info": {
      "codemirror_mode": {
        "name": "ipython",
        "version": 3
      },
      "file_extension": ".py",
      "mimetype": "text/x-python",
      "name": "python",
      "nbconvert_exporter": "python",
      "pygments_lexer": "ipython3",
      "version": "3.8.3"
    },
    "colab": {
      "provenance": []
    },
    "accelerator": "GPU"
  },
  "nbformat": 4,
  "nbformat_minor": 5
}