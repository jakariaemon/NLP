{
 "cells": [
  {
   "cell_type": "code",
   "execution_count": null,
   "id": "029d46a1",
   "metadata": {},
   "outputs": [],
   "source": [
    "from diart.sources import MicrophoneAudioSource\n",
    "from diart.inference import RealTimeInference\n",
    "from diart.pipelines import OnlineSpeakerDiarization, PipelineConfig\n",
    "\n",
    "pipeline = OnlineSpeakerDiarization(PipelineConfig())\n",
    "audio_source = MicrophoneAudioSource(pipeline.sample_rate)\n",
    "inference = RealTimeInference(\"C:\\Users\\User\\Desktop\\HDK_JPN\", do_plot=True)\n",
    "\n",
    "inference(pipeline, audio_source)"
   ]
  },
  {
   "cell_type": "code",
   "execution_count": 2,
   "id": "7041caaf",
   "metadata": {},
   "outputs": [
    {
     "ename": "KeyboardInterrupt",
     "evalue": "",
     "output_type": "error",
     "traceback": [
      "\u001b[1;31m---------------------------------------------------------------------------\u001b[0m",
      "\u001b[1;31mKeyboardInterrupt\u001b[0m                         Traceback (most recent call last)",
      "\u001b[1;32m<ipython-input-2-61128682d226>\u001b[0m in \u001b[0;36m<module>\u001b[1;34m\u001b[0m\n\u001b[0;32m     23\u001b[0m \u001b[0membedding_stream\u001b[0m\u001b[1;33m.\u001b[0m\u001b[0msubscribe\u001b[0m\u001b[1;33m(\u001b[0m\u001b[0mon_next\u001b[0m\u001b[1;33m=\u001b[0m\u001b[1;32mlambda\u001b[0m \u001b[0memb\u001b[0m\u001b[1;33m:\u001b[0m \u001b[0mprint\u001b[0m\u001b[1;33m(\u001b[0m\u001b[0memb\u001b[0m\u001b[1;33m.\u001b[0m\u001b[0mshape\u001b[0m\u001b[1;33m)\u001b[0m\u001b[1;33m)\u001b[0m\u001b[1;33m\u001b[0m\u001b[1;33m\u001b[0m\u001b[0m\n\u001b[0;32m     24\u001b[0m \u001b[1;33m\u001b[0m\u001b[0m\n\u001b[1;32m---> 25\u001b[1;33m \u001b[0mmic\u001b[0m\u001b[1;33m.\u001b[0m\u001b[0mread\u001b[0m\u001b[1;33m(\u001b[0m\u001b[1;33m)\u001b[0m\u001b[1;33m\u001b[0m\u001b[1;33m\u001b[0m\u001b[0m\n\u001b[0m",
      "\u001b[1;32m~\\AppData\\Roaming\\Python\\Python38\\site-packages\\diart\\sources.py\u001b[0m in \u001b[0;36mread\u001b[1;34m(self)\u001b[0m\n\u001b[0;32m    298\u001b[0m         \u001b[1;32mwhile\u001b[0m \u001b[0mself\u001b[0m\u001b[1;33m.\u001b[0m\u001b[0mmic_stream\u001b[0m\u001b[1;33m:\u001b[0m\u001b[1;33m\u001b[0m\u001b[1;33m\u001b[0m\u001b[0m\n\u001b[0;32m    299\u001b[0m             \u001b[1;32mtry\u001b[0m\u001b[1;33m:\u001b[0m\u001b[1;33m\u001b[0m\u001b[1;33m\u001b[0m\u001b[0m\n\u001b[1;32m--> 300\u001b[1;33m                 \u001b[0mself\u001b[0m\u001b[1;33m.\u001b[0m\u001b[0mstream\u001b[0m\u001b[1;33m.\u001b[0m\u001b[0mon_next\u001b[0m\u001b[1;33m(\u001b[0m\u001b[0mself\u001b[0m\u001b[1;33m.\u001b[0m\u001b[0mqueue\u001b[0m\u001b[1;33m.\u001b[0m\u001b[0mget\u001b[0m\u001b[1;33m(\u001b[0m\u001b[1;33m)\u001b[0m\u001b[1;33m)\u001b[0m\u001b[1;33m\u001b[0m\u001b[1;33m\u001b[0m\u001b[0m\n\u001b[0m\u001b[0;32m    301\u001b[0m             \u001b[1;32mexcept\u001b[0m \u001b[0mException\u001b[0m \u001b[1;32mas\u001b[0m \u001b[0me\u001b[0m\u001b[1;33m:\u001b[0m\u001b[1;33m\u001b[0m\u001b[1;33m\u001b[0m\u001b[0m\n\u001b[0;32m    302\u001b[0m                 \u001b[0mself\u001b[0m\u001b[1;33m.\u001b[0m\u001b[0mstream\u001b[0m\u001b[1;33m.\u001b[0m\u001b[0mon_error\u001b[0m\u001b[1;33m(\u001b[0m\u001b[0me\u001b[0m\u001b[1;33m)\u001b[0m\u001b[1;33m\u001b[0m\u001b[1;33m\u001b[0m\u001b[0m\n",
      "\u001b[1;31mKeyboardInterrupt\u001b[0m: "
     ]
    }
   ],
   "source": [
    "import rx\n",
    "import rx.operators as ops\n",
    "import diart.operators as dops\n",
    "from diart.sources import MicrophoneAudioSource\n",
    "from diart.blocks import FramewiseModel, OverlapAwareSpeakerEmbedding\n",
    "\n",
    "sample_rate = 16000\n",
    "mic = MicrophoneAudioSource(sample_rate)\n",
    "\n",
    "# Initialize independent modules\n",
    "segmentation = FramewiseModel(\"pyannote/segmentation\")\n",
    "embedding = OverlapAwareSpeakerEmbedding(\"pyannote/embedding\")\n",
    "\n",
    "# Reformat microphone stream. Defaults to 5s duration and 500ms shift\n",
    "regular_stream = mic.stream.pipe(dops.regularize_stream(sample_rate))\n",
    "# Branch the microphone stream to calculate segmentation\n",
    "segmentation_stream = regular_stream.pipe(ops.map(segmentation))\n",
    "# Join audio and segmentation stream to calculate speaker embeddings\n",
    "embedding_stream = rx.zip(\n",
    "    regular_stream, segmentation_stream\n",
    ").pipe(ops.starmap(embedding))\n",
    "\n",
    "embedding_stream.subscribe(on_next=lambda emb: print(emb.shape))\n",
    "\n",
    "mic.read()"
   ]
  },
  {
   "cell_type": "code",
   "execution_count": 4,
   "id": "dcf94470",
   "metadata": {},
   "outputs": [
    {
     "name": "stdout",
     "output_type": "stream",
     "text": [
      "^C\n"
     ]
    }
   ],
   "source": [
    "!python -m diart.stream microphone"
   ]
  },
  {
   "cell_type": "code",
   "execution_count": null,
   "id": "9720e99d",
   "metadata": {},
   "outputs": [],
   "source": []
  }
 ],
 "metadata": {
  "kernelspec": {
   "display_name": "Python 3",
   "language": "python",
   "name": "python3"
  },
  "language_info": {
   "codemirror_mode": {
    "name": "ipython",
    "version": 3
   },
   "file_extension": ".py",
   "mimetype": "text/x-python",
   "name": "python",
   "nbconvert_exporter": "python",
   "pygments_lexer": "ipython3",
   "version": "3.8.8"
  }
 },
 "nbformat": 4,
 "nbformat_minor": 5
}
