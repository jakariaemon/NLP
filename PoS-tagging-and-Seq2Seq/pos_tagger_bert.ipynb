{
  "cells": [
    {
      "cell_type": "markdown",
      "metadata": {
        "nbpresent": {
          "id": "2b1b350c-5a3c-434c-bcb2-0672625d154d"
        },
        "id": "QdRWNxm24n7g"
      },
      "source": [
        "\n",
        "# Α Pos Tagger trained on UD treebank with fine-tuning a BERT model"
      ]
    },
    {
      "cell_type": "markdown",
      "metadata": {
        "id": "rvU0U9bi4n7t"
      },
      "source": [
        "# Keras BERT implementation"
      ]
    },
    {
      "cell_type": "code",
      "source": [
        "!nvidia-smi"
      ],
      "metadata": {
        "colab": {
          "base_uri": "https://localhost:8080/"
        },
        "id": "-nr4a5Ff4zsf",
        "outputId": "bbcbd513-57d9-493d-9378-8962ebcf3890"
      },
      "execution_count": 1,
      "outputs": [
        {
          "output_type": "stream",
          "name": "stdout",
          "text": [
            "Mon Jul  4 06:26:46 2022       \n",
            "+-----------------------------------------------------------------------------+\n",
            "| NVIDIA-SMI 460.32.03    Driver Version: 460.32.03    CUDA Version: 11.2     |\n",
            "|-------------------------------+----------------------+----------------------+\n",
            "| GPU  Name        Persistence-M| Bus-Id        Disp.A | Volatile Uncorr. ECC |\n",
            "| Fan  Temp  Perf  Pwr:Usage/Cap|         Memory-Usage | GPU-Util  Compute M. |\n",
            "|                               |                      |               MIG M. |\n",
            "|===============================+======================+======================|\n",
            "|   0  Tesla T4            Off  | 00000000:00:04.0 Off |                    0 |\n",
            "| N/A   54C    P8    10W /  70W |      0MiB / 15109MiB |      0%      Default |\n",
            "|                               |                      |                  N/A |\n",
            "+-------------------------------+----------------------+----------------------+\n",
            "                                                                               \n",
            "+-----------------------------------------------------------------------------+\n",
            "| Processes:                                                                  |\n",
            "|  GPU   GI   CI        PID   Type   Process name                  GPU Memory |\n",
            "|        ID   ID                                                   Usage      |\n",
            "|=============================================================================|\n",
            "|  No running processes found                                                 |\n",
            "+-----------------------------------------------------------------------------+\n"
          ]
        }
      ]
    },
    {
      "cell_type": "code",
      "execution_count": 2,
      "metadata": {
        "nbpresent": {
          "id": "f61bc4e3-579a-44c9-a7c6-4dc1f9fbf7cb"
        },
        "colab": {
          "base_uri": "https://localhost:8080/"
        },
        "id": "_KEizdLo4n7u",
        "outputId": "a846d241-1a67-48fd-ba09-ba9a255ae81e"
      },
      "outputs": [
        {
          "output_type": "stream",
          "name": "stdout",
          "text": [
            "Looking in indexes: https://pypi.org/simple, https://us-python.pkg.dev/colab-wheels/public/simple/\n",
            "Collecting pyconll\n",
            "  Downloading pyconll-3.1.0-py3-none-any.whl (26 kB)\n",
            "Installing collected packages: pyconll\n",
            "Successfully installed pyconll-3.1.0\n",
            "Looking in indexes: https://pypi.org/simple, https://us-python.pkg.dev/colab-wheels/public/simple/\n",
            "Requirement already satisfied: pydot in /usr/local/lib/python3.7/dist-packages (1.3.0)\n",
            "Requirement already satisfied: pyparsing>=2.1.4 in /usr/local/lib/python3.7/dist-packages (from pydot) (3.0.9)\n",
            "Looking in indexes: https://pypi.org/simple, https://us-python.pkg.dev/colab-wheels/public/simple/\n",
            "Requirement already satisfied: graphviz in /usr/local/lib/python3.7/dist-packages (0.10.1)\n",
            "Looking in indexes: https://pypi.org/simple, https://us-python.pkg.dev/colab-wheels/public/simple/\n",
            "Collecting bert-tensorflow==1.0.1\n",
            "  Downloading bert_tensorflow-1.0.1-py2.py3-none-any.whl (67 kB)\n",
            "\u001b[K     |████████████████████████████████| 67 kB 5.9 MB/s \n",
            "\u001b[?25hRequirement already satisfied: six in /usr/local/lib/python3.7/dist-packages (from bert-tensorflow==1.0.1) (1.15.0)\n",
            "Installing collected packages: bert-tensorflow\n",
            "Successfully installed bert-tensorflow-1.0.1\n"
          ]
        }
      ],
      "source": [
        "! pip install pyconll\n",
        "! pip install pydot\n",
        "!pip install graphviz\n",
        "!pip install bert-tensorflow==1.0.1"
      ]
    },
    {
      "cell_type": "code",
      "source": [
        "pip install tensorflow-gpu==1.15.5"
      ],
      "metadata": {
        "colab": {
          "base_uri": "https://localhost:8080/",
          "height": 1000
        },
        "id": "fCSRNeoM4td_",
        "outputId": "ab98d020-102c-42dd-fdab-34fc9d0565d6"
      },
      "execution_count": 3,
      "outputs": [
        {
          "output_type": "stream",
          "name": "stdout",
          "text": [
            "Looking in indexes: https://pypi.org/simple, https://us-python.pkg.dev/colab-wheels/public/simple/\n",
            "Collecting tensorflow-gpu==1.15.5\n",
            "  Downloading tensorflow_gpu-1.15.5-cp37-cp37m-manylinux2010_x86_64.whl (411.0 MB)\n",
            "\u001b[K     |████████████████████████████████| 411.0 MB 23 kB/s \n",
            "\u001b[?25hRequirement already satisfied: wheel>=0.26 in /usr/local/lib/python3.7/dist-packages (from tensorflow-gpu==1.15.5) (0.37.1)\n",
            "Requirement already satisfied: wrapt>=1.11.1 in /usr/local/lib/python3.7/dist-packages (from tensorflow-gpu==1.15.5) (1.14.1)\n",
            "Collecting gast==0.2.2\n",
            "  Downloading gast-0.2.2.tar.gz (10 kB)\n",
            "Collecting tensorboard<1.16.0,>=1.15.0\n",
            "  Downloading tensorboard-1.15.0-py3-none-any.whl (3.8 MB)\n",
            "\u001b[K     |████████████████████████████████| 3.8 MB 46.3 MB/s \n",
            "\u001b[?25hRequirement already satisfied: astor>=0.6.0 in /usr/local/lib/python3.7/dist-packages (from tensorflow-gpu==1.15.5) (0.8.1)\n",
            "Requirement already satisfied: keras-preprocessing>=1.0.5 in /usr/local/lib/python3.7/dist-packages (from tensorflow-gpu==1.15.5) (1.1.2)\n",
            "Requirement already satisfied: termcolor>=1.1.0 in /usr/local/lib/python3.7/dist-packages (from tensorflow-gpu==1.15.5) (1.1.0)\n",
            "Requirement already satisfied: absl-py>=0.7.0 in /usr/local/lib/python3.7/dist-packages (from tensorflow-gpu==1.15.5) (1.1.0)\n",
            "Collecting h5py<=2.10.0\n",
            "  Downloading h5py-2.10.0-cp37-cp37m-manylinux1_x86_64.whl (2.9 MB)\n",
            "\u001b[K     |████████████████████████████████| 2.9 MB 52.2 MB/s \n",
            "\u001b[?25hCollecting numpy<1.19.0,>=1.16.0\n",
            "  Downloading numpy-1.18.5-cp37-cp37m-manylinux1_x86_64.whl (20.1 MB)\n",
            "\u001b[K     |████████████████████████████████| 20.1 MB 1.4 MB/s \n",
            "\u001b[?25hCollecting tensorflow-estimator==1.15.1\n",
            "  Downloading tensorflow_estimator-1.15.1-py2.py3-none-any.whl (503 kB)\n",
            "\u001b[K     |████████████████████████████████| 503 kB 67.5 MB/s \n",
            "\u001b[?25hCollecting keras-applications>=1.0.8\n",
            "  Downloading Keras_Applications-1.0.8-py3-none-any.whl (50 kB)\n",
            "\u001b[K     |████████████████████████████████| 50 kB 9.2 MB/s \n",
            "\u001b[?25hRequirement already satisfied: grpcio>=1.8.6 in /usr/local/lib/python3.7/dist-packages (from tensorflow-gpu==1.15.5) (1.46.3)\n",
            "Requirement already satisfied: protobuf>=3.6.1 in /usr/local/lib/python3.7/dist-packages (from tensorflow-gpu==1.15.5) (3.17.3)\n",
            "Requirement already satisfied: google-pasta>=0.1.6 in /usr/local/lib/python3.7/dist-packages (from tensorflow-gpu==1.15.5) (0.2.0)\n",
            "Requirement already satisfied: six>=1.10.0 in /usr/local/lib/python3.7/dist-packages (from tensorflow-gpu==1.15.5) (1.15.0)\n",
            "Requirement already satisfied: opt-einsum>=2.3.2 in /usr/local/lib/python3.7/dist-packages (from tensorflow-gpu==1.15.5) (3.3.0)\n",
            "Requirement already satisfied: markdown>=2.6.8 in /usr/local/lib/python3.7/dist-packages (from tensorboard<1.16.0,>=1.15.0->tensorflow-gpu==1.15.5) (3.3.7)\n",
            "Requirement already satisfied: werkzeug>=0.11.15 in /usr/local/lib/python3.7/dist-packages (from tensorboard<1.16.0,>=1.15.0->tensorflow-gpu==1.15.5) (1.0.1)\n",
            "Requirement already satisfied: setuptools>=41.0.0 in /usr/local/lib/python3.7/dist-packages (from tensorboard<1.16.0,>=1.15.0->tensorflow-gpu==1.15.5) (57.4.0)\n",
            "Requirement already satisfied: importlib-metadata>=4.4 in /usr/local/lib/python3.7/dist-packages (from markdown>=2.6.8->tensorboard<1.16.0,>=1.15.0->tensorflow-gpu==1.15.5) (4.11.4)\n",
            "Requirement already satisfied: zipp>=0.5 in /usr/local/lib/python3.7/dist-packages (from importlib-metadata>=4.4->markdown>=2.6.8->tensorboard<1.16.0,>=1.15.0->tensorflow-gpu==1.15.5) (3.8.0)\n",
            "Requirement already satisfied: typing-extensions>=3.6.4 in /usr/local/lib/python3.7/dist-packages (from importlib-metadata>=4.4->markdown>=2.6.8->tensorboard<1.16.0,>=1.15.0->tensorflow-gpu==1.15.5) (4.1.1)\n",
            "Building wheels for collected packages: gast\n",
            "  Building wheel for gast (setup.py) ... \u001b[?25l\u001b[?25hdone\n",
            "  Created wheel for gast: filename=gast-0.2.2-py3-none-any.whl size=7554 sha256=a568a81cf6e82b95d2d6cf9c7396662db58c97e841d0369c2baecb52fbd67d4c\n",
            "  Stored in directory: /root/.cache/pip/wheels/21/7f/02/420f32a803f7d0967b48dd823da3f558c5166991bfd204eef3\n",
            "Successfully built gast\n",
            "Installing collected packages: numpy, h5py, tensorflow-estimator, tensorboard, keras-applications, gast, tensorflow-gpu\n",
            "  Attempting uninstall: numpy\n",
            "    Found existing installation: numpy 1.21.6\n",
            "    Uninstalling numpy-1.21.6:\n",
            "      Successfully uninstalled numpy-1.21.6\n",
            "  Attempting uninstall: h5py\n",
            "    Found existing installation: h5py 3.1.0\n",
            "    Uninstalling h5py-3.1.0:\n",
            "      Successfully uninstalled h5py-3.1.0\n",
            "  Attempting uninstall: tensorflow-estimator\n",
            "    Found existing installation: tensorflow-estimator 2.8.0\n",
            "    Uninstalling tensorflow-estimator-2.8.0:\n",
            "      Successfully uninstalled tensorflow-estimator-2.8.0\n",
            "  Attempting uninstall: tensorboard\n",
            "    Found existing installation: tensorboard 2.8.0\n",
            "    Uninstalling tensorboard-2.8.0:\n",
            "      Successfully uninstalled tensorboard-2.8.0\n",
            "  Attempting uninstall: gast\n",
            "    Found existing installation: gast 0.5.3\n",
            "    Uninstalling gast-0.5.3:\n",
            "      Successfully uninstalled gast-0.5.3\n",
            "\u001b[31mERROR: pip's dependency resolver does not currently take into account all the packages that are installed. This behaviour is the source of the following dependency conflicts.\n",
            "xarray-einstats 0.2.2 requires numpy>=1.21, but you have numpy 1.18.5 which is incompatible.\n",
            "tensorflow 2.8.2+zzzcolab20220527125636 requires numpy>=1.20, but you have numpy 1.18.5 which is incompatible.\n",
            "tensorflow 2.8.2+zzzcolab20220527125636 requires tensorboard<2.9,>=2.8, but you have tensorboard 1.15.0 which is incompatible.\n",
            "tensorflow 2.8.2+zzzcolab20220527125636 requires tensorflow-estimator<2.9,>=2.8, but you have tensorflow-estimator 1.15.1 which is incompatible.\n",
            "tensorflow-probability 0.16.0 requires gast>=0.3.2, but you have gast 0.2.2 which is incompatible.\n",
            "tables 3.7.0 requires numpy>=1.19.0, but you have numpy 1.18.5 which is incompatible.\n",
            "jaxlib 0.3.7+cuda11.cudnn805 requires numpy>=1.19, but you have numpy 1.18.5 which is incompatible.\n",
            "jax 0.3.8 requires numpy>=1.19, but you have numpy 1.18.5 which is incompatible.\n",
            "datascience 0.10.6 requires folium==0.2.1, but you have folium 0.8.3 which is incompatible.\n",
            "albumentations 0.1.12 requires imgaug<0.2.7,>=0.2.5, but you have imgaug 0.2.9 which is incompatible.\u001b[0m\n",
            "Successfully installed gast-0.2.2 h5py-2.10.0 keras-applications-1.0.8 numpy-1.18.5 tensorboard-1.15.0 tensorflow-estimator-1.15.1 tensorflow-gpu-1.15.5\n"
          ]
        },
        {
          "output_type": "display_data",
          "data": {
            "application/vnd.colab-display-data+json": {
              "pip_warning": {
                "packages": [
                  "numpy"
                ]
              }
            }
          },
          "metadata": {}
        }
      ]
    },
    {
      "cell_type": "code",
      "source": [
        "pip install keras==2.3.1"
      ],
      "metadata": {
        "colab": {
          "base_uri": "https://localhost:8080/"
        },
        "id": "PHUooCdG4vkw",
        "outputId": "ac371930-175f-45c7-80b8-d48ea3e8312a"
      },
      "execution_count": 4,
      "outputs": [
        {
          "output_type": "stream",
          "name": "stdout",
          "text": [
            "Looking in indexes: https://pypi.org/simple, https://us-python.pkg.dev/colab-wheels/public/simple/\n",
            "Collecting keras==2.3.1\n",
            "  Downloading Keras-2.3.1-py2.py3-none-any.whl (377 kB)\n",
            "\u001b[K     |████████████████████████████████| 377 kB 25.3 MB/s \n",
            "\u001b[?25hRequirement already satisfied: scipy>=0.14 in /usr/local/lib/python3.7/dist-packages (from keras==2.3.1) (1.4.1)\n",
            "Requirement already satisfied: pyyaml in /usr/local/lib/python3.7/dist-packages (from keras==2.3.1) (3.13)\n",
            "Requirement already satisfied: numpy>=1.9.1 in /usr/local/lib/python3.7/dist-packages (from keras==2.3.1) (1.18.5)\n",
            "Requirement already satisfied: keras-applications>=1.0.6 in /usr/local/lib/python3.7/dist-packages (from keras==2.3.1) (1.0.8)\n",
            "Requirement already satisfied: keras-preprocessing>=1.0.5 in /usr/local/lib/python3.7/dist-packages (from keras==2.3.1) (1.1.2)\n",
            "Requirement already satisfied: h5py in /usr/local/lib/python3.7/dist-packages (from keras==2.3.1) (2.10.0)\n",
            "Requirement already satisfied: six>=1.9.0 in /usr/local/lib/python3.7/dist-packages (from keras==2.3.1) (1.15.0)\n",
            "Installing collected packages: keras\n",
            "  Attempting uninstall: keras\n",
            "    Found existing installation: keras 2.8.0\n",
            "    Uninstalling keras-2.8.0:\n",
            "      Successfully uninstalled keras-2.8.0\n",
            "\u001b[31mERROR: pip's dependency resolver does not currently take into account all the packages that are installed. This behaviour is the source of the following dependency conflicts.\n",
            "tensorflow 2.8.2+zzzcolab20220527125636 requires keras<2.9,>=2.8.0rc0, but you have keras 2.3.1 which is incompatible.\n",
            "tensorflow 2.8.2+zzzcolab20220527125636 requires numpy>=1.20, but you have numpy 1.18.5 which is incompatible.\n",
            "tensorflow 2.8.2+zzzcolab20220527125636 requires tensorboard<2.9,>=2.8, but you have tensorboard 1.15.0 which is incompatible.\n",
            "tensorflow 2.8.2+zzzcolab20220527125636 requires tensorflow-estimator<2.9,>=2.8, but you have tensorflow-estimator 1.15.1 which is incompatible.\u001b[0m\n",
            "Successfully installed keras-2.3.1\n"
          ]
        }
      ]
    },
    {
      "cell_type": "code",
      "source": [
        "pip install git+https://www.github.com/keras-team/keras-contrib.git"
      ],
      "metadata": {
        "colab": {
          "base_uri": "https://localhost:8080/"
        },
        "id": "vIq-DQru4yIG",
        "outputId": "4525491e-6436-4899-f02e-488256d4ad1c"
      },
      "execution_count": 5,
      "outputs": [
        {
          "output_type": "stream",
          "name": "stdout",
          "text": [
            "Looking in indexes: https://pypi.org/simple, https://us-python.pkg.dev/colab-wheels/public/simple/\n",
            "Collecting git+https://www.github.com/keras-team/keras-contrib.git\n",
            "  Cloning https://www.github.com/keras-team/keras-contrib.git to /tmp/pip-req-build-2cg22g0g\n",
            "  Running command git clone -q https://www.github.com/keras-team/keras-contrib.git /tmp/pip-req-build-2cg22g0g\n",
            "Requirement already satisfied: keras in /usr/local/lib/python3.7/dist-packages (from keras-contrib==2.0.8) (2.3.1)\n",
            "Requirement already satisfied: six>=1.9.0 in /usr/local/lib/python3.7/dist-packages (from keras->keras-contrib==2.0.8) (1.15.0)\n",
            "Requirement already satisfied: scipy>=0.14 in /usr/local/lib/python3.7/dist-packages (from keras->keras-contrib==2.0.8) (1.4.1)\n",
            "Requirement already satisfied: keras-applications>=1.0.6 in /usr/local/lib/python3.7/dist-packages (from keras->keras-contrib==2.0.8) (1.0.8)\n",
            "Requirement already satisfied: numpy>=1.9.1 in /usr/local/lib/python3.7/dist-packages (from keras->keras-contrib==2.0.8) (1.18.5)\n",
            "Requirement already satisfied: keras-preprocessing>=1.0.5 in /usr/local/lib/python3.7/dist-packages (from keras->keras-contrib==2.0.8) (1.1.2)\n",
            "Requirement already satisfied: pyyaml in /usr/local/lib/python3.7/dist-packages (from keras->keras-contrib==2.0.8) (3.13)\n",
            "Requirement already satisfied: h5py in /usr/local/lib/python3.7/dist-packages (from keras->keras-contrib==2.0.8) (2.10.0)\n",
            "Building wheels for collected packages: keras-contrib\n",
            "  Building wheel for keras-contrib (setup.py) ... \u001b[?25l\u001b[?25hdone\n",
            "  Created wheel for keras-contrib: filename=keras_contrib-2.0.8-py3-none-any.whl size=101077 sha256=9d47cebf66c81c641a56abfc13c57b7f71dbf53b14bec318cfe46ae6fe07842a\n",
            "  Stored in directory: /tmp/pip-ephem-wheel-cache-9pblxqcu/wheels/bb/1f/f2/b57495012683b6b20bbae94a3915ec79753111452d79886abc\n",
            "Successfully built keras-contrib\n",
            "Installing collected packages: keras-contrib\n",
            "Successfully installed keras-contrib-2.0.8\n"
          ]
        }
      ]
    },
    {
      "cell_type": "code",
      "execution_count": 1,
      "metadata": {
        "nbpresent": {
          "id": "f4a0e2d1-af80-44ba-a384-fab4d5d6c703"
        },
        "colab": {
          "base_uri": "https://localhost:8080/"
        },
        "id": "S791ZxcU4n7v",
        "outputId": "0d905bd2-4f20-452f-c006-fe2f30e4531a"
      },
      "outputs": [
        {
          "output_type": "stream",
          "name": "stderr",
          "text": [
            "Using TensorFlow backend.\n"
          ]
        }
      ],
      "source": [
        "from numpy.random import seed\n",
        "seed(1)\n",
        "from tensorflow import set_random_seed\n",
        "set_random_seed(2)\n",
        "import pyconll, keras, pickle, os, random, nltk, datetime, warnings, gc, urllib.request, zipfile, collections\n",
        "import numpy as np\n",
        "import matplotlib.pyplot as plt\n",
        "from sklearn.utils import shuffle\n",
        "from sklearn.metrics import recall_score, precision_score, classification_report, accuracy_score, confusion_matrix, f1_score\n",
        "\n",
        "from keras.models import Sequential, Model\n",
        "from keras.layers import Embedding, Dense, Input, concatenate, Layer, Lambda, Dropout, Activation\n",
        "from keras.callbacks import ModelCheckpoint, EarlyStopping, Callback, TensorBoard\n",
        "from keras import backend as K\n",
        "from keras.models import load_model\n",
        "from keras.utils import plot_model\n",
        "from keras.utils.np_utils import to_categorical\n",
        "\n",
        "import tensorflow as tf\n",
        "import tensorflow_hub as hub\n",
        "from bert.tokenization import FullTokenizer\n",
        "\n",
        "from tqdm import tqdm_notebook\n",
        "from IPython.display import Image \n"
      ]
    },
    {
      "cell_type": "markdown",
      "metadata": {
        "nbpresent": {
          "id": "0f518892-45cc-4978-97e8-02c1fce60407"
        },
        "id": "EM0U7i534n7w"
      },
      "source": [
        "# Various plot functions"
      ]
    },
    {
      "cell_type": "code",
      "execution_count": 2,
      "metadata": {
        "nbpresent": {
          "id": "ffc21443-9fd6-4cd3-86e1-a1a518cb6aca"
        },
        "id": "61Q2SVfN4n7x"
      },
      "outputs": [],
      "source": [
        "def plot_learning_curve(estimator, title, X, y, ylim=None, cv=None,\n",
        "                        n_jobs=None, train_sizes=np.linspace(.1, 1.0, 5)):\n",
        "    plt.title(title)\n",
        "    if ylim is not None:\n",
        "        plt.ylim(*ylim)\n",
        "    plt.xlabel(\"Training examples\")\n",
        "    plt.ylabel(\"Accuracy\")\n",
        "    train_sizes, train_scores, test_scores = learning_curve(\n",
        "        estimator, X, y, cv=cv, n_jobs=n_jobs, train_sizes=train_sizes, scoring='accuracy')\n",
        "    train_scores_mean = np.mean(train_scores, axis=1)\n",
        "    train_scores_std = np.std(train_scores, axis=1)\n",
        "    test_scores_mean = np.mean(test_scores, axis=1)\n",
        "    test_scores_std = np.std(test_scores, axis=1)\n",
        "    plt.grid()\n",
        "\n",
        "    plt.fill_between(train_sizes, train_scores_mean - train_scores_std,\n",
        "                     train_scores_mean + train_scores_std, alpha=0.1,\n",
        "                     color=\"r\")\n",
        "    plt.fill_between(train_sizes, test_scores_mean - test_scores_std,\n",
        "                     test_scores_mean + test_scores_std, alpha=0.1, color=\"g\")\n",
        "    plt.plot(train_sizes, train_scores_mean, 'o-', color=\"r\",\n",
        "             label=\"Training score\")\n",
        "    plt.plot(train_sizes, test_scores_mean, 'o-', color=\"g\",\n",
        "             label=\"Cross-validation score\")\n",
        "\n",
        "    plt.legend(loc=\"best\")\n",
        "    return plt"
      ]
    },
    {
      "cell_type": "code",
      "execution_count": 3,
      "metadata": {
        "nbpresent": {
          "id": "aa581c97-05ee-4e34-9f9d-884ce9ba4b66"
        },
        "id": "6a7OALI44n7x"
      },
      "outputs": [],
      "source": [
        "def plot_confusion_matrix(f1,\n",
        "                          cm,\n",
        "                          target_names,\n",
        "                          title='Confusion matrix',\n",
        "                          cmap=None,\n",
        "                          normalize=True,\n",
        "                          i=1):\n",
        "    \"\"\"\n",
        "    given a sklearn confusion matrix (cm), make a nice plot\n",
        "\n",
        "    Arguments\n",
        "    ---------\n",
        "    cm:           confusion matrix from sklearn.metrics.confusion_matrix\n",
        "\n",
        "    target_names: given classification classes such as [0, 1, 2]\n",
        "                  the class names, for example: ['high', 'medium', 'low']\n",
        "\n",
        "    title:        the text to display at the top of the matrix\n",
        "\n",
        "    cmap:         the gradient of the values displayed from matplotlib.pyplot.cm\n",
        "                  see http://matplotlib.org/examples/color/colormaps_reference.html\n",
        "                  plt.get_cmap('jet') or plt.cm.Blues\n",
        "\n",
        "    normalize:    If False, plot the raw numbers\n",
        "                  If True, plot the proportions\n",
        "\n",
        "    Usage\n",
        "    -----\n",
        "    plot_confusion_matrix(cm           = cm,                  # confusion matrix created by\n",
        "                                                              # sklearn.metrics.confusion_matrix\n",
        "                          normalize    = True,                # show proportions\n",
        "                          target_names = y_labels_vals,       # list of names of the classes\n",
        "                          title        = best_estimator_name) # title of graph\n",
        "\n",
        "    Citiation\n",
        "    ---------\n",
        "    http://scikit-learn.org/stable/auto_examples/model_selection/plot_confusion_matrix.html\n",
        "\n",
        "    \"\"\"\n",
        "    import matplotlib.pyplot as plt\n",
        "    import numpy as np\n",
        "    import itertools\n",
        "\n",
        "    accuracy = np.trace(cm) / float(np.sum(cm))\n",
        "    misclass = 1 - accuracy\n",
        "    plt.figure(figsize=(10, 6))\n",
        "    if cmap is None:\n",
        "        cmap = plt.get_cmap('Blues')\n",
        "\n",
        "    plt.imshow(cm, interpolation='nearest', cmap=cmap)\n",
        "    plt.title(title)\n",
        "    plt.colorbar()\n",
        "\n",
        "    if target_names is not None:\n",
        "        tick_marks = np.arange(len(target_names))\n",
        "        plt.xticks(tick_marks, target_names, rotation=45)\n",
        "        plt.yticks(tick_marks, target_names)\n",
        "\n",
        "    if normalize:\n",
        "        cm = cm.astype('float') / cm.sum(axis=1)[:, np.newaxis]\n",
        "\n",
        "\n",
        "    thresh = cm.max() / 1.5 if normalize else cm.max() / 2\n",
        "    for i, j in itertools.product(range(cm.shape[0]), range(cm.shape[1])):\n",
        "        if normalize:\n",
        "            plt.text(j, i, \"{:0.4f}\".format(cm[i, j]),\n",
        "                     horizontalalignment=\"center\",\n",
        "                     color=\"white\" if cm[i, j] > thresh else \"black\")\n",
        "        else:\n",
        "            plt.text(j, i, \"{:,}\".format(cm[i, j]),\n",
        "                     horizontalalignment=\"center\",\n",
        "                     color=\"white\" if cm[i, j] > thresh else \"black\")\n",
        "\n",
        "\n",
        "    plt.tight_layout()\n",
        "    plt.ylabel('True label')\n",
        "    plt.xlabel('Predicted label\\naccuracy={:0.4f}; misclass={:0.4f}; f1-score={:0.4f}'.format(accuracy, misclass, f1))"
      ]
    },
    {
      "cell_type": "code",
      "execution_count": 4,
      "metadata": {
        "nbpresent": {
          "id": "7626f765-a0ca-4230-b9b4-5aea4c185273"
        },
        "id": "GDiKmgtH4n7y"
      },
      "outputs": [],
      "source": [
        "def plot_acc():\n",
        "    plt.plot(history.history['acc'])\n",
        "    plt.plot(history.history['val_acc'])\n",
        "    plt.title('model accuracy')\n",
        "    plt.ylabel('accuracy')\n",
        "    plt.xlabel('epoch')\n",
        "    plt.legend(['train', 'test'], loc='upper left')\n",
        "    plt.show()"
      ]
    },
    {
      "cell_type": "code",
      "execution_count": 5,
      "metadata": {
        "nbpresent": {
          "id": "4afdbba0-cb73-4bdc-97f7-3cbdd2d19079"
        },
        "scrolled": false,
        "id": "IHdZRcMf4n7z"
      },
      "outputs": [],
      "source": [
        "def plot_loss():\n",
        "    plt.plot(history.history['loss'])\n",
        "    plt.plot(history.history['val_loss'])\n",
        "    plt.title('model loss')\n",
        "    plt.ylabel('loss')\n",
        "    plt.xlabel('epoch')\n",
        "    plt.legend(['train', 'test'], loc='upper left')\n",
        "    plt.show()"
      ]
    },
    {
      "cell_type": "markdown",
      "metadata": {
        "nbpresent": {
          "id": "1585e7f9-881f-46fe-a1e8-ca970e292167"
        },
        "id": "uLwEgBqy4n70"
      },
      "source": [
        "# Load Dataset"
      ]
    },
    {
      "cell_type": "code",
      "execution_count": 6,
      "metadata": {
        "nbpresent": {
          "id": "75d32121-1074-4cd6-8355-599afeff56db"
        },
        "id": "eMlzWONb4n70"
      },
      "outputs": [],
      "source": [
        "UD_ENGLISH_TRAIN = 'en_partut-ud-train.conllu'\n",
        "UD_ENGLISH_DEV = 'en_partut-ud-dev.conllu'\n",
        "UD_ENGLISH_TEST = 'en_partut-ud-test.conllu'"
      ]
    },
    {
      "cell_type": "code",
      "execution_count": 7,
      "metadata": {
        "nbpresent": {
          "id": "2eb0b136-1052-4d48-8a66-48b5ebc96ff8"
        },
        "id": "Uy38jeAX4n70"
      },
      "outputs": [],
      "source": [
        "def download_files():\n",
        "    print('Downloading English treebank...')\n",
        "    urllib.request.urlretrieve('http://archive.aueb.gr:8085/files/en_partut-ud-dev.conllu', 'en_partut-ud-dev.conllu')\n",
        "    urllib.request.urlretrieve('http://archive.aueb.gr:8085/files/en_partut-ud-test.conllu', 'en_partut-ud-test.conllu')\n",
        "    urllib.request.urlretrieve('http://archive.aueb.gr:8085/files/en_partut-ud-train.conllu', 'en_partut-ud-train.conllu')\n",
        "    print('Treebank downloaded.')"
      ]
    },
    {
      "cell_type": "code",
      "execution_count": 8,
      "metadata": {
        "nbpresent": {
          "id": "4e617ca6-4cce-42a0-9396-28b9d704df73"
        },
        "colab": {
          "base_uri": "https://localhost:8080/"
        },
        "id": "i5-ghkZH4n71",
        "outputId": "93d76b7b-61f5-4511-df73-d0cbdb672966"
      },
      "outputs": [
        {
          "output_type": "stream",
          "name": "stdout",
          "text": [
            "Downloading English treebank...\n",
            "Treebank downloaded.\n"
          ]
        }
      ],
      "source": [
        "download_files()"
      ]
    },
    {
      "cell_type": "markdown",
      "metadata": {
        "nbpresent": {
          "id": "43c9097b-37be-4f3d-b3d3-4a54a94c1174"
        },
        "id": "i1FHVx-Q4n71"
      },
      "source": [
        "# Preprocessing"
      ]
    },
    {
      "cell_type": "code",
      "execution_count": 9,
      "metadata": {
        "nbpresent": {
          "id": "016836bb-abb2-4235-ab21-df90a6e1e44e"
        },
        "id": "xgalWsM94n71"
      },
      "outputs": [],
      "source": [
        "def read_conllu(path):\n",
        "    data = pyconll.load_from_file(path)\n",
        "    tagged_sentences=[]\n",
        "    t=0\n",
        "    for sentence in data:\n",
        "        tagged_sentence=[]\n",
        "        for token in sentence:\n",
        "            if token.upos and token.form:\n",
        "                t+=1\n",
        "                tagged_sentence.append((token.form.lower(), token.upos))\n",
        "        tagged_sentences.append(tagged_sentence)\n",
        "    return tagged_sentences"
      ]
    },
    {
      "cell_type": "markdown",
      "metadata": {
        "nbpresent": {
          "id": "11bff856-f685-49ef-a4e6-b5f2a768a9ad"
        },
        "id": "CuZ3vZEt4n71"
      },
      "source": [
        "Load train, development and test set in the appropriate tagged format, tuple (word, pos-tag)"
      ]
    },
    {
      "cell_type": "code",
      "execution_count": 10,
      "metadata": {
        "nbpresent": {
          "id": "fc49598b-75d3-45e9-9fa3-a7b604234760"
        },
        "id": "MgywplLx4n72"
      },
      "outputs": [],
      "source": [
        "train_sentences = read_conllu(UD_ENGLISH_TRAIN)\n",
        "val_sentences = read_conllu(UD_ENGLISH_DEV)\n",
        "test_sentences = read_conllu(UD_ENGLISH_TEST)"
      ]
    },
    {
      "cell_type": "markdown",
      "metadata": {
        "nbpresent": {
          "id": "3f72d1da-c1d1-4e25-a782-e12a66f1cedf"
        },
        "id": "W-nYt0Z04n72"
      },
      "source": [
        "Print some statistics"
      ]
    },
    {
      "cell_type": "code",
      "execution_count": 11,
      "metadata": {
        "nbpresent": {
          "id": "57ee9c67-7ec6-4054-91bc-a9aa896ba18a"
        },
        "colab": {
          "base_uri": "https://localhost:8080/"
        },
        "id": "Sy0bvUpU4n72",
        "outputId": "8ac0db39-3afc-4eb2-ff75-f72e98e5cd6b"
      },
      "outputs": [
        {
          "output_type": "stream",
          "name": "stdout",
          "text": [
            "Tagged sentences in train set:  1781\n",
            "Tagged words in train set: 43518\n",
            "========================================\n",
            "Tagged sentences in dev set:  156\n",
            "Tagged words in dev set: 2722\n",
            "========================================\n",
            "Tagged sentences in test set:  153\n",
            "Tagged words in test set: 3408\n",
            "****************************************\n",
            "Total sentences in dataset: 2090\n"
          ]
        }
      ],
      "source": [
        "print(\"Tagged sentences in train set: \", len(train_sentences))\n",
        "print(\"Tagged words in train set:\", len([item for sublist in train_sentences for item in sublist]))\n",
        "print(40*'=')\n",
        "print(\"Tagged sentences in dev set: \", len(val_sentences))\n",
        "print(\"Tagged words in dev set:\", len([item for sublist in val_sentences for item in sublist]))\n",
        "print(40*'=')\n",
        "print(\"Tagged sentences in test set: \", len(test_sentences))\n",
        "print(\"Tagged words in test set:\", len([item for sublist in test_sentences for item in sublist]))\n",
        "print(40*'*')\n",
        "print(\"Total sentences in dataset:\", len(train_sentences)+len(val_sentences)+len(test_sentences))"
      ]
    },
    {
      "cell_type": "code",
      "execution_count": 12,
      "metadata": {
        "nbpresent": {
          "id": "eb97895a-d649-4318-b3ac-d7d6b6088a12"
        },
        "colab": {
          "base_uri": "https://localhost:8080/"
        },
        "id": "TBDTYXtG4n73",
        "outputId": "f40de858-5c52-4023-89c8-4e66c6cd79bf"
      },
      "outputs": [
        {
          "output_type": "stream",
          "name": "stdout",
          "text": [
            "[('distribution', 'NOUN'), ('of', 'ADP'), ('this', 'DET'), ('license', 'NOUN'), ('does', 'AUX'), ('not', 'PART'), ('create', 'VERB'), ('an', 'DET'), ('attorney', 'NOUN'), ('-', 'PUNCT'), ('client', 'NOUN'), ('relationship', 'NOUN'), ('.', 'PUNCT')]\n"
          ]
        }
      ],
      "source": [
        "print(train_sentences[0])"
      ]
    },
    {
      "cell_type": "code",
      "execution_count": 13,
      "metadata": {
        "nbpresent": {
          "id": "573e2ec4-2df3-49f2-913d-3d0af2d6dc36"
        },
        "id": "zZfEvsGL4n73"
      },
      "outputs": [],
      "source": [
        "# Some usefull functions\n",
        "def tag_sequence(sentences):\n",
        "    return [[t for w, t in sentence] for sentence in sentences]\n",
        "\n",
        "def text_sequence(sentences):\n",
        "    return [[w for w, t in sentence] for sentence in sentences]"
      ]
    },
    {
      "cell_type": "markdown",
      "metadata": {
        "nbpresent": {
          "id": "533dd9e2-9e0e-43c1-8d13-b096a81a8984"
        },
        "id": "i_uqFPGR4n73"
      },
      "source": [
        "# Build dictionary with tag vocabulary"
      ]
    },
    {
      "cell_type": "code",
      "execution_count": 14,
      "metadata": {
        "colab": {
          "base_uri": "https://localhost:8080/"
        },
        "id": "TUDzaQAW4n73",
        "outputId": "06bc77f0-f860-40b7-d98e-92f078378209"
      },
      "outputs": [
        {
          "output_type": "stream",
          "name": "stdout",
          "text": [
            "TOTAL TAGS:  17\n"
          ]
        }
      ],
      "source": [
        "tags = set([item for sublist in train_sentences+test_sentences+val_sentences for _, item in sublist])\n",
        "print('TOTAL TAGS: ', len(tags))"
      ]
    },
    {
      "cell_type": "markdown",
      "metadata": {
        "id": "7vEPOK1o4n74"
      },
      "source": [
        "Add '-PAD-' tag with index=0 as used in BERT code"
      ]
    },
    {
      "cell_type": "code",
      "execution_count": 15,
      "metadata": {
        "nbpresent": {
          "id": "98944f66-c2ae-4b29-ba01-99287044a815"
        },
        "id": "5PREcuyY4n74"
      },
      "outputs": [],
      "source": [
        "tag2int = {}\n",
        "int2tag = {}\n",
        "\n",
        "for i, tag in enumerate(sorted(tags)):\n",
        "    tag2int[tag] = i+1\n",
        "    int2tag[i+1] = tag"
      ]
    },
    {
      "cell_type": "code",
      "execution_count": 16,
      "metadata": {
        "nbpresent": {
          "id": "a935a8bd-0522-42a1-8fea-285b671df0b8"
        },
        "id": "pNDejw9X4n74"
      },
      "outputs": [],
      "source": [
        "# Special character for the tags\n",
        "tag2int['-PAD-'] = 0\n",
        "int2tag[0] = '-PAD-'"
      ]
    },
    {
      "cell_type": "code",
      "execution_count": 17,
      "metadata": {
        "nbpresent": {
          "id": "3e55930b-4268-4b18-a7c7-de6675cdcc01"
        },
        "colab": {
          "base_uri": "https://localhost:8080/"
        },
        "id": "491zKmn74n75",
        "outputId": "f6761760-2cab-4e69-fe75-7afde5edcaee"
      },
      "outputs": [
        {
          "output_type": "stream",
          "name": "stdout",
          "text": [
            "Total tags: 18\n"
          ]
        }
      ],
      "source": [
        "n_tags = len(tag2int)\n",
        "print('Total tags:', n_tags)"
      ]
    },
    {
      "cell_type": "code",
      "execution_count": 18,
      "metadata": {
        "colab": {
          "base_uri": "https://localhost:8080/"
        },
        "id": "2HmDlCcj4n75",
        "outputId": "57bcafbe-df62-48c6-e7cc-0118ab785712"
      },
      "outputs": [
        {
          "output_type": "execute_result",
          "data": {
            "text/plain": [
              "['ADJ',\n",
              " 'ADP',\n",
              " 'ADV',\n",
              " 'AUX',\n",
              " 'CCONJ',\n",
              " 'DET',\n",
              " 'INTJ',\n",
              " 'NOUN',\n",
              " 'NUM',\n",
              " 'PART',\n",
              " 'PRON',\n",
              " 'PROPN',\n",
              " 'PUNCT',\n",
              " 'SCONJ',\n",
              " 'SYM',\n",
              " 'VERB',\n",
              " 'X',\n",
              " '-PAD-']"
            ]
          },
          "metadata": {},
          "execution_count": 18
        }
      ],
      "source": [
        "list(tag2int)"
      ]
    },
    {
      "cell_type": "markdown",
      "metadata": {
        "nbpresent": {
          "id": "6d6c1924-4661-4d3c-a446-ce81c05f9b71"
        },
        "id": "Zq-rwHLs4n75"
      },
      "source": [
        "======================================================================================================="
      ]
    },
    {
      "cell_type": "markdown",
      "metadata": {
        "nbpresent": {
          "id": "0b2c54e8-30d1-4f19-b03e-533a9e27b069"
        },
        "id": "rqljOmpZ4n75"
      },
      "source": [
        "# Parameters"
      ]
    },
    {
      "cell_type": "code",
      "execution_count": 63,
      "metadata": {
        "nbpresent": {
          "id": "5a212b96-46c2-4147-9dba-9eea08757f36"
        },
        "id": "jdC8VmTd4n75"
      },
      "outputs": [],
      "source": [
        "MAX_SEQUENCE_LENGTH = 70\n",
        "EPOCHS = 10"
      ]
    },
    {
      "cell_type": "markdown",
      "metadata": {
        "nbpresent": {
          "id": "e1ee0fe5-a699-487d-9d36-b0342bc17d79"
        },
        "id": "k7Yk7BWD4n76"
      },
      "source": [
        "# Special preprocessing for NNs"
      ]
    },
    {
      "cell_type": "markdown",
      "metadata": {
        "nbpresent": {
          "id": "e2fff7c1-9822-4192-95b8-6721acef446f"
        },
        "id": "d7TrFqfk4n76"
      },
      "source": [
        "### This is a very importand step for the whole process! So be careful, to rerun this step in case you change one of the following parameters:\n",
        "- MAX_SEQUENCE_LENGTH"
      ]
    },
    {
      "cell_type": "code",
      "execution_count": 64,
      "metadata": {
        "nbpresent": {
          "id": "12c47160-79d6-42d8-822d-e2d958e9ccb2"
        },
        "id": "mRT2AOfK4n76"
      },
      "outputs": [],
      "source": [
        "train_sentences = read_conllu(UD_ENGLISH_TRAIN)\n",
        "val_sentences = read_conllu(UD_ENGLISH_DEV)\n",
        "test_sentences = read_conllu(UD_ENGLISH_TEST)"
      ]
    },
    {
      "cell_type": "markdown",
      "metadata": {
        "nbpresent": {
          "id": "f67342ab-29db-4565-8912-1a7efb49f808"
        },
        "id": "jkItkuJL4n76"
      },
      "source": [
        "Lets examine the train set sentences distribution:"
      ]
    },
    {
      "cell_type": "code",
      "execution_count": 65,
      "metadata": {
        "nbpresent": {
          "id": "844de2c1-e861-45db-8bc0-4e1f47724a95"
        },
        "colab": {
          "base_uri": "https://localhost:8080/",
          "height": 0
        },
        "id": "9aqa1GEa4n76",
        "outputId": "a470ee2e-4a12-4241-b23d-92e734f28b04"
      },
      "outputs": [
        {
          "output_type": "display_data",
          "data": {
            "text/plain": [
              "<Figure size 432x288 with 1 Axes>"
            ],
            "image/png": "[encoded data removed]"
          },
          "metadata": {}
        }
      ],
      "source": [
        "import matplotlib.pyplot as plt\n",
        "plt.style.use(\"ggplot\")\n",
        "plt.hist([len(s) for s in train_sentences], bins=50)\n",
        "plt.show()"
      ]
    },
    {
      "cell_type": "code",
      "execution_count": 66,
      "metadata": {
        "nbpresent": {
          "id": "d9a2a74a-dff8-4dce-a9d2-b251e8a33976"
        },
        "colab": {
          "base_uri": "https://localhost:8080/"
        },
        "id": "bZ8HU6zq4n77",
        "outputId": "b08d05ad-bf70-4283-dd27-6ea51ed8ecba"
      },
      "outputs": [
        {
          "output_type": "stream",
          "name": "stdout",
          "text": [
            "Max sentence length: 209\n"
          ]
        }
      ],
      "source": [
        "print('Max sentence length:',len(max(train_sentences+val_sentences, key=len)))"
      ]
    },
    {
      "cell_type": "markdown",
      "metadata": {
        "nbpresent": {
          "id": "0bff7138-d0ee-43b8-82ae-8d577b6e18f1"
        },
        "id": "KpCeP2Vy4n77"
      },
      "source": [
        "To improve speed we will use a MAX_SEQUENCE_LENGTH shorter than the max lengthed sentence. To avoid truncating sequences during padding we split our sentences to MAX_SEQUENCE_LENGTH and so the number of samples increases accordingly. For example, if MAX_SEQUENCE_LENGTH=70, a sentence with length 150 splits in 3 sentences: 150=70+70+10"
      ]
    },
    {
      "cell_type": "code",
      "execution_count": 67,
      "metadata": {
        "nbpresent": {
          "id": "6b60d427-a8d8-4bb7-ad74-6b890098b6f7"
        },
        "id": "k_SLqZyQ4n78"
      },
      "outputs": [],
      "source": [
        "def  split(sentences, max):\n",
        "    new=[]\n",
        "    for data in sentences:\n",
        "        new.append(([data[x:x+max] for x in range(0, len(data), max)]))\n",
        "    new = [val for sublist in new for val in sublist]\n",
        "    return new"
      ]
    },
    {
      "cell_type": "code",
      "execution_count": 68,
      "metadata": {
        "nbpresent": {
          "id": "067299e9-7857-445b-99dd-1df2ddd4d740"
        },
        "id": "wWSOxGwD4n78"
      },
      "outputs": [],
      "source": [
        "train_sentences = split(train_sentences, MAX_SEQUENCE_LENGTH)\n",
        "val_sentences = split(val_sentences, MAX_SEQUENCE_LENGTH)\n",
        "test_sentences = split(test_sentences, MAX_SEQUENCE_LENGTH)"
      ]
    },
    {
      "cell_type": "code",
      "execution_count": 69,
      "metadata": {
        "nbpresent": {
          "id": "b180dbde-a00e-4f4b-aad7-33b0b31ad693"
        },
        "colab": {
          "base_uri": "https://localhost:8080/"
        },
        "id": "H5Z7AtoV4n78",
        "outputId": "77e69493-0245-4c17-863e-28788c275ee4"
      },
      "outputs": [
        {
          "output_type": "execute_result",
          "data": {
            "text/plain": [
              "70"
            ]
          },
          "metadata": {},
          "execution_count": 69
        }
      ],
      "source": [
        "len(max(train_sentences+val_sentences, key=len))"
      ]
    },
    {
      "cell_type": "code",
      "execution_count": 70,
      "metadata": {
        "id": "0w7Zx1l44n78"
      },
      "outputs": [],
      "source": [
        "train_sentences = train_sentences + val_sentences"
      ]
    },
    {
      "cell_type": "markdown",
      "metadata": {
        "nbpresent": {
          "id": "bf4abb0c-ba12-4be4-918d-06172bc011f1"
        },
        "id": "BBK8sPRR4n79"
      },
      "source": [
        "# BERT implementation"
      ]
    },
    {
      "cell_type": "code",
      "execution_count": 71,
      "metadata": {
        "nbpresent": {
          "id": "b2e4df36-f6ed-4961-b2d2-540fcbf651fd"
        },
        "id": "y33EDDvO4n79"
      },
      "outputs": [],
      "source": [
        "# Initialize session\n",
        "sess = tf.Session()\n",
        "# Params for bert model and tokenization\n",
        "bert_path = \"https://tfhub.dev/google/bert_uncased_L-12_H-768_A-12/1\""
      ]
    },
    {
      "cell_type": "code",
      "execution_count": 72,
      "metadata": {
        "nbpresent": {
          "id": "81781553-5840-4539-8e31-ebf941647e22"
        },
        "id": "hD8VDdt44n79"
      },
      "outputs": [],
      "source": [
        "train_text = text_sequence(train_sentences)\n",
        "test_text = text_sequence(test_sentences)\n",
        "#val_text = text_sequence(val_sentences)\n",
        "\n",
        "train_label = tag_sequence(train_sentences)\n",
        "test_label= tag_sequence(test_sentences)\n",
        "#val_label= tag_sequence(val_sentences)"
      ]
    },
    {
      "cell_type": "code",
      "execution_count": 73,
      "metadata": {
        "colab": {
          "base_uri": "https://localhost:8080/"
        },
        "id": "8zyImbHD4n7-",
        "outputId": "b704f304-6927-46fd-9df1-078ca27433fe"
      },
      "outputs": [
        {
          "output_type": "execute_result",
          "data": {
            "text/plain": [
              "1951"
            ]
          },
          "metadata": {},
          "execution_count": 73
        }
      ],
      "source": [
        "len(train_text)"
      ]
    },
    {
      "cell_type": "code",
      "execution_count": 74,
      "metadata": {
        "scrolled": true,
        "colab": {
          "base_uri": "https://localhost:8080/"
        },
        "id": "_rjqTcpz4n7-",
        "outputId": "3814dea7-fae0-40bb-9553-468e770c08cc"
      },
      "outputs": [
        {
          "output_type": "execute_result",
          "data": {
            "text/plain": [
              "(['distribution',\n",
              "  'of',\n",
              "  'this',\n",
              "  'license',\n",
              "  'does',\n",
              "  'not',\n",
              "  'create',\n",
              "  'an',\n",
              "  'attorney',\n",
              "  '-',\n",
              "  'client',\n",
              "  'relationship',\n",
              "  '.'],\n",
              " ['NOUN',\n",
              "  'ADP',\n",
              "  'DET',\n",
              "  'NOUN',\n",
              "  'AUX',\n",
              "  'PART',\n",
              "  'VERB',\n",
              "  'DET',\n",
              "  'NOUN',\n",
              "  'PUNCT',\n",
              "  'NOUN',\n",
              "  'NOUN',\n",
              "  'PUNCT'])"
            ]
          },
          "metadata": {},
          "execution_count": 74
        }
      ],
      "source": [
        "train_text[0], train_label[0]"
      ]
    },
    {
      "cell_type": "markdown",
      "metadata": {
        "id": "BLMOaHSY4n7-"
      },
      "source": [
        "# Functions used for BERT representation"
      ]
    },
    {
      "cell_type": "code",
      "execution_count": 75,
      "metadata": {
        "nbpresent": {
          "id": "1165aa8f-9bd2-48d7-8ad2-3109c960334f"
        },
        "id": "jnj8VoHE4n7-"
      },
      "outputs": [],
      "source": [
        "class PaddingInputExample(object):\n",
        "    \"\"\"Fake example so the num input examples is a multiple of the batch size.\n",
        "  When running eval/predict on the TPU, we need to pad the number of examples\n",
        "  to be a multiple of the batch size, because the TPU requires a fixed batch\n",
        "  size. The alternative is to drop the last batch, which is bad because it means\n",
        "  the entire output data won't be generated.\n",
        "  We use this class instead of `None` because treating `None` as padding\n",
        "  battches could cause silent errors.\n",
        "  \"\"\"\n",
        "\n",
        "class InputExample(object):\n",
        "    \"\"\"A single training/test example for simple sequence classification.\"\"\"\n",
        "\n",
        "    def __init__(self, guid, text_a, text_b=None, label=None):\n",
        "        \"\"\"Constructs a InputExample.\n",
        "    Args:\n",
        "      guid: Unique id for the example.\n",
        "      text_a: string. The untokenized text of the first sequence. For single\n",
        "        sequence tasks, only this sequence must be specified.\n",
        "      text_b: (Optional) string. The untokenized text of the second sequence.\n",
        "        Only must be specified for sequence pair tasks.\n",
        "      label: (Optional) string. The label of the example. This should be\n",
        "        specified for train and dev examples, but not for test examples.\n",
        "    \"\"\"\n",
        "        self.guid = guid\n",
        "        self.text_a = text_a\n",
        "        self.text_b = text_b\n",
        "        self.label = label\n",
        "\n",
        "def create_tokenizer_from_hub_module():\n",
        "    \"\"\"Get the vocab file and casing info from the Hub module.\"\"\"\n",
        "    bert_module =  hub.Module(bert_path)\n",
        "    tokenization_info = bert_module(signature=\"tokenization_info\", as_dict=True)\n",
        "    vocab_file, do_lower_case = sess.run(\n",
        "        [\n",
        "            tokenization_info[\"vocab_file\"],\n",
        "            tokenization_info[\"do_lower_case\"],\n",
        "        ]\n",
        "    )\n",
        "\n",
        "    return FullTokenizer(vocab_file=vocab_file, do_lower_case=do_lower_case)\n",
        "\n",
        "def convert_single_example(tokenizer, example, max_seq_length=256):\n",
        "    \"\"\"Converts a single `InputExample` into a single `InputFeatures`.\"\"\"\n",
        "\n",
        "    if isinstance(example, PaddingInputExample):\n",
        "        input_ids = [0] * max_seq_length\n",
        "        input_mask = [0] * max_seq_length\n",
        "        segment_ids = [0] * max_seq_length\n",
        "        label_ids = [0] * max_seq_length\n",
        "        return input_ids, input_mask, segment_ids, label_ids\n",
        "    \n",
        "    tokens_a = example.text_a\n",
        "    if len(tokens_a) > max_seq_length-2:\n",
        "        tokens_a = tokens_a[0 : (max_seq_length-2)]\n",
        "\n",
        "# Token map will be an int -> int mapping between the `orig_tokens` index and\n",
        "# the `bert_tokens` index.\n",
        "\n",
        "# bert_tokens == [\"[CLS]\", \"john\", \"johan\", \"##son\", \"'\", \"s\", \"house\", \"[SEP]\"]\n",
        "# orig_to_tok_map == [1, 2, 4, 6]   \n",
        "    orig_to_tok_map = []              \n",
        "    tokens = []\n",
        "    segment_ids = []\n",
        "    \n",
        "    tokens.append(\"[CLS]\")\n",
        "    segment_ids.append(0)\n",
        "    orig_to_tok_map.append(len(tokens)-1)\n",
        "    #print(len(tokens_a))\n",
        "    for token in tokens_a:       \n",
        "        tokens.extend(tokenizer.tokenize(token))\n",
        "        orig_to_tok_map.append(len(tokens)-1)\n",
        "        segment_ids.append(0)\n",
        "    tokens.append(\"[SEP]\")\n",
        "    segment_ids.append(0)\n",
        "    orig_to_tok_map.append(len(tokens)-1)\n",
        "    input_ids = tokenizer.convert_tokens_to_ids([tokens[i] for i in orig_to_tok_map])\n",
        "    #print(len(orig_to_tok_map), len(tokens), len(input_ids), len(segment_ids)) #for debugging\n",
        "\n",
        "    # The mask has 1 for real tokens and 0 for padding tokens. Only real\n",
        "    # tokens are attended to.\n",
        "    input_mask = [1] * len(input_ids)\n",
        "    \n",
        "    label_ids = []\n",
        "    labels = example.label\n",
        "    label_ids.append(0)\n",
        "    label_ids.extend([tag2int[label] for label in labels])\n",
        "    label_ids.append(0)\n",
        "    #print(len(label_ids)) #for debugging\n",
        "    # Zero-pad up to the sequence length.\n",
        "    while len(input_ids) < max_seq_length:\n",
        "        input_ids.append(0)\n",
        "        input_mask.append(0)\n",
        "        segment_ids.append(0)\n",
        "        label_ids.append(0)\n",
        "\n",
        "    assert len(input_ids) == max_seq_length\n",
        "    assert len(input_mask) == max_seq_length\n",
        "    assert len(segment_ids) == max_seq_length\n",
        "    assert len(label_ids) == max_seq_length\n",
        "\n",
        "    return input_ids, input_mask, segment_ids, label_ids\n",
        "\n",
        "def convert_examples_to_features(tokenizer, examples, max_seq_length=256):\n",
        "    \"\"\"Convert a set of `InputExample`s to a list of `InputFeatures`.\"\"\"\n",
        "\n",
        "    input_ids, input_masks, segment_ids, labels = [], [], [], []\n",
        "    for example in tqdm_notebook(examples, desc=\"Converting examples to features\"):\n",
        "        input_id, input_mask, segment_id, label = convert_single_example(\n",
        "            tokenizer, example, max_seq_length\n",
        "        )\n",
        "        input_ids.append(input_id)\n",
        "        input_masks.append(input_mask)\n",
        "        segment_ids.append(segment_id)\n",
        "        labels.append(label)\n",
        "    return (\n",
        "        np.array(input_ids),\n",
        "        np.array(input_masks),\n",
        "        np.array(segment_ids),\n",
        "        np.array(labels),\n",
        "    )\n",
        "\n",
        "def convert_text_to_examples(texts, labels):\n",
        "    \"\"\"Create InputExamples\"\"\"\n",
        "    InputExamples = []\n",
        "    for text, label in zip(texts, labels):\n",
        "        InputExamples.append(\n",
        "            InputExample(guid=None, text_a=text, text_b=None, label=label)\n",
        "        )\n",
        "    return InputExamples"
      ]
    },
    {
      "cell_type": "code",
      "execution_count": 76,
      "metadata": {
        "nbpresent": {
          "id": "c5d22fdb-2f46-44b2-9962-cea0cc6927a8"
        },
        "colab": {
          "base_uri": "https://localhost:8080/"
        },
        "id": "OYXfF7q94n7_",
        "outputId": "8cdaadc6-de0a-4faf-8624-1e034cba9ca0"
      },
      "outputs": [
        {
          "output_type": "stream",
          "name": "stdout",
          "text": [
            "INFO:tensorflow:Saver not created because there are no variables in the graph to restore\n"
          ]
        },
        {
          "output_type": "stream",
          "name": "stderr",
          "text": [
            "INFO:tensorflow:Saver not created because there are no variables in the graph to restore\n"
          ]
        }
      ],
      "source": [
        "# Instantiate tokenizer\n",
        "tokenizer = create_tokenizer_from_hub_module()"
      ]
    },
    {
      "cell_type": "markdown",
      "metadata": {
        "id": "sLjNwYn34n7_"
      },
      "source": [
        "## Alignment code (token -> tag)"
      ]
    },
    {
      "cell_type": "markdown",
      "metadata": {
        "id": "JQhNxnmH4n7_"
      },
      "source": [
        "Following suggestions from WordPiece tokenization part in https://github.com/google-research/bert, for POS tagging task, input sentences are converted to the following format:"
      ]
    },
    {
      "cell_type": "code",
      "execution_count": 77,
      "metadata": {
        "id": "6sXwtc2K4n7_"
      },
      "outputs": [],
      "source": [
        "# orig_tokens = [\"John\", \"Johanson\", \"'s\",  \"house\"]\n",
        "# labels      = [\"NNP\",  \"NNP\",      \"POS\", \"NN\"]\n",
        "# bert_tokens = ['[CLS]\", \"john\", \"johan\", \"##son\", \"'\",   \"s\",  \"house\", \"[SEP]\"]\n",
        "# bert_labels = ['[CLS]\", \"NNP\",  \"NNP\",   \"##\",    \"POS\", \"##\", \"NN\",    \"[SEP]\"] "
      ]
    },
    {
      "cell_type": "markdown",
      "metadata": {
        "id": "rlRkVDlA4n8A"
      },
      "source": [
        "So, due to **Wordpiece** tokenizer we must take special care for the correct alignment of token to tag. This is done in function *convert_single_example(tokenizer, example, max_seq_length=256)* with the following piece of code:"
      ]
    },
    {
      "cell_type": "code",
      "execution_count": 78,
      "metadata": {
        "id": "FcoGwW8d4n8A"
      },
      "outputs": [],
      "source": [
        "def bert_labels(labels):\n",
        "    train_label_bert = []\n",
        "    train_label_bert.append('-PAD-')\n",
        "    for i in labels:\n",
        "        train_label_bert.append(i)\n",
        "    train_label_bert.append('-PAD-')\n",
        "    print('BERT labels:', train_label_bert)    "
      ]
    },
    {
      "cell_type": "code",
      "execution_count": 79,
      "metadata": {
        "id": "zz-GGNrw4n8A"
      },
      "outputs": [],
      "source": [
        "tokens_a = train_text[2]"
      ]
    },
    {
      "cell_type": "code",
      "execution_count": 80,
      "metadata": {
        "id": "QaaYnRIv4n8A"
      },
      "outputs": [],
      "source": [
        "orig_to_tok_map = []              \n",
        "tokens = []\n",
        "segment_ids = []\n",
        "tokens.append(\"[CLS]\")\n",
        "segment_ids.append(0)\n",
        "orig_to_tok_map.append(len(tokens)-1)\n",
        "for token in tokens_a:\n",
        "    #orig_to_tok_map.append(len(tokens)) # keep first piece of tokenized term\n",
        "    tokens.extend(tokenizer.tokenize(token))\n",
        "    orig_to_tok_map.append(len(tokens)-1) # # keep last piece of tokenized term -->> gives better results!\n",
        "    segment_ids.append(0)\n",
        "tokens.append(\"[SEP]\")\n",
        "segment_ids.append(0)\n",
        "orig_to_tok_map.append(len(tokens)-1)\n",
        "input_ids = tokenizer.convert_tokens_to_ids([tokens[i] for i in orig_to_tok_map])"
      ]
    },
    {
      "cell_type": "code",
      "execution_count": 81,
      "metadata": {
        "nbpresent": {
          "id": "b31bd2f4-6a3b-4836-888a-5362ebdbc492"
        },
        "colab": {
          "base_uri": "https://localhost:8080/"
        },
        "id": "jZARtLxO4n8A",
        "outputId": "3b3f0540-4ebe-432e-aa24-d622bebde54b"
      },
      "outputs": [
        {
          "output_type": "stream",
          "name": "stdout",
          "text": [
            "Original tokens: ['creative', 'commons', 'makes', 'no', 'warranties', 'regarding', 'the', 'information', 'provided', ',', 'and', 'disclaims', 'liability', 'for', 'damages', 'resulting', 'from', 'its', 'use', '.']\n"
          ]
        }
      ],
      "source": [
        "print('Original tokens:',tokens_a)"
      ]
    },
    {
      "cell_type": "code",
      "execution_count": 82,
      "metadata": {
        "nbpresent": {
          "id": "b31bd2f4-6a3b-4836-888a-5362ebdbc492"
        },
        "colab": {
          "base_uri": "https://localhost:8080/"
        },
        "id": "dRr_fUXo4n8B",
        "outputId": "72827710-648b-4856-f0d2-e8d9c2c6e757"
      },
      "outputs": [
        {
          "output_type": "stream",
          "name": "stdout",
          "text": [
            "BERT tokens: ['[CLS]', 'creative', 'commons', 'makes', 'no', 'warrant', '##ies', 'regarding', 'the', 'information', 'provided', ',', 'and', 'disc', '##lai', '##ms', 'liability', 'for', 'damages', 'resulting', 'from', 'its', 'use', '.', '[SEP]']\n"
          ]
        }
      ],
      "source": [
        "print('BERT tokens:',tokens)"
      ]
    },
    {
      "cell_type": "code",
      "execution_count": 83,
      "metadata": {
        "colab": {
          "base_uri": "https://localhost:8080/"
        },
        "id": "udGJl2M04n8B",
        "outputId": "ea5719af-7758-45c8-f66e-a5bebd369bbe"
      },
      "outputs": [
        {
          "output_type": "stream",
          "name": "stdout",
          "text": [
            "BERT labels: ['-PAD-', 'PROPN', 'PROPN', 'VERB', 'DET', 'NOUN', 'VERB', 'DET', 'NOUN', 'VERB', 'PUNCT', 'CCONJ', 'VERB', 'NOUN', 'ADP', 'NOUN', 'VERB', 'ADP', 'DET', 'NOUN', 'PUNCT', '-PAD-']\n"
          ]
        }
      ],
      "source": [
        "bert_labels(train_label[2])"
      ]
    },
    {
      "cell_type": "raw",
      "metadata": {
        "id": "qCXAy21q4n8B"
      },
      "source": [
        "So the allignment 'warranties' -> 'NOUN' becomes after alligning '##ies' -> 'NOUN'\n",
        "We tested the other (proposed in run_classifier.py) possible allignment 'warrant' -> 'NOUN', but with worse results!"
      ]
    },
    {
      "cell_type": "code",
      "execution_count": 84,
      "metadata": {
        "colab": {
          "base_uri": "https://localhost:8080/"
        },
        "id": "VcJFGIzA4n8B",
        "outputId": "8f177095-83d4-4fe1-bd8e-d12f47a588e8"
      },
      "outputs": [
        {
          "output_type": "execute_result",
          "data": {
            "text/plain": [
              "[0, 1, 2, 3, 4, 6, 7, 8, 9, 10, 11, 12, 15, 16, 17, 18, 19, 20, 21, 22, 23, 24]"
            ]
          },
          "metadata": {},
          "execution_count": 84
        }
      ],
      "source": [
        "orig_to_tok_map"
      ]
    },
    {
      "cell_type": "code",
      "execution_count": 85,
      "metadata": {
        "colab": {
          "base_uri": "https://localhost:8080/"
        },
        "id": "2NJQUeJU4n8B",
        "outputId": "7922a02c-1e5d-46e4-879e-bbd8599e326f"
      },
      "outputs": [
        {
          "output_type": "stream",
          "name": "stdout",
          "text": [
            "[101, 5541, 7674, 3084, 2053, 3111, 4953, 1996, 2592, 3024, 1010, 1998, 5244, 14000, 2005, 12394, 4525, 2013, 2049, 2224, 1012, 102]\n"
          ]
        }
      ],
      "source": [
        "print(input_ids)"
      ]
    },
    {
      "cell_type": "markdown",
      "metadata": {
        "id": "NP4DFf8Z4n8C"
      },
      "source": [
        "## Test the conversion of an example to BERT representation"
      ]
    },
    {
      "cell_type": "code",
      "execution_count": 86,
      "metadata": {
        "nbpresent": {
          "id": "a8524cd7-a390-455a-b94d-995aabcbfb02"
        },
        "id": "xjPFg6FC4n8C"
      },
      "outputs": [],
      "source": [
        "\"\"\"Create InputExamples\"\"\"\n",
        "InputExamples = []\n",
        "for text, label in zip(train_text[0:1], train_label[0:1]):\n",
        "    InputExamples.append(\n",
        "        InputExample(guid=None, text_a=text, text_b=None, label=label)\n",
        ")"
      ]
    },
    {
      "cell_type": "code",
      "execution_count": 87,
      "metadata": {
        "nbpresent": {
          "id": "da8ff012-152f-4533-975c-b23c3a63611c"
        },
        "colab": {
          "base_uri": "https://localhost:8080/",
          "height": 101,
          "referenced_widgets": [
            "a91a967b243744d5b707c3327397419d",
            "aafb666c596141fcb80bc18d6eb7a8e2",
            "0f20d563ff8d47838085974e84dc05ea",
            "4a3884b1e42a4181829c14ba2771b99b",
            "0b66591bf1e74f16b6c081bc82ddac34",
            "c4ef2d17a5454844b7f7f2e8c79be535",
            "091856727dee40c186157df4c30ffe54",
            "1f7ed6738bd342c68e9b5c39769a14b6",
            "7c038a3a43a84e38934a1bb443650c50",
            "f58b4c8381af408ca190f636c709d554",
            "fba4483779954aa983a67219221faa1f"
          ]
        },
        "id": "3x1hmxBu4n8C",
        "outputId": "a3a9b307-92b6-4566-e7df-eb80a02bc09d"
      },
      "outputs": [
        {
          "output_type": "stream",
          "name": "stderr",
          "text": [
            "/usr/local/lib/python3.7/dist-packages/ipykernel_launcher.py:2: TqdmDeprecationWarning: This function will be removed in tqdm==5.0.0\n",
            "Please use `tqdm.notebook.tqdm` instead of `tqdm.tqdm_notebook`\n",
            "  \n"
          ]
        },
        {
          "output_type": "display_data",
          "data": {
            "text/plain": [
              "Converting examples to features:   0%|          | 0/1 [00:00<?, ?it/s]"
            ],
            "application/vnd.jupyter.widget-view+json": {
              "version_major": 2,
              "version_minor": 0,
              "model_id": "a91a967b243744d5b707c3327397419d"
            }
          },
          "metadata": {}
        }
      ],
      "source": [
        "input_ids, input_masks, segment_ids, labels = [], [], [], []\n",
        "for example in tqdm_notebook(InputExamples, desc=\"Converting examples to features\"):\n",
        "    input_id, input_mask, segment_id, label = convert_single_example(\n",
        "        tokenizer, example, MAX_SEQUENCE_LENGTH+2\n",
        "    )\n",
        "    input_ids.append(input_id)\n",
        "    input_masks.append(input_mask)\n",
        "    segment_ids.append(segment_id)\n",
        "    labels.append(label)"
      ]
    },
    {
      "cell_type": "markdown",
      "metadata": {
        "id": "53RDXj7P4n8C"
      },
      "source": [
        "## Convert examples to BERT representation"
      ]
    },
    {
      "cell_type": "code",
      "execution_count": 88,
      "metadata": {
        "nbpresent": {
          "id": "eb4915fc-babf-4bf9-8789-ab05ef24be45"
        },
        "id": "77_bQq2g4n8C"
      },
      "outputs": [],
      "source": [
        "# Convert data to InputExample format\n",
        "train_examples = convert_text_to_examples(train_text, train_label)\n",
        "test_examples = convert_text_to_examples(test_text, test_label)"
      ]
    },
    {
      "cell_type": "code",
      "execution_count": 89,
      "metadata": {
        "nbpresent": {
          "id": "4f427047-23e0-4dd4-b8b7-333c93eb88ce"
        },
        "colab": {
          "base_uri": "https://localhost:8080/",
          "height": 116,
          "referenced_widgets": [
            "c582c70d90cc41d0b7f6916886b3eafd",
            "c9330f1eb4994aedab50a3d936a2e051",
            "872adb61b00642589aa94698984195ef",
            "393245f20adb4168b50549fbe29c195c",
            "695928811519454fa44951c0cf611af5",
            "6aa81a75f1c9409989459c479b146b50",
            "e744b5ab2b4649bdb7465bc965fac623",
            "812a66412bad445dafb7cd4606384c2d",
            "17acc23d2d264010b63b2639d690c26a",
            "6c298743157045138d03b5643b24e3ed",
            "65d8bb6ed4d040e48bc45db7176ca06e",
            "ecf50bcb02484cd0a63c9ca62faef609",
            "8b6e81d6aa8341348093cba3e6e74197",
            "45e1527d4f45460a885cc8e9cffd1a44",
            "0e572e9f095941ebb712719519c1f852",
            "1126cf031a9243fab2a7858fb5e25e37",
            "f25c950b81de4a058740d9a34718c848",
            "e1b0cea8815c40e48e47537c2859a609",
            "f355f1f46c4f4852aff5a3a96ee02d85",
            "5c80e679ee784bceb4d2f6459261c43b",
            "54c0de7ebe6c48f4b0f451f4c572ecfa",
            "7da728c5d36d40a999e2a1bd18c0d7e2"
          ]
        },
        "id": "WMIERmXE4n8C",
        "outputId": "712c52cc-a8bb-4736-a719-0f02e2ca9f84"
      },
      "outputs": [
        {
          "output_type": "stream",
          "name": "stderr",
          "text": [
            "/usr/local/lib/python3.7/dist-packages/ipykernel_launcher.py:108: TqdmDeprecationWarning: This function will be removed in tqdm==5.0.0\n",
            "Please use `tqdm.notebook.tqdm` instead of `tqdm.tqdm_notebook`\n"
          ]
        },
        {
          "output_type": "display_data",
          "data": {
            "text/plain": [
              "Converting examples to features:   0%|          | 0/1951 [00:00<?, ?it/s]"
            ],
            "application/vnd.jupyter.widget-view+json": {
              "version_major": 2,
              "version_minor": 0,
              "model_id": "c582c70d90cc41d0b7f6916886b3eafd"
            }
          },
          "metadata": {}
        },
        {
          "output_type": "display_data",
          "data": {
            "text/plain": [
              "Converting examples to features:   0%|          | 0/154 [00:00<?, ?it/s]"
            ],
            "application/vnd.jupyter.widget-view+json": {
              "version_major": 2,
              "version_minor": 0,
              "model_id": "ecf50bcb02484cd0a63c9ca62faef609"
            }
          },
          "metadata": {}
        }
      ],
      "source": [
        "# Convert to features\n",
        "(train_input_ids, train_input_masks, train_segment_ids, train_labels_ids\n",
        ") = convert_examples_to_features(tokenizer, train_examples, max_seq_length=MAX_SEQUENCE_LENGTH+2)\n",
        "(test_input_ids, test_input_masks, test_segment_ids, test_labels_ids\n",
        ") = convert_examples_to_features(tokenizer, test_examples, max_seq_length=MAX_SEQUENCE_LENGTH+2)"
      ]
    },
    {
      "cell_type": "markdown",
      "metadata": {
        "id": "DlpLsOjS4n8D"
      },
      "source": [
        "## See the form of BERT representation"
      ]
    },
    {
      "cell_type": "code",
      "execution_count": 91,
      "metadata": {
        "colab": {
          "base_uri": "https://localhost:8080/"
        },
        "id": "7jEfgwRN4n8D",
        "outputId": "4c97e25e-8632-4731-f7a8-baf702f6f527"
      },
      "outputs": [
        {
          "output_type": "stream",
          "name": "stdout",
          "text": [
            "72\n",
            "72\n",
            "72\n",
            "72\n"
          ]
        }
      ],
      "source": [
        "print(len(train_input_ids[0]))\n",
        "print(len(train_input_masks[0]))\n",
        "print(len(train_segment_ids[0]))\n",
        "print(len(train_labels_ids[0]))"
      ]
    },
    {
      "cell_type": "code",
      "execution_count": 92,
      "metadata": {
        "nbpresent": {
          "id": "e3ab4f77-4587-4fd0-8fbc-b06840e852f5"
        },
        "colab": {
          "base_uri": "https://localhost:8080/"
        },
        "id": "vCUPNfVb4n8D",
        "outputId": "96891d33-4217-497f-d864-d4df12aac972"
      },
      "outputs": [
        {
          "output_type": "execute_result",
          "data": {
            "text/plain": [
              "array([ 101, 4353, 1997, 2023, 6105, 2515, 2025, 3443, 2019, 4905, 1011,\n",
              "       7396, 3276, 1012,  102,    0,    0,    0,    0,    0,    0,    0,\n",
              "          0,    0,    0,    0,    0,    0,    0,    0,    0,    0,    0,\n",
              "          0,    0,    0,    0,    0,    0,    0,    0,    0,    0,    0,\n",
              "          0,    0,    0,    0,    0,    0,    0,    0,    0,    0,    0,\n",
              "          0,    0,    0,    0,    0,    0,    0,    0,    0,    0,    0,\n",
              "          0,    0,    0,    0,    0,    0])"
            ]
          },
          "metadata": {},
          "execution_count": 92
        }
      ],
      "source": [
        "train_input_ids[0]"
      ]
    },
    {
      "cell_type": "code",
      "execution_count": 93,
      "metadata": {
        "nbpresent": {
          "id": "996d81bf-c1ce-4d09-8315-8d3c4512ddb8"
        },
        "colab": {
          "base_uri": "https://localhost:8080/"
        },
        "id": "zv2NtOr54n8D",
        "outputId": "df2f62f5-9dac-432e-efa0-e19f986f665f"
      },
      "outputs": [
        {
          "output_type": "execute_result",
          "data": {
            "text/plain": [
              "array([1, 1, 1, 1, 1, 1, 1, 1, 1, 1, 1, 1, 1, 1, 1, 0, 0, 0, 0, 0, 0, 0,\n",
              "       0, 0, 0, 0, 0, 0, 0, 0, 0, 0, 0, 0, 0, 0, 0, 0, 0, 0, 0, 0, 0, 0,\n",
              "       0, 0, 0, 0, 0, 0, 0, 0, 0, 0, 0, 0, 0, 0, 0, 0, 0, 0, 0, 0, 0, 0,\n",
              "       0, 0, 0, 0, 0, 0])"
            ]
          },
          "metadata": {},
          "execution_count": 93
        }
      ],
      "source": [
        "train_input_masks[0]"
      ]
    },
    {
      "cell_type": "code",
      "execution_count": 94,
      "metadata": {
        "nbpresent": {
          "id": "d16548f1-b1a4-4003-b90e-c28164d4012d"
        },
        "colab": {
          "base_uri": "https://localhost:8080/"
        },
        "id": "B0bqAqso4n8E",
        "outputId": "16048c0d-fb89-4bb4-e429-f1362ccbef7d"
      },
      "outputs": [
        {
          "output_type": "execute_result",
          "data": {
            "text/plain": [
              "array([0, 0, 0, 0, 0, 0, 0, 0, 0, 0, 0, 0, 0, 0, 0, 0, 0, 0, 0, 0, 0, 0,\n",
              "       0, 0, 0, 0, 0, 0, 0, 0, 0, 0, 0, 0, 0, 0, 0, 0, 0, 0, 0, 0, 0, 0,\n",
              "       0, 0, 0, 0, 0, 0, 0, 0, 0, 0, 0, 0, 0, 0, 0, 0, 0, 0, 0, 0, 0, 0,\n",
              "       0, 0, 0, 0, 0, 0])"
            ]
          },
          "metadata": {},
          "execution_count": 94
        }
      ],
      "source": [
        "train_segment_ids[0]"
      ]
    },
    {
      "cell_type": "code",
      "execution_count": 95,
      "metadata": {
        "nbpresent": {
          "id": "4343b8c0-e6e3-4198-b209-968b28ec4fa4"
        },
        "colab": {
          "base_uri": "https://localhost:8080/"
        },
        "id": "WqknLJ8w4n8E",
        "outputId": "20bdccf5-7063-4e18-e1fa-75c651d28199"
      },
      "outputs": [
        {
          "output_type": "execute_result",
          "data": {
            "text/plain": [
              "array([ 0,  8,  2,  6,  8,  4, 10, 16,  6,  8, 13,  8,  8, 13,  0,  0,  0,\n",
              "        0,  0,  0,  0,  0,  0,  0,  0,  0,  0,  0,  0,  0,  0,  0,  0,  0,\n",
              "        0,  0,  0,  0,  0,  0,  0,  0,  0,  0,  0,  0,  0,  0,  0,  0,  0,\n",
              "        0,  0,  0,  0,  0,  0,  0,  0,  0,  0,  0,  0,  0,  0,  0,  0,  0,\n",
              "        0,  0,  0,  0])"
            ]
          },
          "metadata": {},
          "execution_count": 95
        }
      ],
      "source": [
        "train_labels_ids[0]"
      ]
    },
    {
      "cell_type": "code",
      "execution_count": 96,
      "metadata": {
        "nbpresent": {
          "id": "080448a8-1f00-46b8-b4c9-e8aff53658ae"
        },
        "id": "NEULxxcE4n8E"
      },
      "outputs": [],
      "source": [
        "# One-hot encode labels\n",
        "train_labels = to_categorical(train_labels_ids, num_classes=n_tags)\n",
        "test_labels = to_categorical(test_labels_ids, num_classes=n_tags)"
      ]
    },
    {
      "cell_type": "code",
      "execution_count": 97,
      "metadata": {
        "nbpresent": {
          "id": "2a4bc11b-a307-4121-8c42-44dde65ae4cf"
        },
        "colab": {
          "base_uri": "https://localhost:8080/"
        },
        "id": "dCbUxGza4n8E",
        "outputId": "3388e3c3-360a-46a4-bfc1-8122e7ecd55c"
      },
      "outputs": [
        {
          "output_type": "execute_result",
          "data": {
            "text/plain": [
              "(array([ 101, 4353, 1997, 2023, 6105, 2515, 2025, 3443, 2019, 4905, 1011,\n",
              "        7396, 3276, 1012,  102,    0,    0,    0,    0,    0,    0,    0,\n",
              "           0,    0,    0,    0,    0,    0,    0,    0,    0,    0,    0,\n",
              "           0,    0,    0,    0,    0,    0,    0,    0,    0,    0,    0,\n",
              "           0,    0,    0,    0,    0,    0,    0,    0,    0,    0,    0,\n",
              "           0,    0,    0,    0,    0,    0,    0,    0,    0,    0,    0,\n",
              "           0,    0,    0,    0,    0,    0]),\n",
              " array([[1., 0., 0., ..., 0., 0., 0.],\n",
              "        [0., 0., 0., ..., 0., 0., 0.],\n",
              "        [0., 0., 1., ..., 0., 0., 0.],\n",
              "        ...,\n",
              "        [1., 0., 0., ..., 0., 0., 0.],\n",
              "        [1., 0., 0., ..., 0., 0., 0.],\n",
              "        [1., 0., 0., ..., 0., 0., 0.]], dtype=float32))"
            ]
          },
          "metadata": {},
          "execution_count": 97
        }
      ],
      "source": [
        "train_input_ids[0], train_labels[0]"
      ]
    },
    {
      "cell_type": "markdown",
      "metadata": {
        "id": "MfHIS7Ky4n8E"
      },
      "source": [
        "## Model building"
      ]
    },
    {
      "cell_type": "code",
      "execution_count": 98,
      "metadata": {
        "nbpresent": {
          "id": "4098aad1-cdf7-4282-ba3b-70897cdcfe1d"
        },
        "id": "DOthU-pP4n8F"
      },
      "outputs": [],
      "source": [
        "class BertLayer(Layer):\n",
        "    def __init__(self, output_representation='sequence_output', trainable=True, **kwargs):\n",
        "        self.bert = None\n",
        "        super(BertLayer, self).__init__(**kwargs)\n",
        "        \n",
        "        self.trainable = trainable\n",
        "        self.output_representation = output_representation\n",
        "\n",
        "    def build(self, input_shape):\n",
        "        # SetUp tensorflow Hub module\n",
        "        self.bert = hub.Module(bert_path,\n",
        "                               trainable=self.trainable, \n",
        "                               name=\"{}_module\".format(self.name))\n",
        "\n",
        "        # Assign module's trainable weights to model\n",
        "        # Remove unused layers and set trainable parameters\n",
        "        # s = [\"/cls/\", \"/pooler/\", 'layer_11', 'layer_10', 'layer_9', 'layer_8', 'layer_7', 'layer_6']\n",
        "        s = [\"/cls/\", \"/pooler/\"]\n",
        "        self.trainable_weights += [var for var in self.bert.variables[:] if not any(x in var.name for x in s)]\n",
        "            \n",
        "        for var in self.bert.variables:\n",
        "            if var not in self._trainable_weights:\n",
        "                self._non_trainable_weights.append(var)\n",
        "                \n",
        "        # See Trainable Variables\n",
        "        #tf.logging.info(\"**** Trainable Variables ****\")\n",
        "        #for var in self.trainable_weights:\n",
        "        #    init_string = \", *INIT_FROM_CKPT*\"\n",
        "        #    tf.logging.info(\"  name = %s, shape = %s%s\", var.name, var.shape, init_string)\n",
        "            \n",
        "        print('Trainable weights:',len(self.trainable_weights))\n",
        "        super(BertLayer, self).build(input_shape)\n",
        "\n",
        "    def call(self, inputs, mask=None):\n",
        "        inputs = [K.cast(x, dtype=\"int32\") for x in inputs]\n",
        "        input_ids, input_mask, segment_ids = inputs\n",
        "        bert_inputs = dict(\n",
        "            input_ids=input_ids, input_mask=input_mask, segment_ids=segment_ids\n",
        "        )\n",
        "        result = self.bert(inputs=bert_inputs, signature=\"tokens\", as_dict=True)[\n",
        "            self.output_representation\n",
        "        ]\n",
        "        return result\n",
        "\n",
        "    def compute_mask(self, inputs, mask=None):\n",
        "        return K.not_equal(inputs[0], 0.0)   \n",
        "\n",
        "    def compute_output_shape(self, input_shape):\n",
        "        if self.output_representation == 'pooled_output':\n",
        "            return (None, 768)\n",
        "        else:\n",
        "            return (None, None, 768)"
      ]
    },
    {
      "cell_type": "code",
      "execution_count": 54,
      "metadata": {
        "nbpresent": {
          "id": "177cc483-831b-4a10-b659-e1c6cf653877"
        },
        "id": "-Gkoh7_Z4n8F"
      },
      "outputs": [],
      "source": [
        "#del model"
      ]
    },
    {
      "cell_type": "code",
      "execution_count": 99,
      "metadata": {
        "nbpresent": {
          "id": "08a4002f-f656-47f2-814d-447e0bd56858"
        },
        "id": "q52Ivino4n8F"
      },
      "outputs": [],
      "source": [
        "# Build model\n",
        "def build_model(max_seq_length):\n",
        "    seed = 0 \n",
        "    in_id = keras.layers.Input(shape=(max_seq_length,), name=\"input_ids\")\n",
        "    in_mask = keras.layers.Input(shape=(max_seq_length,), name=\"input_masks\")\n",
        "    in_segment = keras.layers.Input(shape=(max_seq_length,), name=\"segment_ids\")\n",
        "    bert_inputs = [in_id, in_mask, in_segment]\n",
        "    \n",
        "    np.random.seed(seed)\n",
        "    bert_output = BertLayer()(bert_inputs)\n",
        "\n",
        "    np.random.seed(seed)\n",
        "    outputs = keras.layers.Dense(n_tags, activation=keras.activations.softmax)(bert_output)\n",
        "\n",
        "    np.random.seed(seed)\n",
        "    model = keras.models.Model(inputs=bert_inputs, outputs=outputs)\n",
        "    np.random.seed(seed)\n",
        "    model.compile(optimizer=keras.optimizers.Adam(lr=0.00004), loss=keras.losses.categorical_crossentropy, metrics=['accuracy'])   \n",
        "    model.summary(100)\n",
        "    return model\n",
        "\n",
        "def initialize_vars(sess):\n",
        "    sess.run(tf.local_variables_initializer())\n",
        "    sess.run(tf.global_variables_initializer())\n",
        "    sess.run(tf.tables_initializer())\n",
        "    K.set_session(sess)"
      ]
    },
    {
      "cell_type": "code",
      "execution_count": 100,
      "metadata": {
        "nbpresent": {
          "id": "c1391d48-0f3d-4b90-b1b4-4d8cae268050"
        },
        "colab": {
          "base_uri": "https://localhost:8080/"
        },
        "id": "IuKl-A8X4n8F",
        "outputId": "72b7da59-0089-4aca-dd9c-272ed7bc3575"
      },
      "outputs": [
        {
          "output_type": "stream",
          "name": "stdout",
          "text": [
            "Trainable weights: 197\n",
            "INFO:tensorflow:Saver not created because there are no variables in the graph to restore\n"
          ]
        },
        {
          "output_type": "stream",
          "name": "stderr",
          "text": [
            "INFO:tensorflow:Saver not created because there are no variables in the graph to restore\n"
          ]
        },
        {
          "output_type": "stream",
          "name": "stdout",
          "text": [
            "Model: \"model_3\"\n",
            "____________________________________________________________________________________________________\n",
            "Layer (type)                     Output Shape          Param #     Connected to                     \n",
            "====================================================================================================\n",
            "input_ids (InputLayer)           (None, 72)            0                                            \n",
            "____________________________________________________________________________________________________\n",
            "input_masks (InputLayer)         (None, 72)            0                                            \n",
            "____________________________________________________________________________________________________\n",
            "segment_ids (InputLayer)         (None, 72)            0                                            \n",
            "____________________________________________________________________________________________________\n",
            "bert_layer_3 (BertLayer)         (None, None, 768)     110104890   input_ids[0][0]                  \n",
            "                                                                   input_masks[0][0]                \n",
            "                                                                   segment_ids[0][0]                \n",
            "____________________________________________________________________________________________________\n",
            "dense_3 (Dense)                  (None, None, 18)      13842       bert_layer_3[0][0]               \n",
            "====================================================================================================\n",
            "Total params: 110,118,732\n",
            "Trainable params: 108,905,490\n",
            "Non-trainable params: 1,213,242\n",
            "____________________________________________________________________________________________________\n"
          ]
        }
      ],
      "source": [
        "model = build_model(MAX_SEQUENCE_LENGTH+2) # We sum 2 for [CLS], [SEP] tokens"
      ]
    },
    {
      "cell_type": "code",
      "execution_count": 57,
      "metadata": {
        "colab": {
          "base_uri": "https://localhost:8080/",
          "height": 285
        },
        "id": "ieaV3l-b4n8G",
        "outputId": "81a0653e-8294-4ad5-bc92-33f0f61ec794"
      },
      "outputs": [
        {
          "output_type": "execute_result",
          "data": {
            "text/plain": [
              "<IPython.core.display.Image object>"
            ],
            "image/png": "[encoded data removed]"
          },
          "metadata": {},
          "execution_count": 57
        }
      ],
      "source": [
        "plot_model(model, to_file='model.png', show_shapes=True)\n",
        "Image('model.png')"
      ]
    },
    {
      "cell_type": "code",
      "execution_count": 101,
      "metadata": {
        "nbpresent": {
          "id": "e5b1510d-5965-4f77-8c1c-a019bb081441"
        },
        "colab": {
          "base_uri": "https://localhost:8080/"
        },
        "id": "dhqR80a84n8G",
        "outputId": "329fd17f-0e99-4800-946b-496dcb4d475f"
      },
      "outputs": [
        {
          "output_type": "execute_result",
          "data": {
            "text/plain": [
              "(1951, 72)"
            ]
          },
          "metadata": {},
          "execution_count": 101
        }
      ],
      "source": [
        "train_input_ids.shape"
      ]
    },
    {
      "cell_type": "code",
      "execution_count": 102,
      "metadata": {
        "nbpresent": {
          "id": "e2ced586-54d2-4f87-87b4-11447a074836"
        },
        "colab": {
          "base_uri": "https://localhost:8080/"
        },
        "id": "NWGaQ83d4n8G",
        "outputId": "e4648d57-8ef4-4dca-e6ff-0c9a70d77f05"
      },
      "outputs": [
        {
          "output_type": "execute_result",
          "data": {
            "text/plain": [
              "(1951, 72)"
            ]
          },
          "metadata": {},
          "execution_count": 102
        }
      ],
      "source": [
        "train_input_masks.shape"
      ]
    },
    {
      "cell_type": "code",
      "execution_count": 103,
      "metadata": {
        "nbpresent": {
          "id": "d4e8c809-bc83-428b-824d-4640127d0a6f"
        },
        "colab": {
          "base_uri": "https://localhost:8080/"
        },
        "id": "WmjfsCuW4n8G",
        "outputId": "cd309f96-f89a-43d2-eec7-eae4c431a285"
      },
      "outputs": [
        {
          "output_type": "execute_result",
          "data": {
            "text/plain": [
              "(1951, 72)"
            ]
          },
          "metadata": {},
          "execution_count": 103
        }
      ],
      "source": [
        "train_segment_ids.shape"
      ]
    },
    {
      "cell_type": "code",
      "execution_count": 104,
      "metadata": {
        "colab": {
          "base_uri": "https://localhost:8080/"
        },
        "id": "kPttRFFo4n8G",
        "outputId": "243e79b5-c779-4740-9f9f-270a38697aa9"
      },
      "outputs": [
        {
          "output_type": "execute_result",
          "data": {
            "text/plain": [
              "(1951, 72, 18)"
            ]
          },
          "metadata": {},
          "execution_count": 104
        }
      ],
      "source": [
        "train_labels.shape"
      ]
    },
    {
      "cell_type": "markdown",
      "metadata": {
        "id": "hsVIg_Kb4n8H"
      },
      "source": [
        "## Model training (BERT fine-tuning)"
      ]
    },
    {
      "cell_type": "code",
      "execution_count": 105,
      "metadata": {
        "id": "8qf448Ut4n8H"
      },
      "outputs": [],
      "source": [
        "initialize_vars(sess)"
      ]
    },
    {
      "cell_type": "code",
      "execution_count": 108,
      "metadata": {
        "nbpresent": {
          "id": "fc7dd289-a946-479a-838e-e25e6384f16a"
        },
        "colab": {
          "base_uri": "https://localhost:8080/"
        },
        "id": "QoDARyru4n8H",
        "outputId": "f6e1af01-6a36-452e-c69b-7ca0bc78dd6f"
      },
      "outputs": [
        {
          "output_type": "stream",
          "name": "stderr",
          "text": [
            "/usr/local/lib/python3.7/dist-packages/tensorflow_core/python/framework/indexed_slices.py:424: UserWarning: Converting sparse IndexedSlices to a dense Tensor of unknown shape. This may consume a large amount of memory.\n",
            "  \"Converting sparse IndexedSlices to a dense Tensor of unknown shape. \"\n"
          ]
        },
        {
          "output_type": "stream",
          "name": "stdout",
          "text": [
            "WARNING:tensorflow:From /usr/local/lib/python3.7/dist-packages/keras/backend/tensorflow_backend.py:438: The name tf.variables_initializer is deprecated. Please use tf.compat.v1.variables_initializer instead.\n",
            "\n"
          ]
        },
        {
          "output_type": "stream",
          "name": "stderr",
          "text": [
            "WARNING:tensorflow:From /usr/local/lib/python3.7/dist-packages/keras/backend/tensorflow_backend.py:438: The name tf.variables_initializer is deprecated. Please use tf.compat.v1.variables_initializer instead.\n",
            "\n"
          ]
        },
        {
          "output_type": "stream",
          "name": "stdout",
          "text": [
            "Train on 1951 samples, validate on 154 samples\n",
            "Epoch 1/10\n",
            "1951/1951 [==============================] - 40s 20ms/step - loss: 0.2409 - accuracy: 0.8099 - val_loss: 0.0434 - val_accuracy: 0.9674\n",
            "\n",
            "Epoch 00001: val_loss improved from inf to 0.04344, saving model to bert_tagger.h5\n"
          ]
        },
        {
          "output_type": "stream",
          "name": "stderr",
          "text": [
            "/usr/local/lib/python3.7/dist-packages/keras/callbacks/callbacks.py:846: RuntimeWarning: Early stopping conditioned on metric `val_acc` which is not available. Available metrics are: val_loss,val_accuracy,loss,accuracy\n",
            "  (self.monitor, ','.join(list(logs.keys()))), RuntimeWarning\n"
          ]
        },
        {
          "output_type": "stream",
          "name": "stdout",
          "text": [
            "Epoch 2/10\n",
            "1951/1951 [==============================] - 32s 16ms/step - loss: 0.0317 - accuracy: 0.9758 - val_loss: 0.0389 - val_accuracy: 0.9699\n",
            "\n",
            "Epoch 00002: val_loss improved from 0.04344 to 0.03893, saving model to bert_tagger.h5\n",
            "Epoch 3/10\n",
            "1951/1951 [==============================] - 31s 16ms/step - loss: 0.0157 - accuracy: 0.9883 - val_loss: 0.0412 - val_accuracy: 0.9693\n",
            "\n",
            "Epoch 00003: val_loss did not improve from 0.03893\n",
            "Epoch 4/10\n",
            "1951/1951 [==============================] - 31s 16ms/step - loss: 0.0079 - accuracy: 0.9945 - val_loss: 0.0444 - val_accuracy: 0.9723\n",
            "\n",
            "Epoch 00004: val_loss did not improve from 0.03893\n",
            "Epoch 5/10\n",
            "1951/1951 [==============================] - 31s 16ms/step - loss: 0.0031 - accuracy: 0.9980 - val_loss: 0.0500 - val_accuracy: 0.9720\n",
            "\n",
            "Epoch 00005: val_loss did not improve from 0.03893\n",
            "Epoch 6/10\n",
            "1951/1951 [==============================] - 31s 16ms/step - loss: 0.0014 - accuracy: 0.9991 - val_loss: 0.0553 - val_accuracy: 0.9712\n",
            "\n",
            "Epoch 00006: val_loss did not improve from 0.03893\n",
            "Epoch 7/10\n",
            "1951/1951 [==============================] - 31s 16ms/step - loss: 8.3070e-04 - accuracy: 0.9996 - val_loss: 0.0596 - val_accuracy: 0.9717\n",
            "\n",
            "Epoch 00007: val_loss did not improve from 0.03893\n",
            "Epoch 8/10\n",
            "1951/1951 [==============================] - 31s 16ms/step - loss: 6.3278e-04 - accuracy: 0.9997 - val_loss: 0.0583 - val_accuracy: 0.9715\n",
            "\n",
            "Epoch 00008: val_loss did not improve from 0.03893\n",
            "Epoch 9/10\n",
            "1951/1951 [==============================] - 31s 16ms/step - loss: 6.2692e-04 - accuracy: 0.9996 - val_loss: 0.0619 - val_accuracy: 0.9709\n",
            "\n",
            "Epoch 00009: val_loss did not improve from 0.03893\n",
            "Epoch 10/10\n",
            "1951/1951 [==============================] - 31s 16ms/step - loss: 8.5535e-04 - accuracy: 0.9995 - val_loss: 0.0616 - val_accuracy: 0.9726\n",
            "\n",
            "Epoch 00010: val_loss did not improve from 0.03893\n",
            "Training completed in 358.420115 seconds\n"
          ]
        }
      ],
      "source": [
        "t_ini = datetime.datetime.now()\n",
        "\n",
        "cp = ModelCheckpoint(filepath=\"bert_tagger.h5\",\n",
        "                    \n",
        "                     save_best_only=True,\n",
        "                     save_weights_only=True,\n",
        "                     verbose=1)\n",
        "\n",
        "early_stopping = EarlyStopping(monitor = 'val_acc', patience = 5)\n",
        "\n",
        "history = model.fit([train_input_ids, train_input_masks, train_segment_ids], \n",
        "                    train_labels,\n",
        "                    validation_data=([test_input_ids, test_input_masks, test_segment_ids], test_labels),\n",
        "                    #validation_split=0.3,\n",
        "                    epochs=EPOCHS,\n",
        "                    batch_size=32,\n",
        "                    shuffle=True,\n",
        "                    verbose=1,\n",
        "                    callbacks=[cp, early_stopping]\n",
        "                   ) \n",
        "\n",
        "t_fin = datetime.datetime.now()\n",
        "print('Training completed in {} seconds'.format((t_fin - t_ini).total_seconds()))"
      ]
    },
    {
      "cell_type": "markdown",
      "metadata": {
        "id": "Y8f0gCI94n8H"
      },
      "source": [
        "## Classification report"
      ]
    },
    {
      "cell_type": "code",
      "execution_count": 109,
      "metadata": {
        "nbpresent": {
          "id": "ce12f232-8d4a-4093-9977-88402c6a80f4"
        },
        "colab": {
          "base_uri": "https://localhost:8080/"
        },
        "id": "7NJrUj7P4n8H",
        "outputId": "515fb6f8-5d3f-4ec5-df38-335433a41724"
      },
      "outputs": [
        {
          "output_type": "stream",
          "name": "stdout",
          "text": [
            "Trainable weights: 197\n",
            "INFO:tensorflow:Saver not created because there are no variables in the graph to restore\n"
          ]
        },
        {
          "output_type": "stream",
          "name": "stderr",
          "text": [
            "INFO:tensorflow:Saver not created because there are no variables in the graph to restore\n"
          ]
        },
        {
          "output_type": "stream",
          "name": "stdout",
          "text": [
            "Model: \"model_5\"\n",
            "____________________________________________________________________________________________________\n",
            "Layer (type)                     Output Shape          Param #     Connected to                     \n",
            "====================================================================================================\n",
            "input_ids (InputLayer)           (None, 72)            0                                            \n",
            "____________________________________________________________________________________________________\n",
            "input_masks (InputLayer)         (None, 72)            0                                            \n",
            "____________________________________________________________________________________________________\n",
            "segment_ids (InputLayer)         (None, 72)            0                                            \n",
            "____________________________________________________________________________________________________\n",
            "bert_layer_5 (BertLayer)         (None, None, 768)     110104890   input_ids[0][0]                  \n",
            "                                                                   input_masks[0][0]                \n",
            "                                                                   segment_ids[0][0]                \n",
            "____________________________________________________________________________________________________\n",
            "dense_5 (Dense)                  (None, None, 18)      13842       bert_layer_5[0][0]               \n",
            "====================================================================================================\n",
            "Total params: 110,118,732\n",
            "Trainable params: 108,905,490\n",
            "Non-trainable params: 1,213,242\n",
            "____________________________________________________________________________________________________\n"
          ]
        }
      ],
      "source": [
        "model = build_model(MAX_SEQUENCE_LENGTH+2) \n",
        "model.load_weights('bert_tagger.h5')"
      ]
    },
    {
      "cell_type": "code",
      "execution_count": 110,
      "metadata": {
        "nbpresent": {
          "id": "615aa234-1351-4d3e-84ff-379d1fc4f5cf"
        },
        "id": "UFJzmidX4n8I"
      },
      "outputs": [],
      "source": [
        "y_pred = model.predict([test_input_ids, test_input_masks, test_segment_ids]).argmax(-1)\n",
        "y_true = test_labels.argmax(-1)"
      ]
    },
    {
      "cell_type": "code",
      "execution_count": 111,
      "metadata": {
        "colab": {
          "base_uri": "https://localhost:8080/"
        },
        "id": "mu-zA_4x4n8I",
        "outputId": "23648265-1e4c-4051-edb9-9792d8acfe1c"
      },
      "outputs": [
        {
          "output_type": "execute_result",
          "data": {
            "text/plain": [
              "array([ 0,  8, 13, 12,  9, 13,  0,  0,  0,  0,  0,  0,  0,  0,  0,  0,  0,\n",
              "        0,  0,  0,  0,  0,  0,  0,  0,  0,  0,  0,  0,  0,  0,  0,  0,  0,\n",
              "        0,  0,  0,  0,  0,  0,  0,  0,  0,  0,  0,  0,  0,  0,  0,  0,  0,\n",
              "        0,  0,  0,  0,  0,  0,  0,  0,  0,  0,  0,  0,  0,  0,  0,  0,  0,\n",
              "        0,  0,  0,  0])"
            ]
          },
          "metadata": {},
          "execution_count": 111
        }
      ],
      "source": [
        "y_true[0]"
      ]
    },
    {
      "cell_type": "code",
      "execution_count": 112,
      "metadata": {
        "nbpresent": {
          "id": "4d68934e-3464-4fa5-bdfe-33f1bee74efc"
        },
        "id": "VIvbK2Kw4n8I"
      },
      "outputs": [],
      "source": [
        "def y2label(zipped, mask=0):\n",
        "    out_true = []\n",
        "    out_pred = []\n",
        "    for zip_i in zipped:\n",
        "        a, b = tuple(zip_i)\n",
        "        if a != mask :\n",
        "            out_true.append(int2tag[a])\n",
        "            out_pred.append(int2tag[b])\n",
        "    return out_true, out_pred"
      ]
    },
    {
      "cell_type": "code",
      "execution_count": 113,
      "metadata": {
        "nbpresent": {
          "id": "6412a274-6f2e-4c27-9fb2-0fd0916ab42a"
        },
        "id": "z_6Uj6Mz4n8I"
      },
      "outputs": [],
      "source": [
        "y_zipped = zip(y_true.flat, y_pred.flat)\n",
        "y_true, y_pred = y2label(y_zipped)"
      ]
    },
    {
      "cell_type": "code",
      "execution_count": 114,
      "metadata": {
        "colab": {
          "base_uri": "https://localhost:8080/"
        },
        "id": "JA07ABCI4n8I",
        "outputId": "aeb94d4c-e6b8-47df-b470-8d12a7b1a894"
      },
      "outputs": [
        {
          "output_type": "execute_result",
          "data": {
            "text/plain": [
              "(3408, 3408)"
            ]
          },
          "metadata": {},
          "execution_count": 114
        }
      ],
      "source": [
        "len(y_true), len(y_pred)"
      ]
    },
    {
      "cell_type": "code",
      "execution_count": 115,
      "metadata": {
        "nbpresent": {
          "id": "0e51f9f4-b16f-4e14-a204-8167e2897848"
        },
        "colab": {
          "base_uri": "https://localhost:8080/"
        },
        "id": "YOhWZhKT4n8J",
        "outputId": "f95a4849-f760-4638-f5a6-fcc8e4a9eab7"
      },
      "outputs": [
        {
          "output_type": "stream",
          "name": "stdout",
          "text": [
            "\n",
            "------------ Result of Bert fine-tuned model ----------\n",
            "\n",
            "              precision    recall  f1-score   support\n",
            "\n",
            "         ADJ     0.8811    0.8929    0.8869       224\n",
            "         ADP     0.9696    0.9816    0.9756       488\n",
            "         ADV     0.9431    0.8855    0.9134       131\n",
            "         AUX     0.9956    0.9744    0.9849       234\n",
            "       CCONJ     0.9794    0.9896    0.9845        96\n",
            "         DET     0.9955    1.0000    0.9977       439\n",
            "        INTJ     0.0000    0.0000    0.0000         2\n",
            "        NOUN     0.9722    0.9761    0.9742       753\n",
            "         NUM     0.9385    1.0000    0.9683        61\n",
            "        PART     0.9565    1.0000    0.9778        66\n",
            "        PRON     1.0000    0.9434    0.9709       106\n",
            "       PROPN     0.9494    0.8333    0.8876        90\n",
            "       PUNCT     1.0000    1.0000    1.0000       339\n",
            "       SCONJ     0.8627    0.8627    0.8627        51\n",
            "        VERB     0.9463    0.9724    0.9592       326\n",
            "           X     0.6667    1.0000    0.8000         2\n",
            "\n",
            "    accuracy                         0.9671      3408\n",
            "   macro avg     0.8785    0.8945    0.8840      3408\n",
            "weighted avg     0.9668    0.9671    0.9667      3408\n",
            "\n"
          ]
        },
        {
          "output_type": "stream",
          "name": "stderr",
          "text": [
            "/usr/local/lib/python3.7/dist-packages/sklearn/metrics/_classification.py:1318: UndefinedMetricWarning: Precision and F-score are ill-defined and being set to 0.0 in labels with no predicted samples. Use `zero_division` parameter to control this behavior.\n",
            "  _warn_prf(average, modifier, msg_start, len(result))\n",
            "/usr/local/lib/python3.7/dist-packages/sklearn/metrics/_classification.py:1318: UndefinedMetricWarning: Precision and F-score are ill-defined and being set to 0.0 in labels with no predicted samples. Use `zero_division` parameter to control this behavior.\n",
            "  _warn_prf(average, modifier, msg_start, len(result))\n",
            "/usr/local/lib/python3.7/dist-packages/sklearn/metrics/_classification.py:1318: UndefinedMetricWarning: Precision and F-score are ill-defined and being set to 0.0 in labels with no predicted samples. Use `zero_division` parameter to control this behavior.\n",
            "  _warn_prf(average, modifier, msg_start, len(result))\n"
          ]
        }
      ],
      "source": [
        "name='Bert fine-tuned model'\n",
        "print('\\n------------ Result of {} ----------\\n'.format(name))\n",
        "print(classification_report(y_true, y_pred, digits=4))"
      ]
    },
    {
      "cell_type": "code",
      "execution_count": 116,
      "metadata": {
        "nbpresent": {
          "id": "0e51f9f4-b16f-4e14-a204-8167e2897848"
        },
        "colab": {
          "base_uri": "https://localhost:8080/"
        },
        "id": "pV2nwbKj4n8J",
        "outputId": "f9afc0e3-bae7-40fd-c15e-d5843b7a40c6"
      },
      "outputs": [
        {
          "output_type": "stream",
          "name": "stdout",
          "text": [
            "Accuracy: 0.9671\n",
            "f1-macro score: 0.8840\n"
          ]
        }
      ],
      "source": [
        "print(\"Accuracy: {0:.4f}\".format(accuracy_score(y_true, y_pred)))\n",
        "print('f1-macro score: {0:.4f}'.format(f1_score(y_true, y_pred, average='macro')))"
      ]
    },
    {
      "cell_type": "markdown",
      "metadata": {
        "id": "nHoybI6z4n8J"
      },
      "source": [
        "## Confusion matrix"
      ]
    },
    {
      "cell_type": "code",
      "execution_count": 117,
      "metadata": {
        "colab": {
          "base_uri": "https://localhost:8080/",
          "height": 473
        },
        "id": "471DvggD4n8J",
        "outputId": "138123ed-5342-40ba-925a-71c7391094be"
      },
      "outputs": [
        {
          "output_type": "display_data",
          "data": {
            "text/plain": [
              "<Figure size 720x432 with 2 Axes>"
            ],
            "image/png": "[encoded data removed]"
          },
          "metadata": {}
        }
      ],
      "source": [
        "tags = sorted(set(y_pred+y_true))\n",
        "cnf_matrix = confusion_matrix(y_true, y_pred)\n",
        "plot_confusion_matrix(f1_score(y_true, y_pred, average='macro'), cnf_matrix, target_names=tags, title=name, normalize=False)"
      ]
    },
    {
      "cell_type": "markdown",
      "metadata": {
        "id": "BQtHCAMn4n8J"
      },
      "source": [
        "## Make a prediction for a test sample:"
      ]
    },
    {
      "cell_type": "code",
      "execution_count": 120,
      "metadata": {
        "id": "rzFFupPq4n8J"
      },
      "outputs": [],
      "source": [
        "y_pred = model.predict([test_input_ids, test_input_masks, test_segment_ids], batch_size=16).argmax(-1)\n",
        "y_true = test_labels_ids\n",
        "\n",
        "def make_prediction(i=16):\n",
        "    note = ''\n",
        "    sent = []\n",
        "    print(\"{:10} {:5} : {:5}\".format(\"Word\", \"True\", \"Predicted\"))\n",
        "    print(35*'-')\n",
        "    for w, true, pred in zip(test_input_ids[i], y_true[i], y_pred[i]):\n",
        "        if tokenizer.convert_ids_to_tokens([w])[0]!='[PAD]' and \\\n",
        "            tokenizer.convert_ids_to_tokens([w])[0]!='[CLS]' and \\\n",
        "            tokenizer.convert_ids_to_tokens([w])[0]!='[SEP]':\n",
        "            if int2tag[true] != int2tag[pred]: note='<<--- Error!'\n",
        "            print(\"{:10} {:5} : {:5} {:5}\".format(tokenizer.convert_ids_to_tokens([w])[0], int2tag[true], int2tag[pred], note))\n",
        "            note=''"
      ]
    },
    {
      "cell_type": "code",
      "execution_count": 121,
      "metadata": {
        "colab": {
          "base_uri": "https://localhost:8080/"
        },
        "id": "IGBpUhx54n8K",
        "outputId": "882929de-f45a-4c68-b9e7-bb5f709c4bfe"
      },
      "outputs": [
        {
          "output_type": "stream",
          "name": "stdout",
          "text": [
            "Word       True  : Predicted\n",
            "-----------------------------------\n",
            "unless     SCONJ : SCONJ      \n",
            "otherwise  ADV   : ADV        \n",
            "agreed     VERB  : VERB       \n",
            "to         ADP   : ADP        \n",
            "by         ADP   : ADP        \n",
            "the        DET   : DET        \n",
            "parties    NOUN  : NOUN       \n",
            "in         ADP   : ADP        \n",
            "writing    NOUN  : NOUN       \n",
            ",          PUNCT : PUNCT      \n",
            "##or       NOUN  : NOUN       \n",
            "offers     VERB  : VERB       \n",
            "the        DET   : DET        \n",
            "work       NOUN  : NOUN       \n",
            "as         ADP   : ADP        \n",
            "-          PUNCT : PUNCT      \n",
            "is         VERB  : VERB       \n",
            "and        CCONJ : CCONJ      \n",
            "makes      VERB  : VERB       \n",
            "no         DET   : DET        \n",
            "representations NOUN  : NOUN       \n",
            "or         CCONJ : CCONJ      \n",
            "##ies      NOUN  : NOUN       \n",
            "of         ADP   : ADP        \n",
            "any        DET   : DET        \n",
            "kind       NOUN  : NOUN       \n",
            "concerning VERB  : VERB       \n",
            "the        DET   : DET        \n",
            "materials  NOUN  : NOUN       \n",
            ",          PUNCT : PUNCT      \n",
            "express    ADJ   : ADJ        \n",
            ",          PUNCT : PUNCT      \n",
            "implied    VERB  : VERB       \n",
            ",          PUNCT : PUNCT      \n",
            "statutory  ADJ   : ADJ        \n",
            "or         CCONJ : CCONJ      \n",
            "otherwise  ADV   : ADV        \n",
            ",          PUNCT : PUNCT      \n",
            "including  VERB  : VERB       \n",
            ",          PUNCT : PUNCT      \n",
            "without    ADP   : ADP        \n",
            "limitation NOUN  : NOUN       \n",
            ",          PUNCT : PUNCT      \n",
            "##ies      NOUN  : NOUN       \n",
            "of         ADP   : ADP        \n",
            "title      NOUN  : NOUN       \n",
            ",          PUNCT : PUNCT      \n",
            "##ibility  NOUN  : NOUN       \n",
            ",          PUNCT : PUNCT      \n",
            "fitness    NOUN  : NOUN       \n",
            "for        ADP   : ADP        \n",
            "a          DET   : DET        \n",
            "particular ADJ   : ADJ        \n",
            "purpose    NOUN  : NOUN       \n",
            ",          PUNCT : PUNCT      \n",
            "##ment     NOUN  : NOUN       \n",
            ",          PUNCT : PUNCT      \n",
            "or         CCONJ : CCONJ      \n",
            "the        DET   : DET        \n",
            "absence    NOUN  : NOUN       \n",
            "of         ADP   : ADP        \n",
            "##nt       ADJ   : ADJ        \n",
            "or         CCONJ : CCONJ      \n",
            "other      ADJ   : ADJ        \n",
            "defects    NOUN  : NOUN       \n",
            ",          PUNCT : PUNCT      \n",
            "accuracy   NOUN  : NOUN       \n",
            ",          PUNCT : PUNCT      \n",
            "or         CCONJ : CCONJ      \n",
            "the        DET   : DET        \n"
          ]
        }
      ],
      "source": [
        "make_prediction(i=2)"
      ]
    },
    {
      "cell_type": "markdown",
      "metadata": {
        "id": "v6MnDOXs4n8K"
      },
      "source": [
        "## Tag an unknown sentence"
      ]
    },
    {
      "cell_type": "code",
      "execution_count": 126,
      "metadata": {
        "id": "bAmUZsuG4n8K"
      },
      "outputs": [],
      "source": [
        "sentence_raw = \"Finally tonight, it's prom season / and Steve Hartman met the queen and her king, / On the Road..\""
      ]
    },
    {
      "cell_type": "code",
      "source": [
        "import nltk\n",
        "nltk.download('punkt')\n",
        "  "
      ],
      "metadata": {
        "colab": {
          "base_uri": "https://localhost:8080/"
        },
        "id": "M3tRMbkt_kcY",
        "outputId": "ec71655e-3020-400d-ccec-4043a1935a34"
      },
      "execution_count": 127,
      "outputs": [
        {
          "output_type": "stream",
          "name": "stderr",
          "text": [
            "[nltk_data] Downloading package punkt to /root/nltk_data...\n",
            "[nltk_data]   Package punkt is already up-to-date!\n"
          ]
        },
        {
          "output_type": "execute_result",
          "data": {
            "text/plain": [
              "True"
            ]
          },
          "metadata": {},
          "execution_count": 127
        }
      ]
    },
    {
      "cell_type": "code",
      "execution_count": 128,
      "metadata": {
        "id": "IaQ_3F2F4n8K"
      },
      "outputs": [],
      "source": [
        "sentence_ini = nltk.word_tokenize(sentence_raw.lower())"
      ]
    },
    {
      "cell_type": "markdown",
      "metadata": {
        "id": "XzveagWe4n8K"
      },
      "source": [
        "Convert the sentence to BERT representation:"
      ]
    },
    {
      "cell_type": "code",
      "execution_count": 129,
      "metadata": {
        "id": "F1sjhdz94n8K"
      },
      "outputs": [],
      "source": [
        "sentence_bert = tokenizer.tokenize(sentence_raw)"
      ]
    },
    {
      "cell_type": "code",
      "execution_count": 130,
      "metadata": {
        "id": "ooihHUcZ4n8L"
      },
      "outputs": [],
      "source": [
        "tokens_a = sentence_ini"
      ]
    },
    {
      "cell_type": "code",
      "execution_count": 131,
      "metadata": {
        "id": "huUYOa3Q4n8L"
      },
      "outputs": [],
      "source": [
        "orig_to_tok_map = []              \n",
        "tokens = []\n",
        "segment_ids = []\n",
        "tokens.append(\"[CLS]\")\n",
        "segment_ids.append(0)\n",
        "orig_to_tok_map.append(len(tokens)-1)\n",
        "for token in tokens_a:\n",
        "    #orig_to_tok_map.append(len(tokens)) # keep first piece of tokenized term\n",
        "    tokens.extend(tokenizer.tokenize(token))\n",
        "    orig_to_tok_map.append(len(tokens)-1) # # keep last piece of tokenized term -->> gives better results!\n",
        "    segment_ids.append(0)\n",
        "tokens.append(\"[SEP]\")\n",
        "segment_ids.append(0)\n",
        "orig_to_tok_map.append(len(tokens)-1)\n",
        "input_ids = tokenizer.convert_tokens_to_ids([tokens[i] for i in orig_to_tok_map])"
      ]
    },
    {
      "cell_type": "code",
      "execution_count": 132,
      "metadata": {
        "nbpresent": {
          "id": "b31bd2f4-6a3b-4836-888a-5362ebdbc492"
        },
        "colab": {
          "base_uri": "https://localhost:8080/"
        },
        "id": "8NmNfAaK4n8L",
        "outputId": "7d820223-0833-4bfe-d3c6-be609a9716b4"
      },
      "outputs": [
        {
          "output_type": "stream",
          "name": "stdout",
          "text": [
            "Original tokens: ['finally', 'tonight', ',', 'it', \"'s\", 'prom', 'season', '/', 'and', 'steve', 'hartman', 'met', 'the', 'queen', 'and', 'her', 'king', ',', '/', 'on', 'the', 'road', '..']\n"
          ]
        }
      ],
      "source": [
        "print('Original tokens:',tokens_a)"
      ]
    },
    {
      "cell_type": "code",
      "execution_count": 133,
      "metadata": {
        "nbpresent": {
          "id": "b31bd2f4-6a3b-4836-888a-5362ebdbc492"
        },
        "colab": {
          "base_uri": "https://localhost:8080/"
        },
        "id": "uo2sg4IU4n8L",
        "outputId": "6659fdc1-9b79-4d33-c254-cf5e2233fbca"
      },
      "outputs": [
        {
          "output_type": "stream",
          "name": "stdout",
          "text": [
            "BERT tokens: ['[CLS]', 'finally', 'tonight', ',', 'it', \"'\", 's', 'prom', 'season', '/', 'and', 'steve', 'hartman', 'met', 'the', 'queen', 'and', 'her', 'king', ',', '/', 'on', 'the', 'road', '.', '.', '[SEP]']\n"
          ]
        }
      ],
      "source": [
        "print('BERT tokens:',tokens)"
      ]
    },
    {
      "cell_type": "code",
      "execution_count": 134,
      "metadata": {
        "colab": {
          "base_uri": "https://localhost:8080/"
        },
        "id": "AsaVm5sA4n8L",
        "outputId": "872916b8-5113-46a3-ec1c-b538664c8303"
      },
      "outputs": [
        {
          "output_type": "execute_result",
          "data": {
            "text/plain": [
              "[0,\n",
              " 1,\n",
              " 2,\n",
              " 3,\n",
              " 4,\n",
              " 6,\n",
              " 7,\n",
              " 8,\n",
              " 9,\n",
              " 10,\n",
              " 11,\n",
              " 12,\n",
              " 13,\n",
              " 14,\n",
              " 15,\n",
              " 16,\n",
              " 17,\n",
              " 18,\n",
              " 19,\n",
              " 20,\n",
              " 21,\n",
              " 22,\n",
              " 23,\n",
              " 25,\n",
              " 26]"
            ]
          },
          "metadata": {},
          "execution_count": 134
        }
      ],
      "source": [
        "orig_to_tok_map"
      ]
    },
    {
      "cell_type": "code",
      "execution_count": 135,
      "metadata": {
        "colab": {
          "base_uri": "https://localhost:8080/"
        },
        "id": "19mIdiqR4n8M",
        "outputId": "0d9e613e-dc15-42f1-c7c7-6c56365660ef"
      },
      "outputs": [
        {
          "output_type": "execute_result",
          "data": {
            "text/plain": [
              "['[CLS]',\n",
              " 'finally',\n",
              " 'tonight',\n",
              " ',',\n",
              " 'it',\n",
              " 's',\n",
              " 'prom',\n",
              " 'season',\n",
              " '/',\n",
              " 'and',\n",
              " 'steve',\n",
              " 'hartman',\n",
              " 'met',\n",
              " 'the',\n",
              " 'queen',\n",
              " 'and',\n",
              " 'her',\n",
              " 'king',\n",
              " ',',\n",
              " '/',\n",
              " 'on',\n",
              " 'the',\n",
              " 'road',\n",
              " '.',\n",
              " '[SEP]']"
            ]
          },
          "metadata": {},
          "execution_count": 135
        }
      ],
      "source": [
        "[tokens[i] for i in orig_to_tok_map]"
      ]
    },
    {
      "cell_type": "code",
      "execution_count": 136,
      "metadata": {
        "nbpresent": {
          "id": "eb4915fc-babf-4bf9-8789-ab05ef24be45"
        },
        "id": "hhyU2iB64n8M"
      },
      "outputs": [],
      "source": [
        "# Convert data to InputExample format\n",
        "test_example = convert_text_to_examples([sentence_ini], [['-PAD-']*len(sentence_ini)])"
      ]
    },
    {
      "cell_type": "code",
      "execution_count": 137,
      "metadata": {
        "nbpresent": {
          "id": "4f427047-23e0-4dd4-b8b7-333c93eb88ce"
        },
        "colab": {
          "base_uri": "https://localhost:8080/",
          "height": 84,
          "referenced_widgets": [
            "f668513f7ef14f88a26e116608d28d3d",
            "46e9d90da5ee4c05a3ad380f3829ecd3",
            "dc83603dd7c14fa194525afdf6118531",
            "00042ef0df974486bc3520b47a8b60a8",
            "340a5b29aab342b6859adb93fa9582b4",
            "088b9f2ff4344465b4991b742cbc4d6c",
            "6c3d8fc60b284977a9ef5772fbb3fd6b",
            "525b23377f534938be77b48a585e8948",
            "a4878c5505cb40df89e5ab5f450fe2cf",
            "34b1ed69f2ae4210a27f4f405de42d3d",
            "daaf3414b6fa425eadb2a49a93bad6cb"
          ]
        },
        "id": "JDY9AYQx4n8M",
        "outputId": "7b11a774-789c-43b1-ddc9-a8a3dd3ccab5"
      },
      "outputs": [
        {
          "output_type": "stream",
          "name": "stderr",
          "text": [
            "/usr/local/lib/python3.7/dist-packages/ipykernel_launcher.py:108: TqdmDeprecationWarning: This function will be removed in tqdm==5.0.0\n",
            "Please use `tqdm.notebook.tqdm` instead of `tqdm.tqdm_notebook`\n"
          ]
        },
        {
          "output_type": "display_data",
          "data": {
            "text/plain": [
              "Converting examples to features:   0%|          | 0/1 [00:00<?, ?it/s]"
            ],
            "application/vnd.jupyter.widget-view+json": {
              "version_major": 2,
              "version_minor": 0,
              "model_id": "f668513f7ef14f88a26e116608d28d3d"
            }
          },
          "metadata": {}
        }
      ],
      "source": [
        "# Convert to features\n",
        "(input_ids, input_masks, segment_ids, _\n",
        ") = convert_examples_to_features(tokenizer, test_example, max_seq_length=MAX_SEQUENCE_LENGTH+2)"
      ]
    },
    {
      "cell_type": "code",
      "execution_count": 138,
      "metadata": {
        "colab": {
          "base_uri": "https://localhost:8080/"
        },
        "id": "QOvtIaVU4n8M",
        "outputId": "a690987b-6b78-47c2-f7c4-732e639d854f"
      },
      "outputs": [
        {
          "output_type": "stream",
          "name": "stdout",
          "text": [
            "\n",
            "Word in BERT layer  | Initial word   : Predicted POS-tag\n",
            "-------------------------------------------------------------\n",
            "finally             | finally        : ADV            \n",
            "tonight             | tonight        : ADV            \n",
            ",                   | ,              : PUNCT          \n",
            "it                  | it             : PRON           \n",
            "s                   | 's             : PART           \n",
            "prom                | prom           : NOUN           \n",
            "season              | season         : NOUN           \n",
            "/                   | /              : PUNCT          \n",
            "and                 | and            : CCONJ          \n",
            "steve               | steve          : PROPN          \n",
            "hartman             | hartman        : PROPN          \n",
            "met                 | met            : VERB           \n",
            "the                 | the            : DET            \n",
            "queen               | queen          : NOUN           \n",
            "and                 | and            : CCONJ          \n",
            "her                 | her            : DET            \n",
            "king                | king           : NOUN           \n",
            ",                   | ,              : PUNCT          \n",
            "/                   | /              : PUNCT          \n",
            "on                  | on             : ADP            \n",
            "the                 | the            : DET            \n",
            "road                | road           : NOUN           \n",
            ".                   | ..             : PUNCT          \n"
          ]
        }
      ],
      "source": [
        "predictions = model.predict([input_ids, input_masks, segment_ids], batch_size=1).argmax(-1)[0]\n",
        "print(\"\\n{:20}| {:15}: {:15}\".format(\"Word in BERT layer\", 'Initial word', \"Predicted POS-tag\"))\n",
        "print(61*'-')\n",
        "k = 0\n",
        "for i, pred in enumerate(predictions):\n",
        "    try:\n",
        "        if pred!=0:\n",
        "            print(\"{:20}| {:15}: {:15}\".format([tokens[i] for i in orig_to_tok_map][i], sentence_ini[i-1], int2tag[pred]))            \n",
        "            k+=1            \n",
        "    except:\n",
        "        pass"
      ]
    }
  ],
  "metadata": {
    "kernelspec": {
      "display_name": "Python 3",
      "language": "python",
      "name": "python3"
    },
    "language_info": {
      "codemirror_mode": {
        "name": "ipython",
        "version": 3
      },
      "file_extension": ".py",
      "mimetype": "text/x-python",
      "name": "python",
      "nbconvert_exporter": "python",
      "pygments_lexer": "ipython3",
      "version": "3.6.3"
    },
    "colab": {
      "name": "pos_tagger_bert.ipynb",
      "provenance": []
    },
    "accelerator": "GPU",
    "gpuClass": "standard",
    "widgets": {
      "application/vnd.jupyter.widget-state+json": {
        "a91a967b243744d5b707c3327397419d": {
          "model_module": "@jupyter-widgets/controls",
          "model_name": "HBoxModel",
          "model_module_version": "1.5.0",
          "state": {
            "_dom_classes": [],
            "_model_module": "@jupyter-widgets/controls",
            "_model_module_version": "1.5.0",
            "_model_name": "HBoxModel",
            "_view_count": null,
            "_view_module": "@jupyter-widgets/controls",
            "_view_module_version": "1.5.0",
            "_view_name": "HBoxView",
            "box_style": "",
            "children": [
              "IPY_MODEL_aafb666c596141fcb80bc18d6eb7a8e2",
              "IPY_MODEL_0f20d563ff8d47838085974e84dc05ea",
              "IPY_MODEL_4a3884b1e42a4181829c14ba2771b99b"
            ],
            "layout": "IPY_MODEL_0b66591bf1e74f16b6c081bc82ddac34"
          }
        },
        "aafb666c596141fcb80bc18d6eb7a8e2": {
          "model_module": "@jupyter-widgets/controls",
          "model_name": "HTMLModel",
          "model_module_version": "1.5.0",
          "state": {
            "_dom_classes": [],
            "_model_module": "@jupyter-widgets/controls",
            "_model_module_version": "1.5.0",
            "_model_name": "HTMLModel",
            "_view_count": null,
            "_view_module": "@jupyter-widgets/controls",
            "_view_module_version": "1.5.0",
            "_view_name": "HTMLView",
            "description": "",
            "description_tooltip": null,
            "layout": "IPY_MODEL_c4ef2d17a5454844b7f7f2e8c79be535",
            "placeholder": "​",
            "style": "IPY_MODEL_091856727dee40c186157df4c30ffe54",
            "value": "Converting examples to features: 100%"
          }
        },
        "0f20d563ff8d47838085974e84dc05ea": {
          "model_module": "@jupyter-widgets/controls",
          "model_name": "FloatProgressModel",
          "model_module_version": "1.5.0",
          "state": {
            "_dom_classes": [],
            "_model_module": "@jupyter-widgets/controls",
            "_model_module_version": "1.5.0",
            "_model_name": "FloatProgressModel",
            "_view_count": null,
            "_view_module": "@jupyter-widgets/controls",
            "_view_module_version": "1.5.0",
            "_view_name": "ProgressView",
            "bar_style": "success",
            "description": "",
            "description_tooltip": null,
            "layout": "IPY_MODEL_1f7ed6738bd342c68e9b5c39769a14b6",
            "max": 1,
            "min": 0,
            "orientation": "horizontal",
            "style": "IPY_MODEL_7c038a3a43a84e38934a1bb443650c50",
            "value": 1
          }
        },
        "4a3884b1e42a4181829c14ba2771b99b": {
          "model_module": "@jupyter-widgets/controls",
          "model_name": "HTMLModel",
          "model_module_version": "1.5.0",
          "state": {
            "_dom_classes": [],
            "_model_module": "@jupyter-widgets/controls",
            "_model_module_version": "1.5.0",
            "_model_name": "HTMLModel",
            "_view_count": null,
            "_view_module": "@jupyter-widgets/controls",
            "_view_module_version": "1.5.0",
            "_view_name": "HTMLView",
            "description": "",
            "description_tooltip": null,
            "layout": "IPY_MODEL_f58b4c8381af408ca190f636c709d554",
            "placeholder": "​",
            "style": "IPY_MODEL_fba4483779954aa983a67219221faa1f",
            "value": " 1/1 [00:00&lt;00:00, 18.56it/s]"
          }
        },
        "0b66591bf1e74f16b6c081bc82ddac34": {
          "model_module": "@jupyter-widgets/base",
          "model_name": "LayoutModel",
          "model_module_version": "1.2.0",
          "state": {
            "_model_module": "@jupyter-widgets/base",
            "_model_module_version": "1.2.0",
            "_model_name": "LayoutModel",
            "_view_count": null,
            "_view_module": "@jupyter-widgets/base",
            "_view_module_version": "1.2.0",
            "_view_name": "LayoutView",
            "align_content": null,
            "align_items": null,
            "align_self": null,
            "border": null,
            "bottom": null,
            "display": null,
            "flex": null,
            "flex_flow": null,
            "grid_area": null,
            "grid_auto_columns": null,
            "grid_auto_flow": null,
            "grid_auto_rows": null,
            "grid_column": null,
            "grid_gap": null,
            "grid_row": null,
            "grid_template_areas": null,
            "grid_template_columns": null,
            "grid_template_rows": null,
            "height": null,
            "justify_content": null,
            "justify_items": null,
            "left": null,
            "margin": null,
            "max_height": null,
            "max_width": null,
            "min_height": null,
            "min_width": null,
            "object_fit": null,
            "object_position": null,
            "order": null,
            "overflow": null,
            "overflow_x": null,
            "overflow_y": null,
            "padding": null,
            "right": null,
            "top": null,
            "visibility": null,
            "width": null
          }
        },
        "c4ef2d17a5454844b7f7f2e8c79be535": {
          "model_module": "@jupyter-widgets/base",
          "model_name": "LayoutModel",
          "model_module_version": "1.2.0",
          "state": {
            "_model_module": "@jupyter-widgets/base",
            "_model_module_version": "1.2.0",
            "_model_name": "LayoutModel",
            "_view_count": null,
            "_view_module": "@jupyter-widgets/base",
            "_view_module_version": "1.2.0",
            "_view_name": "LayoutView",
            "align_content": null,
            "align_items": null,
            "align_self": null,
            "border": null,
            "bottom": null,
            "display": null,
            "flex": null,
            "flex_flow": null,
            "grid_area": null,
            "grid_auto_columns": null,
            "grid_auto_flow": null,
            "grid_auto_rows": null,
            "grid_column": null,
            "grid_gap": null,
            "grid_row": null,
            "grid_template_areas": null,
            "grid_template_columns": null,
            "grid_template_rows": null,
            "height": null,
            "justify_content": null,
            "justify_items": null,
            "left": null,
            "margin": null,
            "max_height": null,
            "max_width": null,
            "min_height": null,
            "min_width": null,
            "object_fit": null,
            "object_position": null,
            "order": null,
            "overflow": null,
            "overflow_x": null,
            "overflow_y": null,
            "padding": null,
            "right": null,
            "top": null,
            "visibility": null,
            "width": null
          }
        },
        "091856727dee40c186157df4c30ffe54": {
          "model_module": "@jupyter-widgets/controls",
          "model_name": "DescriptionStyleModel",
          "model_module_version": "1.5.0",
          "state": {
            "_model_module": "@jupyter-widgets/controls",
            "_model_module_version": "1.5.0",
            "_model_name": "DescriptionStyleModel",
            "_view_count": null,
            "_view_module": "@jupyter-widgets/base",
            "_view_module_version": "1.2.0",
            "_view_name": "StyleView",
            "description_width": ""
          }
        },
        "1f7ed6738bd342c68e9b5c39769a14b6": {
          "model_module": "@jupyter-widgets/base",
          "model_name": "LayoutModel",
          "model_module_version": "1.2.0",
          "state": {
            "_model_module": "@jupyter-widgets/base",
            "_model_module_version": "1.2.0",
            "_model_name": "LayoutModel",
            "_view_count": null,
            "_view_module": "@jupyter-widgets/base",
            "_view_module_version": "1.2.0",
            "_view_name": "LayoutView",
            "align_content": null,
            "align_items": null,
            "align_self": null,
            "border": null,
            "bottom": null,
            "display": null,
            "flex": null,
            "flex_flow": null,
            "grid_area": null,
            "grid_auto_columns": null,
            "grid_auto_flow": null,
            "grid_auto_rows": null,
            "grid_column": null,
            "grid_gap": null,
            "grid_row": null,
            "grid_template_areas": null,
            "grid_template_columns": null,
            "grid_template_rows": null,
            "height": null,
            "justify_content": null,
            "justify_items": null,
            "left": null,
            "margin": null,
            "max_height": null,
            "max_width": null,
            "min_height": null,
            "min_width": null,
            "object_fit": null,
            "object_position": null,
            "order": null,
            "overflow": null,
            "overflow_x": null,
            "overflow_y": null,
            "padding": null,
            "right": null,
            "top": null,
            "visibility": null,
            "width": null
          }
        },
        "7c038a3a43a84e38934a1bb443650c50": {
          "model_module": "@jupyter-widgets/controls",
          "model_name": "ProgressStyleModel",
          "model_module_version": "1.5.0",
          "state": {
            "_model_module": "@jupyter-widgets/controls",
            "_model_module_version": "1.5.0",
            "_model_name": "ProgressStyleModel",
            "_view_count": null,
            "_view_module": "@jupyter-widgets/base",
            "_view_module_version": "1.2.0",
            "_view_name": "StyleView",
            "bar_color": null,
            "description_width": ""
          }
        },
        "f58b4c8381af408ca190f636c709d554": {
          "model_module": "@jupyter-widgets/base",
          "model_name": "LayoutModel",
          "model_module_version": "1.2.0",
          "state": {
            "_model_module": "@jupyter-widgets/base",
            "_model_module_version": "1.2.0",
            "_model_name": "LayoutModel",
            "_view_count": null,
            "_view_module": "@jupyter-widgets/base",
            "_view_module_version": "1.2.0",
            "_view_name": "LayoutView",
            "align_content": null,
            "align_items": null,
            "align_self": null,
            "border": null,
            "bottom": null,
            "display": null,
            "flex": null,
            "flex_flow": null,
            "grid_area": null,
            "grid_auto_columns": null,
            "grid_auto_flow": null,
            "grid_auto_rows": null,
            "grid_column": null,
            "grid_gap": null,
            "grid_row": null,
            "grid_template_areas": null,
            "grid_template_columns": null,
            "grid_template_rows": null,
            "height": null,
            "justify_content": null,
            "justify_items": null,
            "left": null,
            "margin": null,
            "max_height": null,
            "max_width": null,
            "min_height": null,
            "min_width": null,
            "object_fit": null,
            "object_position": null,
            "order": null,
            "overflow": null,
            "overflow_x": null,
            "overflow_y": null,
            "padding": null,
            "right": null,
            "top": null,
            "visibility": null,
            "width": null
          }
        },
        "fba4483779954aa983a67219221faa1f": {
          "model_module": "@jupyter-widgets/controls",
          "model_name": "DescriptionStyleModel",
          "model_module_version": "1.5.0",
          "state": {
            "_model_module": "@jupyter-widgets/controls",
            "_model_module_version": "1.5.0",
            "_model_name": "DescriptionStyleModel",
            "_view_count": null,
            "_view_module": "@jupyter-widgets/base",
            "_view_module_version": "1.2.0",
            "_view_name": "StyleView",
            "description_width": ""
          }
        },
        "c582c70d90cc41d0b7f6916886b3eafd": {
          "model_module": "@jupyter-widgets/controls",
          "model_name": "HBoxModel",
          "model_module_version": "1.5.0",
          "state": {
            "_dom_classes": [],
            "_model_module": "@jupyter-widgets/controls",
            "_model_module_version": "1.5.0",
            "_model_name": "HBoxModel",
            "_view_count": null,
            "_view_module": "@jupyter-widgets/controls",
            "_view_module_version": "1.5.0",
            "_view_name": "HBoxView",
            "box_style": "",
            "children": [
              "IPY_MODEL_c9330f1eb4994aedab50a3d936a2e051",
              "IPY_MODEL_872adb61b00642589aa94698984195ef",
              "IPY_MODEL_393245f20adb4168b50549fbe29c195c"
            ],
            "layout": "IPY_MODEL_695928811519454fa44951c0cf611af5"
          }
        },
        "c9330f1eb4994aedab50a3d936a2e051": {
          "model_module": "@jupyter-widgets/controls",
          "model_name": "HTMLModel",
          "model_module_version": "1.5.0",
          "state": {
            "_dom_classes": [],
            "_model_module": "@jupyter-widgets/controls",
            "_model_module_version": "1.5.0",
            "_model_name": "HTMLModel",
            "_view_count": null,
            "_view_module": "@jupyter-widgets/controls",
            "_view_module_version": "1.5.0",
            "_view_name": "HTMLView",
            "description": "",
            "description_tooltip": null,
            "layout": "IPY_MODEL_6aa81a75f1c9409989459c479b146b50",
            "placeholder": "​",
            "style": "IPY_MODEL_e744b5ab2b4649bdb7465bc965fac623",
            "value": "Converting examples to features: 100%"
          }
        },
        "872adb61b00642589aa94698984195ef": {
          "model_module": "@jupyter-widgets/controls",
          "model_name": "FloatProgressModel",
          "model_module_version": "1.5.0",
          "state": {
            "_dom_classes": [],
            "_model_module": "@jupyter-widgets/controls",
            "_model_module_version": "1.5.0",
            "_model_name": "FloatProgressModel",
            "_view_count": null,
            "_view_module": "@jupyter-widgets/controls",
            "_view_module_version": "1.5.0",
            "_view_name": "ProgressView",
            "bar_style": "success",
            "description": "",
            "description_tooltip": null,
            "layout": "IPY_MODEL_812a66412bad445dafb7cd4606384c2d",
            "max": 1951,
            "min": 0,
            "orientation": "horizontal",
            "style": "IPY_MODEL_17acc23d2d264010b63b2639d690c26a",
            "value": 1951
          }
        },
        "393245f20adb4168b50549fbe29c195c": {
          "model_module": "@jupyter-widgets/controls",
          "model_name": "HTMLModel",
          "model_module_version": "1.5.0",
          "state": {
            "_dom_classes": [],
            "_model_module": "@jupyter-widgets/controls",
            "_model_module_version": "1.5.0",
            "_model_name": "HTMLModel",
            "_view_count": null,
            "_view_module": "@jupyter-widgets/controls",
            "_view_module_version": "1.5.0",
            "_view_name": "HTMLView",
            "description": "",
            "description_tooltip": null,
            "layout": "IPY_MODEL_6c298743157045138d03b5643b24e3ed",
            "placeholder": "​",
            "style": "IPY_MODEL_65d8bb6ed4d040e48bc45db7176ca06e",
            "value": " 1951/1951 [00:01&lt;00:00, 1772.00it/s]"
          }
        },
        "695928811519454fa44951c0cf611af5": {
          "model_module": "@jupyter-widgets/base",
          "model_name": "LayoutModel",
          "model_module_version": "1.2.0",
          "state": {
            "_model_module": "@jupyter-widgets/base",
            "_model_module_version": "1.2.0",
            "_model_name": "LayoutModel",
            "_view_count": null,
            "_view_module": "@jupyter-widgets/base",
            "_view_module_version": "1.2.0",
            "_view_name": "LayoutView",
            "align_content": null,
            "align_items": null,
            "align_self": null,
            "border": null,
            "bottom": null,
            "display": null,
            "flex": null,
            "flex_flow": null,
            "grid_area": null,
            "grid_auto_columns": null,
            "grid_auto_flow": null,
            "grid_auto_rows": null,
            "grid_column": null,
            "grid_gap": null,
            "grid_row": null,
            "grid_template_areas": null,
            "grid_template_columns": null,
            "grid_template_rows": null,
            "height": null,
            "justify_content": null,
            "justify_items": null,
            "left": null,
            "margin": null,
            "max_height": null,
            "max_width": null,
            "min_height": null,
            "min_width": null,
            "object_fit": null,
            "object_position": null,
            "order": null,
            "overflow": null,
            "overflow_x": null,
            "overflow_y": null,
            "padding": null,
            "right": null,
            "top": null,
            "visibility": null,
            "width": null
          }
        },
        "6aa81a75f1c9409989459c479b146b50": {
          "model_module": "@jupyter-widgets/base",
          "model_name": "LayoutModel",
          "model_module_version": "1.2.0",
          "state": {
            "_model_module": "@jupyter-widgets/base",
            "_model_module_version": "1.2.0",
            "_model_name": "LayoutModel",
            "_view_count": null,
            "_view_module": "@jupyter-widgets/base",
            "_view_module_version": "1.2.0",
            "_view_name": "LayoutView",
            "align_content": null,
            "align_items": null,
            "align_self": null,
            "border": null,
            "bottom": null,
            "display": null,
            "flex": null,
            "flex_flow": null,
            "grid_area": null,
            "grid_auto_columns": null,
            "grid_auto_flow": null,
            "grid_auto_rows": null,
            "grid_column": null,
            "grid_gap": null,
            "grid_row": null,
            "grid_template_areas": null,
            "grid_template_columns": null,
            "grid_template_rows": null,
            "height": null,
            "justify_content": null,
            "justify_items": null,
            "left": null,
            "margin": null,
            "max_height": null,
            "max_width": null,
            "min_height": null,
            "min_width": null,
            "object_fit": null,
            "object_position": null,
            "order": null,
            "overflow": null,
            "overflow_x": null,
            "overflow_y": null,
            "padding": null,
            "right": null,
            "top": null,
            "visibility": null,
            "width": null
          }
        },
        "e744b5ab2b4649bdb7465bc965fac623": {
          "model_module": "@jupyter-widgets/controls",
          "model_name": "DescriptionStyleModel",
          "model_module_version": "1.5.0",
          "state": {
            "_model_module": "@jupyter-widgets/controls",
            "_model_module_version": "1.5.0",
            "_model_name": "DescriptionStyleModel",
            "_view_count": null,
            "_view_module": "@jupyter-widgets/base",
            "_view_module_version": "1.2.0",
            "_view_name": "StyleView",
            "description_width": ""
          }
        },
        "812a66412bad445dafb7cd4606384c2d": {
          "model_module": "@jupyter-widgets/base",
          "model_name": "LayoutModel",
          "model_module_version": "1.2.0",
          "state": {
            "_model_module": "@jupyter-widgets/base",
            "_model_module_version": "1.2.0",
            "_model_name": "LayoutModel",
            "_view_count": null,
            "_view_module": "@jupyter-widgets/base",
            "_view_module_version": "1.2.0",
            "_view_name": "LayoutView",
            "align_content": null,
            "align_items": null,
            "align_self": null,
            "border": null,
            "bottom": null,
            "display": null,
            "flex": null,
            "flex_flow": null,
            "grid_area": null,
            "grid_auto_columns": null,
            "grid_auto_flow": null,
            "grid_auto_rows": null,
            "grid_column": null,
            "grid_gap": null,
            "grid_row": null,
            "grid_template_areas": null,
            "grid_template_columns": null,
            "grid_template_rows": null,
            "height": null,
            "justify_content": null,
            "justify_items": null,
            "left": null,
            "margin": null,
            "max_height": null,
            "max_width": null,
            "min_height": null,
            "min_width": null,
            "object_fit": null,
            "object_position": null,
            "order": null,
            "overflow": null,
            "overflow_x": null,
            "overflow_y": null,
            "padding": null,
            "right": null,
            "top": null,
            "visibility": null,
            "width": null
          }
        },
        "17acc23d2d264010b63b2639d690c26a": {
          "model_module": "@jupyter-widgets/controls",
          "model_name": "ProgressStyleModel",
          "model_module_version": "1.5.0",
          "state": {
            "_model_module": "@jupyter-widgets/controls",
            "_model_module_version": "1.5.0",
            "_model_name": "ProgressStyleModel",
            "_view_count": null,
            "_view_module": "@jupyter-widgets/base",
            "_view_module_version": "1.2.0",
            "_view_name": "StyleView",
            "bar_color": null,
            "description_width": ""
          }
        },
        "6c298743157045138d03b5643b24e3ed": {
          "model_module": "@jupyter-widgets/base",
          "model_name": "LayoutModel",
          "model_module_version": "1.2.0",
          "state": {
            "_model_module": "@jupyter-widgets/base",
            "_model_module_version": "1.2.0",
            "_model_name": "LayoutModel",
            "_view_count": null,
            "_view_module": "@jupyter-widgets/base",
            "_view_module_version": "1.2.0",
            "_view_name": "LayoutView",
            "align_content": null,
            "align_items": null,
            "align_self": null,
            "border": null,
            "bottom": null,
            "display": null,
            "flex": null,
            "flex_flow": null,
            "grid_area": null,
            "grid_auto_columns": null,
            "grid_auto_flow": null,
            "grid_auto_rows": null,
            "grid_column": null,
            "grid_gap": null,
            "grid_row": null,
            "grid_template_areas": null,
            "grid_template_columns": null,
            "grid_template_rows": null,
            "height": null,
            "justify_content": null,
            "justify_items": null,
            "left": null,
            "margin": null,
            "max_height": null,
            "max_width": null,
            "min_height": null,
            "min_width": null,
            "object_fit": null,
            "object_position": null,
            "order": null,
            "overflow": null,
            "overflow_x": null,
            "overflow_y": null,
            "padding": null,
            "right": null,
            "top": null,
            "visibility": null,
            "width": null
          }
        },
        "65d8bb6ed4d040e48bc45db7176ca06e": {
          "model_module": "@jupyter-widgets/controls",
          "model_name": "DescriptionStyleModel",
          "model_module_version": "1.5.0",
          "state": {
            "_model_module": "@jupyter-widgets/controls",
            "_model_module_version": "1.5.0",
            "_model_name": "DescriptionStyleModel",
            "_view_count": null,
            "_view_module": "@jupyter-widgets/base",
            "_view_module_version": "1.2.0",
            "_view_name": "StyleView",
            "description_width": ""
          }
        },
        "ecf50bcb02484cd0a63c9ca62faef609": {
          "model_module": "@jupyter-widgets/controls",
          "model_name": "HBoxModel",
          "model_module_version": "1.5.0",
          "state": {
            "_dom_classes": [],
            "_model_module": "@jupyter-widgets/controls",
            "_model_module_version": "1.5.0",
            "_model_name": "HBoxModel",
            "_view_count": null,
            "_view_module": "@jupyter-widgets/controls",
            "_view_module_version": "1.5.0",
            "_view_name": "HBoxView",
            "box_style": "",
            "children": [
              "IPY_MODEL_8b6e81d6aa8341348093cba3e6e74197",
              "IPY_MODEL_45e1527d4f45460a885cc8e9cffd1a44",
              "IPY_MODEL_0e572e9f095941ebb712719519c1f852"
            ],
            "layout": "IPY_MODEL_1126cf031a9243fab2a7858fb5e25e37"
          }
        },
        "8b6e81d6aa8341348093cba3e6e74197": {
          "model_module": "@jupyter-widgets/controls",
          "model_name": "HTMLModel",
          "model_module_version": "1.5.0",
          "state": {
            "_dom_classes": [],
            "_model_module": "@jupyter-widgets/controls",
            "_model_module_version": "1.5.0",
            "_model_name": "HTMLModel",
            "_view_count": null,
            "_view_module": "@jupyter-widgets/controls",
            "_view_module_version": "1.5.0",
            "_view_name": "HTMLView",
            "description": "",
            "description_tooltip": null,
            "layout": "IPY_MODEL_f25c950b81de4a058740d9a34718c848",
            "placeholder": "​",
            "style": "IPY_MODEL_e1b0cea8815c40e48e47537c2859a609",
            "value": "Converting examples to features: 100%"
          }
        },
        "45e1527d4f45460a885cc8e9cffd1a44": {
          "model_module": "@jupyter-widgets/controls",
          "model_name": "FloatProgressModel",
          "model_module_version": "1.5.0",
          "state": {
            "_dom_classes": [],
            "_model_module": "@jupyter-widgets/controls",
            "_model_module_version": "1.5.0",
            "_model_name": "FloatProgressModel",
            "_view_count": null,
            "_view_module": "@jupyter-widgets/controls",
            "_view_module_version": "1.5.0",
            "_view_name": "ProgressView",
            "bar_style": "success",
            "description": "",
            "description_tooltip": null,
            "layout": "IPY_MODEL_f355f1f46c4f4852aff5a3a96ee02d85",
            "max": 154,
            "min": 0,
            "orientation": "horizontal",
            "style": "IPY_MODEL_5c80e679ee784bceb4d2f6459261c43b",
            "value": 154
          }
        },
        "0e572e9f095941ebb712719519c1f852": {
          "model_module": "@jupyter-widgets/controls",
          "model_name": "HTMLModel",
          "model_module_version": "1.5.0",
          "state": {
            "_dom_classes": [],
            "_model_module": "@jupyter-widgets/controls",
            "_model_module_version": "1.5.0",
            "_model_name": "HTMLModel",
            "_view_count": null,
            "_view_module": "@jupyter-widgets/controls",
            "_view_module_version": "1.5.0",
            "_view_name": "HTMLView",
            "description": "",
            "description_tooltip": null,
            "layout": "IPY_MODEL_54c0de7ebe6c48f4b0f451f4c572ecfa",
            "placeholder": "​",
            "style": "IPY_MODEL_7da728c5d36d40a999e2a1bd18c0d7e2",
            "value": " 154/154 [00:00&lt;00:00, 948.97it/s]"
          }
        },
        "1126cf031a9243fab2a7858fb5e25e37": {
          "model_module": "@jupyter-widgets/base",
          "model_name": "LayoutModel",
          "model_module_version": "1.2.0",
          "state": {
            "_model_module": "@jupyter-widgets/base",
            "_model_module_version": "1.2.0",
            "_model_name": "LayoutModel",
            "_view_count": null,
            "_view_module": "@jupyter-widgets/base",
            "_view_module_version": "1.2.0",
            "_view_name": "LayoutView",
            "align_content": null,
            "align_items": null,
            "align_self": null,
            "border": null,
            "bottom": null,
            "display": null,
            "flex": null,
            "flex_flow": null,
            "grid_area": null,
            "grid_auto_columns": null,
            "grid_auto_flow": null,
            "grid_auto_rows": null,
            "grid_column": null,
            "grid_gap": null,
            "grid_row": null,
            "grid_template_areas": null,
            "grid_template_columns": null,
            "grid_template_rows": null,
            "height": null,
            "justify_content": null,
            "justify_items": null,
            "left": null,
            "margin": null,
            "max_height": null,
            "max_width": null,
            "min_height": null,
            "min_width": null,
            "object_fit": null,
            "object_position": null,
            "order": null,
            "overflow": null,
            "overflow_x": null,
            "overflow_y": null,
            "padding": null,
            "right": null,
            "top": null,
            "visibility": null,
            "width": null
          }
        },
        "f25c950b81de4a058740d9a34718c848": {
          "model_module": "@jupyter-widgets/base",
          "model_name": "LayoutModel",
          "model_module_version": "1.2.0",
          "state": {
            "_model_module": "@jupyter-widgets/base",
            "_model_module_version": "1.2.0",
            "_model_name": "LayoutModel",
            "_view_count": null,
            "_view_module": "@jupyter-widgets/base",
            "_view_module_version": "1.2.0",
            "_view_name": "LayoutView",
            "align_content": null,
            "align_items": null,
            "align_self": null,
            "border": null,
            "bottom": null,
            "display": null,
            "flex": null,
            "flex_flow": null,
            "grid_area": null,
            "grid_auto_columns": null,
            "grid_auto_flow": null,
            "grid_auto_rows": null,
            "grid_column": null,
            "grid_gap": null,
            "grid_row": null,
            "grid_template_areas": null,
            "grid_template_columns": null,
            "grid_template_rows": null,
            "height": null,
            "justify_content": null,
            "justify_items": null,
            "left": null,
            "margin": null,
            "max_height": null,
            "max_width": null,
            "min_height": null,
            "min_width": null,
            "object_fit": null,
            "object_position": null,
            "order": null,
            "overflow": null,
            "overflow_x": null,
            "overflow_y": null,
            "padding": null,
            "right": null,
            "top": null,
            "visibility": null,
            "width": null
          }
        },
        "e1b0cea8815c40e48e47537c2859a609": {
          "model_module": "@jupyter-widgets/controls",
          "model_name": "DescriptionStyleModel",
          "model_module_version": "1.5.0",
          "state": {
            "_model_module": "@jupyter-widgets/controls",
            "_model_module_version": "1.5.0",
            "_model_name": "DescriptionStyleModel",
            "_view_count": null,
            "_view_module": "@jupyter-widgets/base",
            "_view_module_version": "1.2.0",
            "_view_name": "StyleView",
            "description_width": ""
          }
        },
        "f355f1f46c4f4852aff5a3a96ee02d85": {
          "model_module": "@jupyter-widgets/base",
          "model_name": "LayoutModel",
          "model_module_version": "1.2.0",
          "state": {
            "_model_module": "@jupyter-widgets/base",
            "_model_module_version": "1.2.0",
            "_model_name": "LayoutModel",
            "_view_count": null,
            "_view_module": "@jupyter-widgets/base",
            "_view_module_version": "1.2.0",
            "_view_name": "LayoutView",
            "align_content": null,
            "align_items": null,
            "align_self": null,
            "border": null,
            "bottom": null,
            "display": null,
            "flex": null,
            "flex_flow": null,
            "grid_area": null,
            "grid_auto_columns": null,
            "grid_auto_flow": null,
            "grid_auto_rows": null,
            "grid_column": null,
            "grid_gap": null,
            "grid_row": null,
            "grid_template_areas": null,
            "grid_template_columns": null,
            "grid_template_rows": null,
            "height": null,
            "justify_content": null,
            "justify_items": null,
            "left": null,
            "margin": null,
            "max_height": null,
            "max_width": null,
            "min_height": null,
            "min_width": null,
            "object_fit": null,
            "object_position": null,
            "order": null,
            "overflow": null,
            "overflow_x": null,
            "overflow_y": null,
            "padding": null,
            "right": null,
            "top": null,
            "visibility": null,
            "width": null
          }
        },
        "5c80e679ee784bceb4d2f6459261c43b": {
          "model_module": "@jupyter-widgets/controls",
          "model_name": "ProgressStyleModel",
          "model_module_version": "1.5.0",
          "state": {
            "_model_module": "@jupyter-widgets/controls",
            "_model_module_version": "1.5.0",
            "_model_name": "ProgressStyleModel",
            "_view_count": null,
            "_view_module": "@jupyter-widgets/base",
            "_view_module_version": "1.2.0",
            "_view_name": "StyleView",
            "bar_color": null,
            "description_width": ""
          }
        },
        "54c0de7ebe6c48f4b0f451f4c572ecfa": {
          "model_module": "@jupyter-widgets/base",
          "model_name": "LayoutModel",
          "model_module_version": "1.2.0",
          "state": {
            "_model_module": "@jupyter-widgets/base",
            "_model_module_version": "1.2.0",
            "_model_name": "LayoutModel",
            "_view_count": null,
            "_view_module": "@jupyter-widgets/base",
            "_view_module_version": "1.2.0",
            "_view_name": "LayoutView",
            "align_content": null,
            "align_items": null,
            "align_self": null,
            "border": null,
            "bottom": null,
            "display": null,
            "flex": null,
            "flex_flow": null,
            "grid_area": null,
            "grid_auto_columns": null,
            "grid_auto_flow": null,
            "grid_auto_rows": null,
            "grid_column": null,
            "grid_gap": null,
            "grid_row": null,
            "grid_template_areas": null,
            "grid_template_columns": null,
            "grid_template_rows": null,
            "height": null,
            "justify_content": null,
            "justify_items": null,
            "left": null,
            "margin": null,
            "max_height": null,
            "max_width": null,
            "min_height": null,
            "min_width": null,
            "object_fit": null,
            "object_position": null,
            "order": null,
            "overflow": null,
            "overflow_x": null,
            "overflow_y": null,
            "padding": null,
            "right": null,
            "top": null,
            "visibility": null,
            "width": null
          }
        },
        "7da728c5d36d40a999e2a1bd18c0d7e2": {
          "model_module": "@jupyter-widgets/controls",
          "model_name": "DescriptionStyleModel",
          "model_module_version": "1.5.0",
          "state": {
            "_model_module": "@jupyter-widgets/controls",
            "_model_module_version": "1.5.0",
            "_model_name": "DescriptionStyleModel",
            "_view_count": null,
            "_view_module": "@jupyter-widgets/base",
            "_view_module_version": "1.2.0",
            "_view_name": "StyleView",
            "description_width": ""
          }
        },
        "f668513f7ef14f88a26e116608d28d3d": {
          "model_module": "@jupyter-widgets/controls",
          "model_name": "HBoxModel",
          "model_module_version": "1.5.0",
          "state": {
            "_dom_classes": [],
            "_model_module": "@jupyter-widgets/controls",
            "_model_module_version": "1.5.0",
            "_model_name": "HBoxModel",
            "_view_count": null,
            "_view_module": "@jupyter-widgets/controls",
            "_view_module_version": "1.5.0",
            "_view_name": "HBoxView",
            "box_style": "",
            "children": [
              "IPY_MODEL_46e9d90da5ee4c05a3ad380f3829ecd3",
              "IPY_MODEL_dc83603dd7c14fa194525afdf6118531",
              "IPY_MODEL_00042ef0df974486bc3520b47a8b60a8"
            ],
            "layout": "IPY_MODEL_340a5b29aab342b6859adb93fa9582b4"
          }
        },
        "46e9d90da5ee4c05a3ad380f3829ecd3": {
          "model_module": "@jupyter-widgets/controls",
          "model_name": "HTMLModel",
          "model_module_version": "1.5.0",
          "state": {
            "_dom_classes": [],
            "_model_module": "@jupyter-widgets/controls",
            "_model_module_version": "1.5.0",
            "_model_name": "HTMLModel",
            "_view_count": null,
            "_view_module": "@jupyter-widgets/controls",
            "_view_module_version": "1.5.0",
            "_view_name": "HTMLView",
            "description": "",
            "description_tooltip": null,
            "layout": "IPY_MODEL_088b9f2ff4344465b4991b742cbc4d6c",
            "placeholder": "​",
            "style": "IPY_MODEL_6c3d8fc60b284977a9ef5772fbb3fd6b",
            "value": "Converting examples to features: 100%"
          }
        },
        "dc83603dd7c14fa194525afdf6118531": {
          "model_module": "@jupyter-widgets/controls",
          "model_name": "FloatProgressModel",
          "model_module_version": "1.5.0",
          "state": {
            "_dom_classes": [],
            "_model_module": "@jupyter-widgets/controls",
            "_model_module_version": "1.5.0",
            "_model_name": "FloatProgressModel",
            "_view_count": null,
            "_view_module": "@jupyter-widgets/controls",
            "_view_module_version": "1.5.0",
            "_view_name": "ProgressView",
            "bar_style": "success",
            "description": "",
            "description_tooltip": null,
            "layout": "IPY_MODEL_525b23377f534938be77b48a585e8948",
            "max": 1,
            "min": 0,
            "orientation": "horizontal",
            "style": "IPY_MODEL_a4878c5505cb40df89e5ab5f450fe2cf",
            "value": 1
          }
        },
        "00042ef0df974486bc3520b47a8b60a8": {
          "model_module": "@jupyter-widgets/controls",
          "model_name": "HTMLModel",
          "model_module_version": "1.5.0",
          "state": {
            "_dom_classes": [],
            "_model_module": "@jupyter-widgets/controls",
            "_model_module_version": "1.5.0",
            "_model_name": "HTMLModel",
            "_view_count": null,
            "_view_module": "@jupyter-widgets/controls",
            "_view_module_version": "1.5.0",
            "_view_name": "HTMLView",
            "description": "",
            "description_tooltip": null,
            "layout": "IPY_MODEL_34b1ed69f2ae4210a27f4f405de42d3d",
            "placeholder": "​",
            "style": "IPY_MODEL_daaf3414b6fa425eadb2a49a93bad6cb",
            "value": " 1/1 [00:00&lt;00:00, 27.56it/s]"
          }
        },
        "340a5b29aab342b6859adb93fa9582b4": {
          "model_module": "@jupyter-widgets/base",
          "model_name": "LayoutModel",
          "model_module_version": "1.2.0",
          "state": {
            "_model_module": "@jupyter-widgets/base",
            "_model_module_version": "1.2.0",
            "_model_name": "LayoutModel",
            "_view_count": null,
            "_view_module": "@jupyter-widgets/base",
            "_view_module_version": "1.2.0",
            "_view_name": "LayoutView",
            "align_content": null,
            "align_items": null,
            "align_self": null,
            "border": null,
            "bottom": null,
            "display": null,
            "flex": null,
            "flex_flow": null,
            "grid_area": null,
            "grid_auto_columns": null,
            "grid_auto_flow": null,
            "grid_auto_rows": null,
            "grid_column": null,
            "grid_gap": null,
            "grid_row": null,
            "grid_template_areas": null,
            "grid_template_columns": null,
            "grid_template_rows": null,
            "height": null,
            "justify_content": null,
            "justify_items": null,
            "left": null,
            "margin": null,
            "max_height": null,
            "max_width": null,
            "min_height": null,
            "min_width": null,
            "object_fit": null,
            "object_position": null,
            "order": null,
            "overflow": null,
            "overflow_x": null,
            "overflow_y": null,
            "padding": null,
            "right": null,
            "top": null,
            "visibility": null,
            "width": null
          }
        },
        "088b9f2ff4344465b4991b742cbc4d6c": {
          "model_module": "@jupyter-widgets/base",
          "model_name": "LayoutModel",
          "model_module_version": "1.2.0",
          "state": {
            "_model_module": "@jupyter-widgets/base",
            "_model_module_version": "1.2.0",
            "_model_name": "LayoutModel",
            "_view_count": null,
            "_view_module": "@jupyter-widgets/base",
            "_view_module_version": "1.2.0",
            "_view_name": "LayoutView",
            "align_content": null,
            "align_items": null,
            "align_self": null,
            "border": null,
            "bottom": null,
            "display": null,
            "flex": null,
            "flex_flow": null,
            "grid_area": null,
            "grid_auto_columns": null,
            "grid_auto_flow": null,
            "grid_auto_rows": null,
            "grid_column": null,
            "grid_gap": null,
            "grid_row": null,
            "grid_template_areas": null,
            "grid_template_columns": null,
            "grid_template_rows": null,
            "height": null,
            "justify_content": null,
            "justify_items": null,
            "left": null,
            "margin": null,
            "max_height": null,
            "max_width": null,
            "min_height": null,
            "min_width": null,
            "object_fit": null,
            "object_position": null,
            "order": null,
            "overflow": null,
            "overflow_x": null,
            "overflow_y": null,
            "padding": null,
            "right": null,
            "top": null,
            "visibility": null,
            "width": null
          }
        },
        "6c3d8fc60b284977a9ef5772fbb3fd6b": {
          "model_module": "@jupyter-widgets/controls",
          "model_name": "DescriptionStyleModel",
          "model_module_version": "1.5.0",
          "state": {
            "_model_module": "@jupyter-widgets/controls",
            "_model_module_version": "1.5.0",
            "_model_name": "DescriptionStyleModel",
            "_view_count": null,
            "_view_module": "@jupyter-widgets/base",
            "_view_module_version": "1.2.0",
            "_view_name": "StyleView",
            "description_width": ""
          }
        },
        "525b23377f534938be77b48a585e8948": {
          "model_module": "@jupyter-widgets/base",
          "model_name": "LayoutModel",
          "model_module_version": "1.2.0",
          "state": {
            "_model_module": "@jupyter-widgets/base",
            "_model_module_version": "1.2.0",
            "_model_name": "LayoutModel",
            "_view_count": null,
            "_view_module": "@jupyter-widgets/base",
            "_view_module_version": "1.2.0",
            "_view_name": "LayoutView",
            "align_content": null,
            "align_items": null,
            "align_self": null,
            "border": null,
            "bottom": null,
            "display": null,
            "flex": null,
            "flex_flow": null,
            "grid_area": null,
            "grid_auto_columns": null,
            "grid_auto_flow": null,
            "grid_auto_rows": null,
            "grid_column": null,
            "grid_gap": null,
            "grid_row": null,
            "grid_template_areas": null,
            "grid_template_columns": null,
            "grid_template_rows": null,
            "height": null,
            "justify_content": null,
            "justify_items": null,
            "left": null,
            "margin": null,
            "max_height": null,
            "max_width": null,
            "min_height": null,
            "min_width": null,
            "object_fit": null,
            "object_position": null,
            "order": null,
            "overflow": null,
            "overflow_x": null,
            "overflow_y": null,
            "padding": null,
            "right": null,
            "top": null,
            "visibility": null,
            "width": null
          }
        },
        "a4878c5505cb40df89e5ab5f450fe2cf": {
          "model_module": "@jupyter-widgets/controls",
          "model_name": "ProgressStyleModel",
          "model_module_version": "1.5.0",
          "state": {
            "_model_module": "@jupyter-widgets/controls",
            "_model_module_version": "1.5.0",
            "_model_name": "ProgressStyleModel",
            "_view_count": null,
            "_view_module": "@jupyter-widgets/base",
            "_view_module_version": "1.2.0",
            "_view_name": "StyleView",
            "bar_color": null,
            "description_width": ""
          }
        },
        "34b1ed69f2ae4210a27f4f405de42d3d": {
          "model_module": "@jupyter-widgets/base",
          "model_name": "LayoutModel",
          "model_module_version": "1.2.0",
          "state": {
            "_model_module": "@jupyter-widgets/base",
            "_model_module_version": "1.2.0",
            "_model_name": "LayoutModel",
            "_view_count": null,
            "_view_module": "@jupyter-widgets/base",
            "_view_module_version": "1.2.0",
            "_view_name": "LayoutView",
            "align_content": null,
            "align_items": null,
            "align_self": null,
            "border": null,
            "bottom": null,
            "display": null,
            "flex": null,
            "flex_flow": null,
            "grid_area": null,
            "grid_auto_columns": null,
            "grid_auto_flow": null,
            "grid_auto_rows": null,
            "grid_column": null,
            "grid_gap": null,
            "grid_row": null,
            "grid_template_areas": null,
            "grid_template_columns": null,
            "grid_template_rows": null,
            "height": null,
            "justify_content": null,
            "justify_items": null,
            "left": null,
            "margin": null,
            "max_height": null,
            "max_width": null,
            "min_height": null,
            "min_width": null,
            "object_fit": null,
            "object_position": null,
            "order": null,
            "overflow": null,
            "overflow_x": null,
            "overflow_y": null,
            "padding": null,
            "right": null,
            "top": null,
            "visibility": null,
            "width": null
          }
        },
        "daaf3414b6fa425eadb2a49a93bad6cb": {
          "model_module": "@jupyter-widgets/controls",
          "model_name": "DescriptionStyleModel",
          "model_module_version": "1.5.0",
          "state": {
            "_model_module": "@jupyter-widgets/controls",
            "_model_module_version": "1.5.0",
            "_model_name": "DescriptionStyleModel",
            "_view_count": null,
            "_view_module": "@jupyter-widgets/base",
            "_view_module_version": "1.2.0",
            "_view_name": "StyleView",
            "description_width": ""
          }
        }
      }
    }
  },
  "nbformat": 4,
  "nbformat_minor": 0
}