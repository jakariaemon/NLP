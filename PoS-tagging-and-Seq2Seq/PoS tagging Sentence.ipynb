{
 "cells": [
  {
   "cell_type": "code",
   "execution_count": 2,
   "id": "ab87762f",
   "metadata": {},
   "outputs": [
    {
     "name": "stdout",
     "output_type": "stream",
     "text": [
      "['But', 'what', 'makes', 'this', 'so', 'different', 'is', 'that', 'Rachel', 'was', 'not', 'trying', 'to', 'be', 'kind']\n"
     ]
    }
   ],
   "source": [
    "from nltk.tokenize import RegexpTokenizer\n",
    "tokenizer = RegexpTokenizer(r'\\w+')\n",
    "filterdText=tokenizer.tokenize('But what makes this so different is that Rachel was not trying to be kind.')\n",
    "print(filterdText)"
   ]
  },
  {
   "cell_type": "code",
   "execution_count": 8,
   "id": "44498595",
   "metadata": {},
   "outputs": [
    {
     "name": "stdout",
     "output_type": "stream",
     "text": [
      "CC WP VBZ DT RB JJ VBZ IN NNP VBD RB VBG TO VB NN\n"
     ]
    }
   ],
   "source": [
    "import nltk\n",
    "tag = nltk.pos_tag(filterdText)\n",
    "\n",
    "w = [r[1] for r in tag]\n",
    "\n",
    "wStr = \" \".join(w)\n",
    "print(wStr)"
   ]
  },
  {
   "cell_type": "code",
   "execution_count": null,
   "id": "b0344747",
   "metadata": {},
   "outputs": [],
   "source": []
  }
 ],
 "metadata": {
  "kernelspec": {
   "display_name": "Python 3 (ipykernel)",
   "language": "python",
   "name": "python3"
  },
  "language_info": {
   "codemirror_mode": {
    "name": "ipython",
    "version": 3
   },
   "file_extension": ".py",
   "mimetype": "text/x-python",
   "name": "python",
   "nbconvert_exporter": "python",
   "pygments_lexer": "ipython3",
   "version": "3.9.12"
  }
 },
 "nbformat": 4,
 "nbformat_minor": 5
}
